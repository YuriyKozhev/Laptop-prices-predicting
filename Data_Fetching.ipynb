{
 "cells": [
  {
   "cell_type": "code",
   "execution_count": 15,
   "metadata": {},
   "outputs": [],
   "source": [
    "import os\n",
    "import requests\n",
    "from bs4 import BeautifulSoup\n",
    "import textwrap\n",
    "import pandas as pd\n",
    "import lxml  \n",
    "import time\n",
    "from IPython.display import clear_output\n",
    "import numpy as np\n",
    "import seaborn as sns\n",
    "from matplotlib import pyplot as plt\n",
    "from selenium import webdriver\n",
    "from selenium.webdriver.common.desired_capabilities import DesiredCapabilities\n",
    "from selenium.webdriver.chrome.options import Options\n",
    "from time import sleep\n",
    "import re\n",
    "from tqdm import tqdm\n",
    "import psycopg2\n",
    "from sqlalchemy import create_engine"
   ]
  },
  {
   "cell_type": "code",
   "execution_count": 6,
   "metadata": {},
   "outputs": [],
   "source": [
    "class keywords(object):\n",
    "    smartphone = 'smartphone'\n",
    "    notebook = 'notebook'"
   ]
  },
  {
   "cell_type": "code",
   "execution_count": null,
   "metadata": {},
   "outputs": [],
   "source": [
    "# Using selenium app from Docker\n",
    "\n",
    "selenuim_driver = webdriver.Remote(\"http://selenium:4444/wd/hub\", DesiredCapabilities.CHROME)\n",
    "\n",
    "# Using chromedriver and Chrome browser installed somewhere (when running outside Docker container)\n",
    "\n",
    "# chromedriver_path = '_some_path_/chromedriver.exe'\n",
    "# selenuim_driver = webdriver.Chrome(chromedriver_path, options = Options())"
   ]
  },
  {
   "cell_type": "code",
   "execution_count": 12,
   "metadata": {},
   "outputs": [],
   "source": [
    "class Driver(object):\n",
    "    def __init__(self, driver):\n",
    "        self.driver = driver\n",
    "\n",
    "    def getLink(self, link_text, waiting_time = 1, niters = 5, raise_error = True):\n",
    "        for _ in range(niters):\n",
    "            try:\n",
    "                return self.driver.find_element_by_partial_link_text(link_text)\n",
    "            except:\n",
    "                sleep(waiting_time)\n",
    "        \n",
    "        if raise_error:\n",
    "            raise(Exception(\"Driver: Failed to get link\"))\n",
    "        \n",
    "    def getHTML(self, url, waiting_time = 2):\n",
    "        self.driver.get(url)\n",
    "        \n",
    "        sleep(waiting_time)\n",
    "\n",
    "        content = self.driver.page_source\n",
    "\n",
    "        return BeautifulSoup(content, 'html.parser')\n",
    "    \n",
    "    def processRequest(self, url, soup_function, waiting_time = 1, niters = 1, raise_error = True, load_url = True):\n",
    "        if load_url:\n",
    "            self.driver.get(url)\n",
    "            sleep(waiting_time)\n",
    "        \n",
    "        for _ in range(niters):\n",
    "            try:\n",
    "                soup = BeautifulSoup(self.driver.page_source, 'html.parser')\n",
    "                return soup_function(soup)\n",
    "            except:\n",
    "                sleep(waiting_time)\n",
    "        \n",
    "        if raise_error:\n",
    "            raise(Exception(\"Driver: Failed to process request\"))\n",
    "        \n",
    "driver = Driver(selenuim_driver)"
   ]
  },
  {
   "cell_type": "code",
   "execution_count": 13,
   "metadata": {},
   "outputs": [
    {
     "output_type": "stream",
     "name": "stdout",
     "text": [
      "default location is set\n"
     ]
    }
   ],
   "source": [
    "class DNS_shop_parser(object):\n",
    "    def __init__(self, driver):\n",
    "        self.driver = driver\n",
    "        self.root_url = \"https://www.dns-shop.ru\"\n",
    "        self.default_city_en = \"Moscow\"\n",
    "        self.default_city_ru = \"Москва\"\n",
    "        \n",
    "        self.product_urls = {\n",
    "                keywords.smartphone: \"/\".join((self.root_url, 'catalog/17a8a01d16404e77/smartfony')),\n",
    "                keywords.notebook: \"/\".join((self.root_url, 'catalog/17a892f816404e77/noutbuki'))\n",
    "            }\n",
    "        \n",
    "        self.link_keywords = {\n",
    "                keywords.smartphone: [\"Смартфон \"],\n",
    "                keywords.notebook: [\"Ноутбук \", \"Ультрабук \", \"Нетбук \"]\n",
    "            }\n",
    "        \n",
    "        self.link_patterns = {\n",
    "                keywords.smartphone: \" .*?фон \",\n",
    "                keywords.notebook: \" .*?бук \"\n",
    "            }\n",
    "        \n",
    "        self.setDefaultLocation()\n",
    "        \n",
    "    def setDefaultLocation(self):\n",
    "        soup = self.parseURL('/'.join([self.root_url, f'?city={self.default_city_en}']))\n",
    "\n",
    "        current_city = None\n",
    "        try:\n",
    "            current_city = soup.find(\"div\", {\"class\": \"w-choose-city-widget-label\"}).getText()\n",
    "        except:\n",
    "            raise(Exception(\"DNS_shop_parser: Failed to set default location\"))\n",
    "\n",
    "        if current_city == self.default_city_ru:\n",
    "            print('default location is set')\n",
    "        else:\n",
    "            raise(Exception(\"DNS_shop_parser: Failed to set default location\"))\n",
    "        \n",
    "    def parseURL(self, url, waiting_time = 2):\n",
    "        return self.driver.getHTML(url, waiting_time)\n",
    "    \n",
    "    def getPageLinks(self, product_keyword, page_num = 1):\n",
    "        url = self.product_urls[product_keyword]\n",
    "        pattern = self.link_patterns[product_keyword]\n",
    "        \n",
    "        soup = self.parseURL(\"/\".join((url, f'?p={page_num}')))\n",
    "        \n",
    "        return soup.find_all(\"a\", string = re.compile(pattern))\n",
    "    \n",
    "    def parseProductName(self, name, product_keyword):\n",
    "        keywords = self.link_keywords[product_keyword]\n",
    "        \n",
    "        for keyword in keywords:\n",
    "            if re.search(keyword, name) is not None:\n",
    "                return name[name.find(keyword) + len(keyword):]\n",
    "        \n",
    "    def parseRawLinks(self, raw_links, product_keyword):\n",
    "        hrefs = [self.root_url + link.get('href') for link in raw_links]\n",
    "        names = [link.string for link in raw_links]\n",
    "        names = list(map(lambda name: self.parseProductName(name, product_keyword), names))\n",
    "        \n",
    "        return [{'name': name, 'href': href} for (name, href) in zip(names, hrefs)]\n",
    "    \n",
    "    def getAllLinks(self, product_keyword, npages = 100):\n",
    "        page_num = 1\n",
    "        \n",
    "        all_links = []\n",
    "        \n",
    "        for page_num in tqdm(range(1, npages + 1)):          \n",
    "            links = self.getPageLinks(product_keyword, page_num)\n",
    "            \n",
    "            if len(links) == 0:\n",
    "                break\n",
    "            \n",
    "            all_links.extend(links)\n",
    "            sleep(5)\n",
    "            \n",
    "            if page_num % 5 == 0:\n",
    "                pd.DataFrame(self.parseRawLinks(all_links, product_keyword)).\\\n",
    "                        to_csv(f'{product_keyword}_pages.csv', encoding = 'utf-16')\n",
    "\n",
    "        return self.parseRawLinks(all_links, product_keyword)   \n",
    "\n",
    "parser = DNS_shop_parser(driver)"
   ]
  },
  {
   "cell_type": "code",
   "execution_count": 29,
   "metadata": {},
   "outputs": [
    {
     "output_type": "stream",
     "name": "stderr",
     "text": [
      "100%|██████████| 1/1 [00:11<00:00, 11.10s/it]\n"
     ]
    },
    {
     "output_type": "execute_result",
     "data": {
      "text/plain": [
       "([{'name': 'DEXP G450 8 ГБ серый',\n",
       "   'href': 'https://www.dns-shop.ru/product/86c5d33d07813332/5-smartfon-dexp-g450-8-gb-seryj/'},\n",
       "  {'name': 'DEXP G450 8 ГБ синий',\n",
       "   'href': 'https://www.dns-shop.ru/product/d4aa88fc0bf43332/5-smartfon-dexp-g450-8-gb-sinij/'},\n",
       "  {'name': 'Nobby S300 Pro 16 ГБ золотистый',\n",
       "   'href': 'https://www.dns-shop.ru/product/8560f9e6c80f3332/495-smartfon-nobby-s300-pro-16-gb-zolotistyj/'},\n",
       "  {'name': 'Nobby S300 Pro 16 ГБ серый',\n",
       "   'href': 'https://www.dns-shop.ru/product/e833735fc80f3332/495-smartfon-nobby-s300-pro-16-gb-seryj/'},\n",
       "  {'name': 'Nobby S300 Pro 16 ГБ синий',\n",
       "   'href': 'https://www.dns-shop.ru/product/3c314766c8103332/495-smartfon-nobby-s300-pro-16-gb-sinij/'}],\n",
       " 18)"
      ]
     },
     "metadata": {},
     "execution_count": 29
    }
   ],
   "source": [
    "smartphones = parser.getAllLinks(keywords.smartphone, npages = 100)\n",
    "smartphones[:5], len(smartphones)"
   ]
  },
  {
   "cell_type": "code",
   "execution_count": 95,
   "metadata": {},
   "outputs": [
    {
     "name": "stderr",
     "output_type": "stream",
     "text": [
      " 41%|█████████████████████████████████▏                                               | 41/100 [08:05<11:38, 11.83s/it]\n"
     ]
    },
    {
     "data": {
      "text/plain": [
       "([{'name': 'Digma EVE 10 C301 черный',\n",
       "   'href': 'https://www.dns-shop.ru/product/a716b761336f1b80/101-netbuk-digma-eve-10-c301-cernyj/'},\n",
       "  {'name': 'ASUS Laptop E210MA-GJ001T синий',\n",
       "   'href': 'https://www.dns-shop.ru/product/5c01fb1e84773332/116-noutbuk-asus-laptop-e210ma-gj001t-sinij/'},\n",
       "  {'name': 'ASUS Laptop E210MA-GJ002T розовый',\n",
       "   'href': 'https://www.dns-shop.ru/product/62131bcd84773332/116-noutbuk-asus-laptop-e210ma-gj002t-rozovyj/'},\n",
       "  {'name': 'ASUS Laptop E210MA-GJ003T белый',\n",
       "   'href': 'https://www.dns-shop.ru/product/62131bce84773332/116-noutbuk-asus-laptop-e210ma-gj003t-belyj/'},\n",
       "  {'name': 'ASUS Laptop K540BA-GQ613 черный',\n",
       "   'href': 'https://www.dns-shop.ru/product/af32176fcd753332/156-noutbuk-asus-laptop-k540ba-gq613-cernyj/'}],\n",
       " 729)"
      ]
     },
     "execution_count": 95,
     "metadata": {},
     "output_type": "execute_result"
    }
   ],
   "source": [
    "notebooks = parser.getAllLinks(keywords.notebook, npages = 100)\n",
    "notebooks[:5], len(notebooks)"
   ]
  },
  {
   "cell_type": "code",
   "execution_count": 42,
   "metadata": {},
   "outputs": [
    {
     "output_type": "stream",
     "name": "stdout",
     "text": [
      "default location is set\n"
     ]
    }
   ],
   "source": [
    "class DNS_product_parser(object):    \n",
    "    def __init__(self, driver):\n",
    "        self.driver = driver\n",
    "        self.root_url = \"https://www.dns-shop.ru\"\n",
    "        self.default_city_en = \"Moscow\"\n",
    "        self.default_city_ru = \"Москва\"\n",
    "\n",
    "        self.topics_parsers = {\n",
    "            'description': self.getDescription, \n",
    "            'characteristics': self.getCharacteristics, \n",
    "            'opinion': self.getOpinions, \n",
    "            'comment': self.getComments, \n",
    "            'price': self.getPrice,\n",
    "            'rating': self.getRating,\n",
    "        }\n",
    "        \n",
    "        self.setDefaultLocation()\n",
    "        \n",
    "    def setDefaultLocation(self):\n",
    "        soup = self.parseURL('/'.join([self.root_url, f'?city={self.default_city_en}']))\n",
    "\n",
    "        current_city = None\n",
    "        try:\n",
    "            current_city = soup.find(\"div\", {\"class\": \"w-choose-city-widget-label\"}).getText()\n",
    "        except:\n",
    "            raise(Exception(\"DNS_product_parser: Failed to set default location\"))\n",
    "\n",
    "        if current_city == self.default_city_ru:\n",
    "            print('default location is set')\n",
    "        else:\n",
    "            raise(Exception(\"DNS_product_parser: Failed to set default location\"))\n",
    "            \n",
    "    def parseURL(self, url, waiting_time = 2):\n",
    "        return self.driver.getHTML(url, waiting_time)\n",
    "    \n",
    "    def getPrice(self, link):\n",
    "        url = link['href']\n",
    "\n",
    "        soup_function = lambda soup: float(soup.find(\"span\", {\"class\": re.compile(r'^product-card-price__current')})\\\n",
    "                                              .getText()[:-2].replace(' ', ''))\n",
    "        price = self.driver.processRequest(url, soup_function, niters = 100, load_url = False)\n",
    "\n",
    "        return {'price': price}\n",
    "    \n",
    "    def getRating(self, link):\n",
    "        url = link['href']\n",
    "\n",
    "        soup_function = lambda soup: float(soup.find(\"span\", {\"itemprop\": \"ratingValue\"}).getText())\n",
    "        average_rating = self.driver.processRequest(url, soup_function, niters = 3, raise_error = False, load_url = False)\n",
    "        \n",
    "        soup_function = lambda soup: int(soup.find(\"span\", {\"itemprop\": \"ratingCount\"}).getText())\n",
    "        reviews_num = self.driver.processRequest(url, soup_function, niters = 3, raise_error = False, load_url = False)\n",
    "        \n",
    "        return {'average_rating': average_rating, 'reviews_num': reviews_num}\n",
    "\n",
    "    \n",
    "    def getDescription(self, link):\n",
    "        url = link['href'] + 'description'\n",
    "        soup = self.parseURL(url)\n",
    "        description_string = soup.find(\"div\", {\"class\": \"price-item-description\"}).find('p').getText()\n",
    "\n",
    "        return {'description': description_string}\n",
    "    \n",
    "    def getCharacteristics(self, link):\n",
    "        url = link['href'] + 'characteristics'\n",
    "        \n",
    "        soup = self.parseURL(url)\n",
    "        \n",
    "        characteristics_table = soup.find('table')\n",
    "        df = pd.read_html(str(characteristics_table))[0]\n",
    "        df = df.drop(df[df[0] == df[1]].index)\n",
    "        chars_dict = dict(zip(df[0],df[1]))\n",
    "\n",
    "        return chars_dict\n",
    "\n",
    "    def getOpinions(self, link):\n",
    "        url = link['href'] + 'opinion'\n",
    "\n",
    "        soup = self.parseURL(url)\n",
    "        \n",
    "        ratings_num = {}\n",
    "\n",
    "        for i in range(1, 6):\n",
    "            ratings_num[\"rating \" + str(i)] = int(soup.find(\"div\", {\"class\": \"ow-counts\"}).\\\n",
    "                                                  find(\"a\", {\"data-rating\": str(i)}).getText().split()[0])\n",
    "    \n",
    "    def getComments(self, link):\n",
    "        pass\n",
    "    \n",
    "    def parseTopics(self, links, topics = ['characteristics', 'rating', 'price']):\n",
    "        links_values = pd.DataFrame()\n",
    "        \n",
    "        for link in tqdm(links):\n",
    "            link_vals = {}\n",
    "            \n",
    "            brand_name, model_name = link['name'][: link['name'].find(' ')], link['name'][link['name'].find(' ') + 1:]\n",
    "\n",
    "            for topic in topics:\n",
    "                topic_parser = self.topics_parsers[topic]\n",
    "                link_vals.update(topic_parser(link))\n",
    "                \n",
    "            clear_output(wait = True)\n",
    "                \n",
    "            links_values = links_values.append(link_vals, ignore_index = True)\n",
    "            \n",
    "            links_values.to_csv('notebooks.csv', encoding = 'utf-16')\n",
    "            \n",
    "        return links_values\n",
    "\n",
    "product_parser = DNS_product_parser(driver)"
   ]
  },
  {
   "cell_type": "code",
   "execution_count": 102,
   "metadata": {},
   "outputs": [
    {
     "name": "stderr",
     "output_type": "stream",
     "text": [
      "100%|██████████████████████████████████████████████████████████████████████████████| 729/729 [1:59:54<00:00,  9.87s/it]\n"
     ]
    }
   ],
   "source": [
    "links_values = product_parser.parseTopics(notebooks)"
   ]
  },
  {
   "cell_type": "code",
   "execution_count": 36,
   "metadata": {},
   "outputs": [
    {
     "output_type": "execute_result",
     "data": {
      "text/plain": [
       "    CrossFire/SLI-массив SSHD накопитель (объем SSD буфера)  average_rating  \\\n",
       "0                    нет                                нет             1.0   \n",
       "1                    нет                                нет             4.2   \n",
       "2                    нет                                нет             4.7   \n",
       "3                    нет                                нет             4.6   \n",
       "4                    нет                                нет             3.8   \n",
       "..                   ...                                ...             ...   \n",
       "724                  нет                                нет             NaN   \n",
       "725                  нет                                нет             3.0   \n",
       "726                  нет                                нет             NaN   \n",
       "727                  нет                                нет             NaN   \n",
       "728                  нет                                нет             NaN   \n",
       "\n",
       "        price  reviews_num Автоматическое увеличение частоты  \\\n",
       "0     17999.0          1.0                           2.2 ГГц   \n",
       "1     24999.0         17.0                           2.8 ГГц   \n",
       "2     24999.0          3.0                           2.8 ГГц   \n",
       "3     24999.0          9.0                           2.8 ГГц   \n",
       "4     28999.0          9.0                           2.6 ГГц   \n",
       "..        ...          ...                               ...   \n",
       "724  313999.0          NaN                           4.5 ГГц   \n",
       "725  349999.0          2.0                           4.5 ГГц   \n",
       "726  379999.0          NaN                             5 ГГц   \n",
       "727  380999.0          NaN                           4.5 ГГц   \n",
       "728  483999.0          NaN                             5 ГГц   \n",
       "\n",
       "    Архитектура процессора                                   Аудио интерфейсы  \\\n",
       "0                 GoldMont                       3.5 мм jack (микрофон/аудио)   \n",
       "1            Goldmont Plus                       3.5 мм jack (микрофон/аудио)   \n",
       "2            Goldmont Plus                       3.5 мм jack (микрофон/аудио)   \n",
       "3            Goldmont Plus                       3.5 мм jack (микрофон/аудио)   \n",
       "4                Excavator                       3.5 мм jack (микрофон/аудио)   \n",
       "..                     ...                                                ...   \n",
       "724             Comet Lake  3.5 мм jack (наушники), 3.5 мм jack (микрофонный)   \n",
       "725             Comet Lake  3.5 мм jack (наушники), 3.5 мм jack (микрофонный)   \n",
       "726             Comet Lake                       3.5 мм jack (микрофон/аудио)   \n",
       "727             Comet Lake  3.5 мм jack (наушники), 3.5 мм jack (микрофонный)   \n",
       "728            Coffee Lake  3.5 мм jack (наушники), 3.5 мм jack (микрофонный)   \n",
       "\n",
       "    Беспроводные виды доступа в Интернет Веб-камера  ...  \\\n",
       "0                                  Wi-Fi       есть  ...   \n",
       "1                                  Wi-Fi       есть  ...   \n",
       "2                                  Wi-Fi       есть  ...   \n",
       "3                                  Wi-Fi       есть  ...   \n",
       "4                                  Wi-Fi       есть  ...   \n",
       "..                                   ...        ...  ...   \n",
       "724                                Wi-Fi       есть  ...   \n",
       "725                                Wi-Fi       есть  ...   \n",
       "726                                Wi-Fi       есть  ...   \n",
       "727                                Wi-Fi       есть  ...   \n",
       "728                                Wi-Fi       есть  ...   \n",
       "\n",
       "                       Цветовой охват Цифровой блок клавиатуры  Частота  \\\n",
       "0    49% sRGB, 45% NTSC, 34% AdobeRGB                      нет  1.1 ГГц   \n",
       "1                            45% NTSC                     есть  1.1 ГГц   \n",
       "2                            45% NTSC                     есть  1.1 ГГц   \n",
       "3                            45% NTSC                      нет  1.1 ГГц   \n",
       "4                                 NaN                     есть  2.3 ГГц   \n",
       "..                                ...                      ...      ...   \n",
       "724                     100% AdobeRGB                      нет  2.6 ГГц   \n",
       "725                     100% AdobeRGB                      нет  2.6 ГГц   \n",
       "726                     100% AdobeRGB                      нет  2.6 ГГц   \n",
       "727                     100% AdobeRGB                      нет  2.6 ГГц   \n",
       "728                     100% AdobeRGB                сенсорный  2.4 ГГц   \n",
       "\n",
       "    Частота оперативной памяти    Ширина Год релиза  \\\n",
       "0                     2133 МГц    268 мм        NaN   \n",
       "1                     2400 МГц    279 мм     2020.0   \n",
       "2                     2400 МГц    279 мм     2020.0   \n",
       "3                     2133 МГц    279 мм     2020.0   \n",
       "4                     1866 МГц    381 мм     2020.0   \n",
       "..                         ...       ...        ...   \n",
       "724                   2666 МГц  358.5 мм     2020.0   \n",
       "725                   2666 МГц  358.5 мм     2020.0   \n",
       "726                   2933 МГц  358.5 мм     2020.0   \n",
       "727                   2666 МГц  358.5 мм     2020.0   \n",
       "728                   2666 МГц    428 мм     2020.0   \n",
       "\n",
       "    Количество слотов под модули памяти Особенности, дополнительно  \\\n",
       "0                                   NaN                        NaN   \n",
       "1                         интегрирована                  NumberPad   \n",
       "2                         интегрирована                  NumberPad   \n",
       "3                         интегрирована                  NumberPad   \n",
       "4                                     1                        NaN   \n",
       "..                                  ...                        ...   \n",
       "724                                   2                        NaN   \n",
       "725                                   2                        NaN   \n",
       "726                                   2                        NaN   \n",
       "727                                   2                        NaN   \n",
       "728                                   2                        NaN   \n",
       "\n",
       "    Скорость сетевого адаптера Технология динамического обновления экрана  \n",
       "0                          NaN                                        NaN  \n",
       "1                          нет                                        нет  \n",
       "2                          нет                                        нет  \n",
       "3                          нет                                        нет  \n",
       "4                          нет                                        нет  \n",
       "..                         ...                                        ...  \n",
       "724                  1000 Мбит                                        нет  \n",
       "725                  1000 Мбит                                        нет  \n",
       "726                  1000 Мбит                                        нет  \n",
       "727                  1000 Мбит                                        нет  \n",
       "728                  2500 Мбит                                        нет  \n",
       "\n",
       "[729 rows x 85 columns]"
      ],
      "text/html": "<div>\n<style scoped>\n    .dataframe tbody tr th:only-of-type {\n        vertical-align: middle;\n    }\n\n    .dataframe tbody tr th {\n        vertical-align: top;\n    }\n\n    .dataframe thead th {\n        text-align: right;\n    }\n</style>\n<table border=\"1\" class=\"dataframe\">\n  <thead>\n    <tr style=\"text-align: right;\">\n      <th></th>\n      <th>CrossFire/SLI-массив</th>\n      <th>SSHD накопитель (объем SSD буфера)</th>\n      <th>average_rating</th>\n      <th>price</th>\n      <th>reviews_num</th>\n      <th>Автоматическое увеличение частоты</th>\n      <th>Архитектура процессора</th>\n      <th>Аудио интерфейсы</th>\n      <th>Беспроводные виды доступа в Интернет</th>\n      <th>Веб-камера</th>\n      <th>...</th>\n      <th>Цветовой охват</th>\n      <th>Цифровой блок клавиатуры</th>\n      <th>Частота</th>\n      <th>Частота оперативной памяти</th>\n      <th>Ширина</th>\n      <th>Год релиза</th>\n      <th>Количество слотов под модули памяти</th>\n      <th>Особенности, дополнительно</th>\n      <th>Скорость сетевого адаптера</th>\n      <th>Технология динамического обновления экрана</th>\n    </tr>\n  </thead>\n  <tbody>\n    <tr>\n      <th>0</th>\n      <td>нет</td>\n      <td>нет</td>\n      <td>1.0</td>\n      <td>17999.0</td>\n      <td>1.0</td>\n      <td>2.2 ГГц</td>\n      <td>GoldMont</td>\n      <td>3.5 мм jack (микрофон/аудио)</td>\n      <td>Wi-Fi</td>\n      <td>есть</td>\n      <td>...</td>\n      <td>49% sRGB, 45% NTSC, 34% AdobeRGB</td>\n      <td>нет</td>\n      <td>1.1 ГГц</td>\n      <td>2133 МГц</td>\n      <td>268 мм</td>\n      <td>NaN</td>\n      <td>NaN</td>\n      <td>NaN</td>\n      <td>NaN</td>\n      <td>NaN</td>\n    </tr>\n    <tr>\n      <th>1</th>\n      <td>нет</td>\n      <td>нет</td>\n      <td>4.2</td>\n      <td>24999.0</td>\n      <td>17.0</td>\n      <td>2.8 ГГц</td>\n      <td>Goldmont Plus</td>\n      <td>3.5 мм jack (микрофон/аудио)</td>\n      <td>Wi-Fi</td>\n      <td>есть</td>\n      <td>...</td>\n      <td>45% NTSC</td>\n      <td>есть</td>\n      <td>1.1 ГГц</td>\n      <td>2400 МГц</td>\n      <td>279 мм</td>\n      <td>2020.0</td>\n      <td>интегрирована</td>\n      <td>NumberPad</td>\n      <td>нет</td>\n      <td>нет</td>\n    </tr>\n    <tr>\n      <th>2</th>\n      <td>нет</td>\n      <td>нет</td>\n      <td>4.7</td>\n      <td>24999.0</td>\n      <td>3.0</td>\n      <td>2.8 ГГц</td>\n      <td>Goldmont Plus</td>\n      <td>3.5 мм jack (микрофон/аудио)</td>\n      <td>Wi-Fi</td>\n      <td>есть</td>\n      <td>...</td>\n      <td>45% NTSC</td>\n      <td>есть</td>\n      <td>1.1 ГГц</td>\n      <td>2400 МГц</td>\n      <td>279 мм</td>\n      <td>2020.0</td>\n      <td>интегрирована</td>\n      <td>NumberPad</td>\n      <td>нет</td>\n      <td>нет</td>\n    </tr>\n    <tr>\n      <th>3</th>\n      <td>нет</td>\n      <td>нет</td>\n      <td>4.6</td>\n      <td>24999.0</td>\n      <td>9.0</td>\n      <td>2.8 ГГц</td>\n      <td>Goldmont Plus</td>\n      <td>3.5 мм jack (микрофон/аудио)</td>\n      <td>Wi-Fi</td>\n      <td>есть</td>\n      <td>...</td>\n      <td>45% NTSC</td>\n      <td>нет</td>\n      <td>1.1 ГГц</td>\n      <td>2133 МГц</td>\n      <td>279 мм</td>\n      <td>2020.0</td>\n      <td>интегрирована</td>\n      <td>NumberPad</td>\n      <td>нет</td>\n      <td>нет</td>\n    </tr>\n    <tr>\n      <th>4</th>\n      <td>нет</td>\n      <td>нет</td>\n      <td>3.8</td>\n      <td>28999.0</td>\n      <td>9.0</td>\n      <td>2.6 ГГц</td>\n      <td>Excavator</td>\n      <td>3.5 мм jack (микрофон/аудио)</td>\n      <td>Wi-Fi</td>\n      <td>есть</td>\n      <td>...</td>\n      <td>NaN</td>\n      <td>есть</td>\n      <td>2.3 ГГц</td>\n      <td>1866 МГц</td>\n      <td>381 мм</td>\n      <td>2020.0</td>\n      <td>1</td>\n      <td>NaN</td>\n      <td>нет</td>\n      <td>нет</td>\n    </tr>\n    <tr>\n      <th>...</th>\n      <td>...</td>\n      <td>...</td>\n      <td>...</td>\n      <td>...</td>\n      <td>...</td>\n      <td>...</td>\n      <td>...</td>\n      <td>...</td>\n      <td>...</td>\n      <td>...</td>\n      <td>...</td>\n      <td>...</td>\n      <td>...</td>\n      <td>...</td>\n      <td>...</td>\n      <td>...</td>\n      <td>...</td>\n      <td>...</td>\n      <td>...</td>\n      <td>...</td>\n      <td>...</td>\n    </tr>\n    <tr>\n      <th>724</th>\n      <td>нет</td>\n      <td>нет</td>\n      <td>NaN</td>\n      <td>313999.0</td>\n      <td>NaN</td>\n      <td>4.5 ГГц</td>\n      <td>Comet Lake</td>\n      <td>3.5 мм jack (наушники), 3.5 мм jack (микрофонный)</td>\n      <td>Wi-Fi</td>\n      <td>есть</td>\n      <td>...</td>\n      <td>100% AdobeRGB</td>\n      <td>нет</td>\n      <td>2.6 ГГц</td>\n      <td>2666 МГц</td>\n      <td>358.5 мм</td>\n      <td>2020.0</td>\n      <td>2</td>\n      <td>NaN</td>\n      <td>1000 Мбит</td>\n      <td>нет</td>\n    </tr>\n    <tr>\n      <th>725</th>\n      <td>нет</td>\n      <td>нет</td>\n      <td>3.0</td>\n      <td>349999.0</td>\n      <td>2.0</td>\n      <td>4.5 ГГц</td>\n      <td>Comet Lake</td>\n      <td>3.5 мм jack (наушники), 3.5 мм jack (микрофонный)</td>\n      <td>Wi-Fi</td>\n      <td>есть</td>\n      <td>...</td>\n      <td>100% AdobeRGB</td>\n      <td>нет</td>\n      <td>2.6 ГГц</td>\n      <td>2666 МГц</td>\n      <td>358.5 мм</td>\n      <td>2020.0</td>\n      <td>2</td>\n      <td>NaN</td>\n      <td>1000 Мбит</td>\n      <td>нет</td>\n    </tr>\n    <tr>\n      <th>726</th>\n      <td>нет</td>\n      <td>нет</td>\n      <td>NaN</td>\n      <td>379999.0</td>\n      <td>NaN</td>\n      <td>5 ГГц</td>\n      <td>Comet Lake</td>\n      <td>3.5 мм jack (микрофон/аудио)</td>\n      <td>Wi-Fi</td>\n      <td>есть</td>\n      <td>...</td>\n      <td>100% AdobeRGB</td>\n      <td>нет</td>\n      <td>2.6 ГГц</td>\n      <td>2933 МГц</td>\n      <td>358.5 мм</td>\n      <td>2020.0</td>\n      <td>2</td>\n      <td>NaN</td>\n      <td>1000 Мбит</td>\n      <td>нет</td>\n    </tr>\n    <tr>\n      <th>727</th>\n      <td>нет</td>\n      <td>нет</td>\n      <td>NaN</td>\n      <td>380999.0</td>\n      <td>NaN</td>\n      <td>4.5 ГГц</td>\n      <td>Comet Lake</td>\n      <td>3.5 мм jack (наушники), 3.5 мм jack (микрофонный)</td>\n      <td>Wi-Fi</td>\n      <td>есть</td>\n      <td>...</td>\n      <td>100% AdobeRGB</td>\n      <td>нет</td>\n      <td>2.6 ГГц</td>\n      <td>2666 МГц</td>\n      <td>358.5 мм</td>\n      <td>2020.0</td>\n      <td>2</td>\n      <td>NaN</td>\n      <td>1000 Мбит</td>\n      <td>нет</td>\n    </tr>\n    <tr>\n      <th>728</th>\n      <td>нет</td>\n      <td>нет</td>\n      <td>NaN</td>\n      <td>483999.0</td>\n      <td>NaN</td>\n      <td>5 ГГц</td>\n      <td>Coffee Lake</td>\n      <td>3.5 мм jack (наушники), 3.5 мм jack (микрофонный)</td>\n      <td>Wi-Fi</td>\n      <td>есть</td>\n      <td>...</td>\n      <td>100% AdobeRGB</td>\n      <td>сенсорный</td>\n      <td>2.4 ГГц</td>\n      <td>2666 МГц</td>\n      <td>428 мм</td>\n      <td>2020.0</td>\n      <td>2</td>\n      <td>NaN</td>\n      <td>2500 Мбит</td>\n      <td>нет</td>\n    </tr>\n  </tbody>\n</table>\n<p>729 rows × 85 columns</p>\n</div>"
     },
     "metadata": {},
     "execution_count": 36
    }
   ],
   "source": [
    "links_values"
   ]
  },
  {
   "cell_type": "code",
   "execution_count": 2,
   "metadata": {},
   "outputs": [
    {
     "output_type": "execute_result",
     "data": {
      "text/plain": [
       "                                                  name  \\\n",
       "0                             Digma EVE 10 C301 черный   \n",
       "1                      ASUS Laptop E210MA-GJ001T синий   \n",
       "2                    ASUS Laptop E210MA-GJ002T розовый   \n",
       "3                      ASUS Laptop E210MA-GJ003T белый   \n",
       "4                      ASUS Laptop K540BA-GQ613 черный   \n",
       "..                                                 ...   \n",
       "715      Apple MacBook Pro Retina TB (MVVK2RU/A) серый   \n",
       "716  Apple MacBook Pro Retina TB (MVVM2RU/A) серебр...   \n",
       "717           Acer ConceptD 7 Pro CN715-71P-79QK белый   \n",
       "718      Acer Predator Helios 700 PH717-72-94AW черный   \n",
       "719           Acer ConceptD 7 Ezel CC715-71-74JU белый   \n",
       "\n",
       "                                                  href  \n",
       "0    https://www.dns-shop.ru/product/a716b761336f1b...  \n",
       "1    https://www.dns-shop.ru/product/5c01fb1e847733...  \n",
       "2    https://www.dns-shop.ru/product/62131bcd847733...  \n",
       "3    https://www.dns-shop.ru/product/62131bce847733...  \n",
       "4    https://www.dns-shop.ru/product/af32176fcd7533...  \n",
       "..                                                 ...  \n",
       "715  https://www.dns-shop.ru/product/c2682529067733...  \n",
       "716  https://www.dns-shop.ru/product/6dd67002067833...  \n",
       "717  https://www.dns-shop.ru/product/61ff6a29d60333...  \n",
       "718  https://www.dns-shop.ru/product/4f947950dd2433...  \n",
       "719  https://www.dns-shop.ru/product/ba0d43172d5c33...  \n",
       "\n",
       "[720 rows x 2 columns]"
      ],
      "text/html": "<div>\n<style scoped>\n    .dataframe tbody tr th:only-of-type {\n        vertical-align: middle;\n    }\n\n    .dataframe tbody tr th {\n        vertical-align: top;\n    }\n\n    .dataframe thead th {\n        text-align: right;\n    }\n</style>\n<table border=\"1\" class=\"dataframe\">\n  <thead>\n    <tr style=\"text-align: right;\">\n      <th></th>\n      <th>name</th>\n      <th>href</th>\n    </tr>\n  </thead>\n  <tbody>\n    <tr>\n      <th>0</th>\n      <td>Digma EVE 10 C301 черный</td>\n      <td>https://www.dns-shop.ru/product/a716b761336f1b...</td>\n    </tr>\n    <tr>\n      <th>1</th>\n      <td>ASUS Laptop E210MA-GJ001T синий</td>\n      <td>https://www.dns-shop.ru/product/5c01fb1e847733...</td>\n    </tr>\n    <tr>\n      <th>2</th>\n      <td>ASUS Laptop E210MA-GJ002T розовый</td>\n      <td>https://www.dns-shop.ru/product/62131bcd847733...</td>\n    </tr>\n    <tr>\n      <th>3</th>\n      <td>ASUS Laptop E210MA-GJ003T белый</td>\n      <td>https://www.dns-shop.ru/product/62131bce847733...</td>\n    </tr>\n    <tr>\n      <th>4</th>\n      <td>ASUS Laptop K540BA-GQ613 черный</td>\n      <td>https://www.dns-shop.ru/product/af32176fcd7533...</td>\n    </tr>\n    <tr>\n      <th>...</th>\n      <td>...</td>\n      <td>...</td>\n    </tr>\n    <tr>\n      <th>715</th>\n      <td>Apple MacBook Pro Retina TB (MVVK2RU/A) серый</td>\n      <td>https://www.dns-shop.ru/product/c2682529067733...</td>\n    </tr>\n    <tr>\n      <th>716</th>\n      <td>Apple MacBook Pro Retina TB (MVVM2RU/A) серебр...</td>\n      <td>https://www.dns-shop.ru/product/6dd67002067833...</td>\n    </tr>\n    <tr>\n      <th>717</th>\n      <td>Acer ConceptD 7 Pro CN715-71P-79QK белый</td>\n      <td>https://www.dns-shop.ru/product/61ff6a29d60333...</td>\n    </tr>\n    <tr>\n      <th>718</th>\n      <td>Acer Predator Helios 700 PH717-72-94AW черный</td>\n      <td>https://www.dns-shop.ru/product/4f947950dd2433...</td>\n    </tr>\n    <tr>\n      <th>719</th>\n      <td>Acer ConceptD 7 Ezel CC715-71-74JU белый</td>\n      <td>https://www.dns-shop.ru/product/ba0d43172d5c33...</td>\n    </tr>\n  </tbody>\n</table>\n<p>720 rows × 2 columns</p>\n</div>"
     },
     "metadata": {},
     "execution_count": 2
    }
   ],
   "source": [
    "notebooks = pd.read_csv('notebook_pages.csv', encoding = 'utf-16', index_col = 0)\n",
    "notebooks"
   ]
  },
  {
   "cell_type": "code",
   "execution_count": 45,
   "metadata": {},
   "outputs": [
    {
     "output_type": "execute_result",
     "data": {
      "text/plain": [
       "{'Гарантия': '12 мес.',\n",
       " 'Страна-производитель': 'Китай',\n",
       " 'Тип': 'нетбук',\n",
       " 'Операционная система': 'Windows 10 Home',\n",
       " 'Модель': 'Digma EVE 10 C301',\n",
       " 'Код производителя': 'ES1050EW',\n",
       " 'Год релиза': '2020',\n",
       " 'Игровой ноутбук': 'нет',\n",
       " 'Цвет верхней крышки': 'черный',\n",
       " 'Материал корпуса': 'пластик',\n",
       " 'Конструктивное исполнение': 'классический',\n",
       " 'Цифровой блок клавиатуры': 'нет',\n",
       " 'Подсветка клавиш': 'нет',\n",
       " 'Тип экрана': 'IPS',\n",
       " 'Диагональ экрана (дюйм)': '10.1\"',\n",
       " 'Разрешение экрана': '1280x800',\n",
       " 'Название формата': 'HD',\n",
       " 'Время отклика пикселя': '30 мс',\n",
       " 'Плотность пикселей': '149 ppi',\n",
       " 'Максимальная частота обновления экрана': '60 Гц',\n",
       " 'Цветовой охват': '49% sRGB, 34% AdobeRGB, 45% NTSC',\n",
       " 'Покрытие экрана': 'матовое',\n",
       " 'Сенсорный экран': 'нет',\n",
       " 'Производитель процессора': 'Intel',\n",
       " 'Линейка процессора': 'Celeron',\n",
       " 'Модель процессора': 'N3450',\n",
       " 'Количество ядер процессора': '4',\n",
       " 'Максимальное число потоков': '4',\n",
       " 'Частота': '1.1 ГГц',\n",
       " 'Автоматическое увеличение частоты': '2.2 ГГц',\n",
       " 'Кэш L2': '2 МБ',\n",
       " 'Кэш L3': 'нет',\n",
       " 'Архитектура процессора': 'GoldMont',\n",
       " 'Технологический процесс': '14 нм',\n",
       " 'Тип оперативной памяти': 'DDR4',\n",
       " 'Частота оперативной памяти': '2133 МГц',\n",
       " 'Объем оперативной памяти': '3 ГБ',\n",
       " 'Максимальный объем памяти': 'не добавляется',\n",
       " 'Вид графического ускорителя': 'встроенный',\n",
       " 'Производитель видеочипа': 'Intel',\n",
       " 'Модель дискретной видеокарты': 'нет',\n",
       " 'Технологии Max-Q': 'нет',\n",
       " 'Тип видеопамяти': 'SMA',\n",
       " 'Объем видеопамяти': 'выделяется из оперативной',\n",
       " 'Модель встроенной видеокарты': 'Intel HD Graphics 500',\n",
       " 'CrossFire/SLI-массив': 'нет',\n",
       " 'Общий объем жестких дисков (HDD)': 'нет',\n",
       " 'Общий объем твердотельных накопителей (SSD)': 'нет',\n",
       " 'Объем накопителя eMMC': '32 ГБ',\n",
       " 'SSHD накопитель (объем SSD буфера)': 'нет',\n",
       " 'Конфигурация накопителей': 'eMMC',\n",
       " 'Объем накопителя Intel Optane': 'нет',\n",
       " 'Скорость вращения шпинделя': 'нет',\n",
       " 'Разъем M.2': 'нет',\n",
       " 'Веб-камера': 'есть',\n",
       " 'Расширенная акустическая система': 'стереодинамики',\n",
       " 'Встроенный микрофон': 'есть',\n",
       " 'Поддержка карт памяти кард-ридером': 'micro SD',\n",
       " 'Оптический привод': 'нет',\n",
       " 'Беспроводные виды доступа в Интернет': 'Wi-Fi',\n",
       " 'Стандарт Wi-Fi': '4 (802.11n)',\n",
       " 'Вид сетевого адаптера (Ethernet)': 'нет',\n",
       " 'Поддержка дополнительных видов передачи данных': 'Bluetooth 4.0',\n",
       " 'USB разъем 2.0': '1',\n",
       " 'USB разъем 3.х': '1',\n",
       " 'USB разъем Type-C': 'нет',\n",
       " 'Видео разъемы': 'micro HDMI',\n",
       " 'Аудио разъемы': '3.5 мм jack (микрофон/аудио)',\n",
       " 'Дополнительные интерфейсы': 'разъем tv-out',\n",
       " 'Тип аккумулятора': 'Li-Ion',\n",
       " 'Емкость аккумулятора': '30 Вт*ч',\n",
       " 'Приблизительное время автономной работы': '4.5 ч',\n",
       " 'Поддержка USB Power Delivery': 'нет',\n",
       " 'Напряжение адаптера питания': '100-240 В/50-60 Гц',\n",
       " 'Выходная мощность адаптера питания': '24 Вт',\n",
       " 'Комплектация': 'адаптер питания, документация',\n",
       " 'Сканер отпечатка пальца': 'нет',\n",
       " 'Кенсингтонский замок': 'нет',\n",
       " 'Глубина': '190 мм',\n",
       " 'Ширина': '268 мм',\n",
       " 'Толщина': '13 мм',\n",
       " 'Вес': '0.935 кг'}"
      ]
     },
     "metadata": {},
     "execution_count": 45
    }
   ],
   "source": [
    "product_parser.getCharacteristics(notebooks.iloc[0])"
   ]
  },
  {
   "cell_type": "code",
   "execution_count": 27,
   "metadata": {},
   "outputs": [],
   "source": [
    "conn_string = \"host = 'db' dbname = 'postgres' user = 'postgres' password = 'admin'\"\n",
    "conn = psycopg2.connect(conn_string)"
   ]
  },
  {
   "cell_type": "code",
   "execution_count": 31,
   "metadata": {},
   "outputs": [],
   "source": [
    "cursor = conn.cursor()\n",
    "cursor.execute('DROP TABLE IF EXISTS notebook_models')\n",
    "cursor.execute('COMMIT')"
   ]
  },
  {
   "cell_type": "code",
   "execution_count": 32,
   "metadata": {},
   "outputs": [],
   "source": [
    "engine = create_engine('postgresql://postgres:admin@db:5432/postgres')"
   ]
  },
  {
   "cell_type": "code",
   "execution_count": 33,
   "metadata": {},
   "outputs": [],
   "source": [
    "notebooks.to_sql('notebook_models', engine)"
   ]
  },
  {
   "cell_type": "code",
   "execution_count": 34,
   "metadata": {},
   "outputs": [
    {
     "output_type": "execute_result",
     "data": {
      "text/plain": [
       "[(0,\n",
       "  'Digma EVE 10 C301 черный',\n",
       "  'https://www.dns-shop.ru/product/a716b761336f1b80/101-netbuk-digma-eve-10-c301-cernyj/'),\n",
       " (1,\n",
       "  'ASUS Laptop E210MA-GJ001T синий',\n",
       "  'https://www.dns-shop.ru/product/5c01fb1e84773332/116-noutbuk-asus-laptop-e210ma-gj001t-sinij/')]"
      ]
     },
     "metadata": {},
     "execution_count": 34
    }
   ],
   "source": [
    "cursor = conn.cursor()\n",
    "cursor.execute('SELECT * FROM notebook_models LIMIT 2')\n",
    "cursor.fetchall() "
   ]
  },
  {
   "cell_type": "code",
   "execution_count": 35,
   "metadata": {},
   "outputs": [
    {
     "output_type": "execute_result",
     "data": {
      "text/plain": [
       "     index                                               name  \\\n",
       "0        0                           Digma EVE 10 C301 черный   \n",
       "1        1                    ASUS Laptop E210MA-GJ001T синий   \n",
       "2        2                  ASUS Laptop E210MA-GJ002T розовый   \n",
       "3        3                    ASUS Laptop E210MA-GJ003T белый   \n",
       "4        4                    ASUS Laptop K540BA-GQ613 черный   \n",
       "..     ...                                                ...   \n",
       "715    715      Apple MacBook Pro Retina TB (MVVK2RU/A) серый   \n",
       "716    716  Apple MacBook Pro Retina TB (MVVM2RU/A) серебр...   \n",
       "717    717           Acer ConceptD 7 Pro CN715-71P-79QK белый   \n",
       "718    718      Acer Predator Helios 700 PH717-72-94AW черный   \n",
       "719    719           Acer ConceptD 7 Ezel CC715-71-74JU белый   \n",
       "\n",
       "                                                  href  \n",
       "0    https://www.dns-shop.ru/product/a716b761336f1b...  \n",
       "1    https://www.dns-shop.ru/product/5c01fb1e847733...  \n",
       "2    https://www.dns-shop.ru/product/62131bcd847733...  \n",
       "3    https://www.dns-shop.ru/product/62131bce847733...  \n",
       "4    https://www.dns-shop.ru/product/af32176fcd7533...  \n",
       "..                                                 ...  \n",
       "715  https://www.dns-shop.ru/product/c2682529067733...  \n",
       "716  https://www.dns-shop.ru/product/6dd67002067833...  \n",
       "717  https://www.dns-shop.ru/product/61ff6a29d60333...  \n",
       "718  https://www.dns-shop.ru/product/4f947950dd2433...  \n",
       "719  https://www.dns-shop.ru/product/ba0d43172d5c33...  \n",
       "\n",
       "[720 rows x 3 columns]"
      ],
      "text/html": "<div>\n<style scoped>\n    .dataframe tbody tr th:only-of-type {\n        vertical-align: middle;\n    }\n\n    .dataframe tbody tr th {\n        vertical-align: top;\n    }\n\n    .dataframe thead th {\n        text-align: right;\n    }\n</style>\n<table border=\"1\" class=\"dataframe\">\n  <thead>\n    <tr style=\"text-align: right;\">\n      <th></th>\n      <th>index</th>\n      <th>name</th>\n      <th>href</th>\n    </tr>\n  </thead>\n  <tbody>\n    <tr>\n      <th>0</th>\n      <td>0</td>\n      <td>Digma EVE 10 C301 черный</td>\n      <td>https://www.dns-shop.ru/product/a716b761336f1b...</td>\n    </tr>\n    <tr>\n      <th>1</th>\n      <td>1</td>\n      <td>ASUS Laptop E210MA-GJ001T синий</td>\n      <td>https://www.dns-shop.ru/product/5c01fb1e847733...</td>\n    </tr>\n    <tr>\n      <th>2</th>\n      <td>2</td>\n      <td>ASUS Laptop E210MA-GJ002T розовый</td>\n      <td>https://www.dns-shop.ru/product/62131bcd847733...</td>\n    </tr>\n    <tr>\n      <th>3</th>\n      <td>3</td>\n      <td>ASUS Laptop E210MA-GJ003T белый</td>\n      <td>https://www.dns-shop.ru/product/62131bce847733...</td>\n    </tr>\n    <tr>\n      <th>4</th>\n      <td>4</td>\n      <td>ASUS Laptop K540BA-GQ613 черный</td>\n      <td>https://www.dns-shop.ru/product/af32176fcd7533...</td>\n    </tr>\n    <tr>\n      <th>...</th>\n      <td>...</td>\n      <td>...</td>\n      <td>...</td>\n    </tr>\n    <tr>\n      <th>715</th>\n      <td>715</td>\n      <td>Apple MacBook Pro Retina TB (MVVK2RU/A) серый</td>\n      <td>https://www.dns-shop.ru/product/c2682529067733...</td>\n    </tr>\n    <tr>\n      <th>716</th>\n      <td>716</td>\n      <td>Apple MacBook Pro Retina TB (MVVM2RU/A) серебр...</td>\n      <td>https://www.dns-shop.ru/product/6dd67002067833...</td>\n    </tr>\n    <tr>\n      <th>717</th>\n      <td>717</td>\n      <td>Acer ConceptD 7 Pro CN715-71P-79QK белый</td>\n      <td>https://www.dns-shop.ru/product/61ff6a29d60333...</td>\n    </tr>\n    <tr>\n      <th>718</th>\n      <td>718</td>\n      <td>Acer Predator Helios 700 PH717-72-94AW черный</td>\n      <td>https://www.dns-shop.ru/product/4f947950dd2433...</td>\n    </tr>\n    <tr>\n      <th>719</th>\n      <td>719</td>\n      <td>Acer ConceptD 7 Ezel CC715-71-74JU белый</td>\n      <td>https://www.dns-shop.ru/product/ba0d43172d5c33...</td>\n    </tr>\n  </tbody>\n</table>\n<p>720 rows × 3 columns</p>\n</div>"
     },
     "metadata": {},
     "execution_count": 35
    }
   ],
   "source": [
    "pd.read_sql_query(\"SELECT * FROM notebook_models\", con = engine)"
   ]
  },
  {
   "cell_type": "code",
   "execution_count": null,
   "metadata": {},
   "outputs": [],
   "source": []
  }
 ],
 "metadata": {
  "kernelspec": {
   "display_name": "Python 3",
   "language": "python",
   "name": "python3"
  },
  "language_info": {
   "codemirror_mode": {
    "name": "ipython",
    "version": 3
   },
   "file_extension": ".py",
   "mimetype": "text/x-python",
   "name": "python",
   "nbconvert_exporter": "python",
   "pygments_lexer": "ipython3",
   "version": "3.8.6-final"
  }
 },
 "nbformat": 4,
 "nbformat_minor": 4
}
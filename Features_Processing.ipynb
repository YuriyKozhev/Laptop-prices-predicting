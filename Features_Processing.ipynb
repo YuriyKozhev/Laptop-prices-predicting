{
 "cells": [
  {
   "cell_type": "code",
   "execution_count": 88,
   "metadata": {},
   "outputs": [],
   "source": [
    "import os\n",
    "import requests\n",
    "from bs4 import BeautifulSoup\n",
    "import textwrap\n",
    "import pandas as pd\n",
    "import lxml  \n",
    "import time\n",
    "from IPython.display import clear_output\n",
    "import numpy as np\n",
    "import seaborn as sns\n",
    "from matplotlib import pyplot as plt\n",
    "from selenium import webdriver\n",
    "from selenium.webdriver.chrome.options import Options\n",
    "from time import sleep\n",
    "import re\n",
    "from tqdm import tqdm\n",
    "from functools import reduce"
   ]
  },
  {
   "cell_type": "code",
   "execution_count": 89,
   "metadata": {},
   "outputs": [
    {
     "data": {
      "text/html": [
       "<div>\n",
       "<style scoped>\n",
       "    .dataframe tbody tr th:only-of-type {\n",
       "        vertical-align: middle;\n",
       "    }\n",
       "\n",
       "    .dataframe tbody tr th {\n",
       "        vertical-align: top;\n",
       "    }\n",
       "\n",
       "    .dataframe thead th {\n",
       "        text-align: right;\n",
       "    }\n",
       "</style>\n",
       "<table border=\"1\" class=\"dataframe\">\n",
       "  <thead>\n",
       "    <tr style=\"text-align: right;\">\n",
       "      <th></th>\n",
       "      <th>average_rating</th>\n",
       "      <th>price</th>\n",
       "      <th>reviews_num</th>\n",
       "      <th>max_cpu_frequency</th>\n",
       "      <th>cpu_architecture</th>\n",
       "      <th>web_camera</th>\n",
       "      <th>weight</th>\n",
       "      <th>ethernet_adapter</th>\n",
       "      <th>pixel_response_time</th>\n",
       "      <th>microphone</th>\n",
       "      <th>...</th>\n",
       "      <th>micro_sdhc</th>\n",
       "      <th>micro_sdxc</th>\n",
       "      <th>glossy_display</th>\n",
       "      <th>screen_width_pixels</th>\n",
       "      <th>screen_height_pixels</th>\n",
       "      <th>hdd_increased_speed</th>\n",
       "      <th>best_wi_fi_standard</th>\n",
       "      <th>li_ion_battery_type</th>\n",
       "      <th>ultrabook</th>\n",
       "      <th>touch_numeric_keypad</th>\n",
       "    </tr>\n",
       "  </thead>\n",
       "  <tbody>\n",
       "    <tr>\n",
       "      <th>0</th>\n",
       "      <td>1.0</td>\n",
       "      <td>17999.0</td>\n",
       "      <td>1.0</td>\n",
       "      <td>2.2</td>\n",
       "      <td>GoldMont</td>\n",
       "      <td>True</td>\n",
       "      <td>0.935</td>\n",
       "      <td>False</td>\n",
       "      <td>30.0</td>\n",
       "      <td>True</td>\n",
       "      <td>...</td>\n",
       "      <td>False</td>\n",
       "      <td>False</td>\n",
       "      <td>0.0</td>\n",
       "      <td>1280</td>\n",
       "      <td>800</td>\n",
       "      <td>False</td>\n",
       "      <td>4</td>\n",
       "      <td>True</td>\n",
       "      <td>False</td>\n",
       "      <td>False</td>\n",
       "    </tr>\n",
       "    <tr>\n",
       "      <th>1</th>\n",
       "      <td>4.2</td>\n",
       "      <td>24999.0</td>\n",
       "      <td>17.0</td>\n",
       "      <td>2.8</td>\n",
       "      <td>Goldmont Plus</td>\n",
       "      <td>True</td>\n",
       "      <td>1.050</td>\n",
       "      <td>False</td>\n",
       "      <td>NaN</td>\n",
       "      <td>True</td>\n",
       "      <td>...</td>\n",
       "      <td>True</td>\n",
       "      <td>True</td>\n",
       "      <td>0.0</td>\n",
       "      <td>1366</td>\n",
       "      <td>768</td>\n",
       "      <td>False</td>\n",
       "      <td>5</td>\n",
       "      <td>True</td>\n",
       "      <td>False</td>\n",
       "      <td>False</td>\n",
       "    </tr>\n",
       "    <tr>\n",
       "      <th>2</th>\n",
       "      <td>4.7</td>\n",
       "      <td>24999.0</td>\n",
       "      <td>3.0</td>\n",
       "      <td>2.8</td>\n",
       "      <td>Goldmont Plus</td>\n",
       "      <td>True</td>\n",
       "      <td>1.050</td>\n",
       "      <td>False</td>\n",
       "      <td>NaN</td>\n",
       "      <td>True</td>\n",
       "      <td>...</td>\n",
       "      <td>True</td>\n",
       "      <td>True</td>\n",
       "      <td>0.0</td>\n",
       "      <td>1366</td>\n",
       "      <td>768</td>\n",
       "      <td>False</td>\n",
       "      <td>5</td>\n",
       "      <td>False</td>\n",
       "      <td>False</td>\n",
       "      <td>False</td>\n",
       "    </tr>\n",
       "    <tr>\n",
       "      <th>3</th>\n",
       "      <td>4.6</td>\n",
       "      <td>24999.0</td>\n",
       "      <td>9.0</td>\n",
       "      <td>2.8</td>\n",
       "      <td>Goldmont Plus</td>\n",
       "      <td>True</td>\n",
       "      <td>1.050</td>\n",
       "      <td>False</td>\n",
       "      <td>NaN</td>\n",
       "      <td>True</td>\n",
       "      <td>...</td>\n",
       "      <td>True</td>\n",
       "      <td>True</td>\n",
       "      <td>0.0</td>\n",
       "      <td>1366</td>\n",
       "      <td>768</td>\n",
       "      <td>False</td>\n",
       "      <td>5</td>\n",
       "      <td>True</td>\n",
       "      <td>False</td>\n",
       "      <td>False</td>\n",
       "    </tr>\n",
       "    <tr>\n",
       "      <th>4</th>\n",
       "      <td>3.8</td>\n",
       "      <td>28999.0</td>\n",
       "      <td>9.0</td>\n",
       "      <td>2.6</td>\n",
       "      <td>Excavator</td>\n",
       "      <td>True</td>\n",
       "      <td>2.000</td>\n",
       "      <td>False</td>\n",
       "      <td>NaN</td>\n",
       "      <td>True</td>\n",
       "      <td>...</td>\n",
       "      <td>True</td>\n",
       "      <td>True</td>\n",
       "      <td>0.0</td>\n",
       "      <td>1366</td>\n",
       "      <td>768</td>\n",
       "      <td>False</td>\n",
       "      <td>5</td>\n",
       "      <td>True</td>\n",
       "      <td>False</td>\n",
       "      <td>False</td>\n",
       "    </tr>\n",
       "    <tr>\n",
       "      <th>...</th>\n",
       "      <td>...</td>\n",
       "      <td>...</td>\n",
       "      <td>...</td>\n",
       "      <td>...</td>\n",
       "      <td>...</td>\n",
       "      <td>...</td>\n",
       "      <td>...</td>\n",
       "      <td>...</td>\n",
       "      <td>...</td>\n",
       "      <td>...</td>\n",
       "      <td>...</td>\n",
       "      <td>...</td>\n",
       "      <td>...</td>\n",
       "      <td>...</td>\n",
       "      <td>...</td>\n",
       "      <td>...</td>\n",
       "      <td>...</td>\n",
       "      <td>...</td>\n",
       "      <td>...</td>\n",
       "      <td>...</td>\n",
       "      <td>...</td>\n",
       "    </tr>\n",
       "    <tr>\n",
       "      <th>724</th>\n",
       "      <td>NaN</td>\n",
       "      <td>313999.0</td>\n",
       "      <td>NaN</td>\n",
       "      <td>4.5</td>\n",
       "      <td>Comet Lake</td>\n",
       "      <td>True</td>\n",
       "      <td>2.100</td>\n",
       "      <td>True</td>\n",
       "      <td>NaN</td>\n",
       "      <td>True</td>\n",
       "      <td>...</td>\n",
       "      <td>False</td>\n",
       "      <td>False</td>\n",
       "      <td>0.0</td>\n",
       "      <td>3840</td>\n",
       "      <td>2160</td>\n",
       "      <td>False</td>\n",
       "      <td>6</td>\n",
       "      <td>True</td>\n",
       "      <td>False</td>\n",
       "      <td>False</td>\n",
       "    </tr>\n",
       "    <tr>\n",
       "      <th>725</th>\n",
       "      <td>3.0</td>\n",
       "      <td>349999.0</td>\n",
       "      <td>2.0</td>\n",
       "      <td>4.5</td>\n",
       "      <td>Comet Lake</td>\n",
       "      <td>True</td>\n",
       "      <td>2.100</td>\n",
       "      <td>True</td>\n",
       "      <td>NaN</td>\n",
       "      <td>True</td>\n",
       "      <td>...</td>\n",
       "      <td>False</td>\n",
       "      <td>False</td>\n",
       "      <td>0.0</td>\n",
       "      <td>3840</td>\n",
       "      <td>2160</td>\n",
       "      <td>False</td>\n",
       "      <td>5</td>\n",
       "      <td>True</td>\n",
       "      <td>False</td>\n",
       "      <td>False</td>\n",
       "    </tr>\n",
       "    <tr>\n",
       "      <th>726</th>\n",
       "      <td>NaN</td>\n",
       "      <td>379999.0</td>\n",
       "      <td>NaN</td>\n",
       "      <td>5.0</td>\n",
       "      <td>Comet Lake</td>\n",
       "      <td>True</td>\n",
       "      <td>2.540</td>\n",
       "      <td>True</td>\n",
       "      <td>NaN</td>\n",
       "      <td>True</td>\n",
       "      <td>...</td>\n",
       "      <td>False</td>\n",
       "      <td>False</td>\n",
       "      <td>0.0</td>\n",
       "      <td>3840</td>\n",
       "      <td>2160</td>\n",
       "      <td>False</td>\n",
       "      <td>6</td>\n",
       "      <td>True</td>\n",
       "      <td>False</td>\n",
       "      <td>False</td>\n",
       "    </tr>\n",
       "    <tr>\n",
       "      <th>727</th>\n",
       "      <td>NaN</td>\n",
       "      <td>380999.0</td>\n",
       "      <td>NaN</td>\n",
       "      <td>4.5</td>\n",
       "      <td>Comet Lake</td>\n",
       "      <td>True</td>\n",
       "      <td>2.100</td>\n",
       "      <td>True</td>\n",
       "      <td>NaN</td>\n",
       "      <td>True</td>\n",
       "      <td>...</td>\n",
       "      <td>False</td>\n",
       "      <td>False</td>\n",
       "      <td>0.0</td>\n",
       "      <td>3840</td>\n",
       "      <td>2160</td>\n",
       "      <td>False</td>\n",
       "      <td>5</td>\n",
       "      <td>True</td>\n",
       "      <td>False</td>\n",
       "      <td>False</td>\n",
       "    </tr>\n",
       "    <tr>\n",
       "      <th>728</th>\n",
       "      <td>NaN</td>\n",
       "      <td>483999.0</td>\n",
       "      <td>NaN</td>\n",
       "      <td>5.0</td>\n",
       "      <td>Coffee Lake</td>\n",
       "      <td>True</td>\n",
       "      <td>4.500</td>\n",
       "      <td>True</td>\n",
       "      <td>NaN</td>\n",
       "      <td>True</td>\n",
       "      <td>...</td>\n",
       "      <td>False</td>\n",
       "      <td>False</td>\n",
       "      <td>0.0</td>\n",
       "      <td>3840</td>\n",
       "      <td>2160</td>\n",
       "      <td>False</td>\n",
       "      <td>6</td>\n",
       "      <td>True</td>\n",
       "      <td>False</td>\n",
       "      <td>True</td>\n",
       "    </tr>\n",
       "  </tbody>\n",
       "</table>\n",
       "<p>729 rows × 108 columns</p>\n",
       "</div>"
      ],
      "text/plain": [
       "     average_rating     price  reviews_num  max_cpu_frequency  \\\n",
       "0               1.0   17999.0          1.0                2.2   \n",
       "1               4.2   24999.0         17.0                2.8   \n",
       "2               4.7   24999.0          3.0                2.8   \n",
       "3               4.6   24999.0          9.0                2.8   \n",
       "4               3.8   28999.0          9.0                2.6   \n",
       "..              ...       ...          ...                ...   \n",
       "724             NaN  313999.0          NaN                4.5   \n",
       "725             3.0  349999.0          2.0                4.5   \n",
       "726             NaN  379999.0          NaN                5.0   \n",
       "727             NaN  380999.0          NaN                4.5   \n",
       "728             NaN  483999.0          NaN                5.0   \n",
       "\n",
       "    cpu_architecture  web_camera  weight  ethernet_adapter  \\\n",
       "0           GoldMont        True   0.935             False   \n",
       "1      Goldmont Plus        True   1.050             False   \n",
       "2      Goldmont Plus        True   1.050             False   \n",
       "3      Goldmont Plus        True   1.050             False   \n",
       "4          Excavator        True   2.000             False   \n",
       "..               ...         ...     ...               ...   \n",
       "724       Comet Lake        True   2.100              True   \n",
       "725       Comet Lake        True   2.100              True   \n",
       "726       Comet Lake        True   2.540              True   \n",
       "727       Comet Lake        True   2.100              True   \n",
       "728      Coffee Lake        True   4.500              True   \n",
       "\n",
       "     pixel_response_time  microphone  ...  micro_sdhc  micro_sdxc  \\\n",
       "0                   30.0        True  ...       False       False   \n",
       "1                    NaN        True  ...        True        True   \n",
       "2                    NaN        True  ...        True        True   \n",
       "3                    NaN        True  ...        True        True   \n",
       "4                    NaN        True  ...        True        True   \n",
       "..                   ...         ...  ...         ...         ...   \n",
       "724                  NaN        True  ...       False       False   \n",
       "725                  NaN        True  ...       False       False   \n",
       "726                  NaN        True  ...       False       False   \n",
       "727                  NaN        True  ...       False       False   \n",
       "728                  NaN        True  ...       False       False   \n",
       "\n",
       "     glossy_display  screen_width_pixels  screen_height_pixels  \\\n",
       "0               0.0                 1280                   800   \n",
       "1               0.0                 1366                   768   \n",
       "2               0.0                 1366                   768   \n",
       "3               0.0                 1366                   768   \n",
       "4               0.0                 1366                   768   \n",
       "..              ...                  ...                   ...   \n",
       "724             0.0                 3840                  2160   \n",
       "725             0.0                 3840                  2160   \n",
       "726             0.0                 3840                  2160   \n",
       "727             0.0                 3840                  2160   \n",
       "728             0.0                 3840                  2160   \n",
       "\n",
       "     hdd_increased_speed  best_wi_fi_standard  li_ion_battery_type  ultrabook  \\\n",
       "0                  False                    4                 True      False   \n",
       "1                  False                    5                 True      False   \n",
       "2                  False                    5                False      False   \n",
       "3                  False                    5                 True      False   \n",
       "4                  False                    5                 True      False   \n",
       "..                   ...                  ...                  ...        ...   \n",
       "724                False                    6                 True      False   \n",
       "725                False                    5                 True      False   \n",
       "726                False                    6                 True      False   \n",
       "727                False                    5                 True      False   \n",
       "728                False                    6                 True      False   \n",
       "\n",
       "    touch_numeric_keypad  \n",
       "0                  False  \n",
       "1                  False  \n",
       "2                  False  \n",
       "3                  False  \n",
       "4                  False  \n",
       "..                   ...  \n",
       "724                False  \n",
       "725                False  \n",
       "726                False  \n",
       "727                False  \n",
       "728                 True  \n",
       "\n",
       "[729 rows x 108 columns]"
      ]
     },
     "execution_count": 89,
     "metadata": {},
     "output_type": "execute_result"
    }
   ],
   "source": [
    "data = pd.read_csv('data.csv')\n",
    "data"
   ]
  },
  {
   "cell_type": "code",
   "execution_count": 90,
   "metadata": {},
   "outputs": [
    {
     "data": {
      "text/plain": [
       "array(['average_rating', 'price', 'reviews_num', 'max_cpu_frequency',\n",
       "       'cpu_architecture', 'web_camera', 'weight', 'ethernet_adapter',\n",
       "       'pixel_response_time', 'microphone', 'warranty_duration', 'depth',\n",
       "       'screen_diagonal', 'battery_capacity', 'gaming_laptop',\n",
       "       'kensington_lock', 'cpu_cores_num', 'l2_cache', 'l3_cache',\n",
       "       'cpu_family', 'screen_refresh_rate', 'threads_num',\n",
       "       'max_possible_ram', 'integrated_graphics_card_model',\n",
       "       'dedicated_graphics_card_model', 'cpu_model',\n",
       "       'screen_resolution_name', 'hdd_capacity', 'ssd_capacity',\n",
       "       'graphics_ram', 'intel_optane_drive_capacity', 'os',\n",
       "       'optical_disc_drive', 'ppi', 'usb_power_delivery',\n",
       "       'keyboard_backlight', 'usb_2_0_ports', 'usb_3_x_ports',\n",
       "       'usb_type_c_ports', 'estimated_battery_life', 'gpu_manufacturer',\n",
       "       'cpu_manufacturer', 'ram', 'M_2_connector', 'sound_system',\n",
       "       'touch_screen', 'fingerprint_scanner', 'cpu_lithography',\n",
       "       'graphics_ram_type', 'ram_type', 'display_type', 'height', 'color',\n",
       "       'color_gamut', 'numeric_keypad', 'cpu_frequency', 'ram_frequency',\n",
       "       'width', 'release_year', 'memory_slots_num', 'additional_info',\n",
       "       'adaptive_sync_technology', 'multiple_35jacks',\n",
       "       'cellular_communication', 'dedicated_graphics',\n",
       "       'dedicated_graphics_only', 'usb2ethernet_adapter', 'display_port',\n",
       "       'hdmi', 'thunderbolt_2', 'thunderbolt_3', 'thunderbolt_4', 'vga',\n",
       "       'micro_hdmi', 'mini_display_port', 'additional_accessories',\n",
       "       '2_in_1', 'emcc', 'metal', 'plastic', 'carbon', 'brand_name',\n",
       "       'model_name', 'bluetooth', 'bluetooth_4_0', 'bluetooth_4_1',\n",
       "       'bluetooth_4_2', 'bluetooth_5_0', 'bluetooth_5_1', 'miracast',\n",
       "       'nfc', 'mmc', 'ms', 'micro_media', 'sd', 'sdhc', 'sdxc',\n",
       "       'micro_sd', 'micro_sdhc', 'micro_sdxc', 'glossy_display',\n",
       "       'screen_width_pixels', 'screen_height_pixels',\n",
       "       'hdd_increased_speed', 'best_wi_fi_standard',\n",
       "       'li_ion_battery_type', 'ultrabook', 'touch_numeric_keypad'],\n",
       "      dtype=object)"
      ]
     },
     "execution_count": 90,
     "metadata": {},
     "output_type": "execute_result"
    }
   ],
   "source": [
    "data.columns.values"
   ]
  },
  {
   "cell_type": "code",
   "execution_count": 91,
   "metadata": {},
   "outputs": [
    {
     "data": {
      "text/plain": [
       "cpu_architecture                  object\n",
       "cpu_family                        object\n",
       "integrated_graphics_card_model    object\n",
       "dedicated_graphics_card_model     object\n",
       "cpu_model                         object\n",
       "screen_resolution_name            object\n",
       "os                                object\n",
       "gpu_manufacturer                  object\n",
       "cpu_manufacturer                  object\n",
       "sound_system                      object\n",
       "graphics_ram_type                 object\n",
       "ram_type                          object\n",
       "display_type                      object\n",
       "color                             object\n",
       "color_gamut                       object\n",
       "additional_info                   object\n",
       "adaptive_sync_technology          object\n",
       "brand_name                        object\n",
       "model_name                        object\n",
       "dtype: object"
      ]
     },
     "execution_count": 91,
     "metadata": {},
     "output_type": "execute_result"
    }
   ],
   "source": [
    "data.dtypes[data.dtypes == object]"
   ]
  },
  {
   "cell_type": "code",
   "execution_count": 92,
   "metadata": {},
   "outputs": [],
   "source": [
    "def col_info(col_name = None):\n",
    "    print(f'col_name = {col_name}')\n",
    "    print(f'col_dtype = {data[col_name].dtype}\\n')\n",
    "    print('unique_values_counts:\\n')\n",
    "    print(data[col_name].value_counts(dropna = False))"
   ]
  },
  {
   "cell_type": "markdown",
   "metadata": {},
   "source": [
    "## CPU Info"
   ]
  },
  {
   "cell_type": "code",
   "execution_count": 93,
   "metadata": {},
   "outputs": [
    {
     "data": {
      "text/plain": [
       "0           Intel GoldMont Celeron N3450\n",
       "1      Intel Goldmont Plus Celeron N4020\n",
       "2      Intel Goldmont Plus Celeron N4020\n",
       "3      Intel Goldmont Plus Celeron N4020\n",
       "4                  AMD Excavator A4 9125\n",
       "                     ...                \n",
       "724       Intel Comet Lake Core i7 9750H\n",
       "725       Intel Comet Lake Core i7 9750H\n",
       "726      Intel Comet Lake Core i7 10750H\n",
       "727       Intel Comet Lake Core i7 9750H\n",
       "728     Intel Coffee Lake Core i9 9980HK\n",
       "Length: 729, dtype: object"
      ]
     },
     "execution_count": 93,
     "metadata": {},
     "output_type": "execute_result"
    }
   ],
   "source": [
    "data.cpu_manufacturer + ' ' + data.cpu_architecture + ' ' + data.cpu_family + ' ' + data.cpu_model  "
   ]
  },
  {
   "cell_type": "code",
   "execution_count": 94,
   "metadata": {},
   "outputs": [
    {
     "name": "stdout",
     "output_type": "stream",
     "text": [
      "col_name = cpu_manufacturer\n",
      "col_dtype = object\n",
      "\n",
      "unique_values_counts:\n",
      "\n",
      "Intel    528\n",
      "AMD      199\n",
      "Apple      2\n",
      "Name: cpu_manufacturer, dtype: int64\n"
     ]
    }
   ],
   "source": [
    "col_info('cpu_manufacturer')"
   ]
  },
  {
   "cell_type": "code",
   "execution_count": 95,
   "metadata": {},
   "outputs": [
    {
     "name": "stdout",
     "output_type": "stream",
     "text": [
      "col_name = cpu_architecture\n",
      "col_dtype = object\n",
      "\n",
      "unique_values_counts:\n",
      "\n",
      "Comet Lake       236\n",
      "Zen 2            124\n",
      "Ice Lake         123\n",
      "Coffee Lake       63\n",
      "Willow Cove       51\n",
      "Zen               34\n",
      "Zen+              31\n",
      "Goldmont Plus     24\n",
      "Whiskey Lake      14\n",
      "Excavator         10\n",
      "Tiger Lake         8\n",
      "NaN                5\n",
      "Amber Lake-Y       2\n",
      "GoldMont           2\n",
      "Broadwell          1\n",
      "Kaby Lake          1\n",
      "Name: cpu_architecture, dtype: int64\n"
     ]
    }
   ],
   "source": [
    "col_info('cpu_architecture')"
   ]
  },
  {
   "cell_type": "code",
   "execution_count": 96,
   "metadata": {},
   "outputs": [
    {
     "name": "stdout",
     "output_type": "stream",
     "text": [
      "col_name = cpu_family\n",
      "col_dtype = object\n",
      "\n",
      "unique_values_counts:\n",
      "\n",
      "Core i7    225\n",
      "Core i5    199\n",
      "Ryzen 5     76\n",
      "Ryzen 7     56\n",
      "Core i3     46\n",
      "Pentium     40\n",
      "Ryzen 3     37\n",
      "Athlon      14\n",
      "Core i9     10\n",
      "Celeron      8\n",
      "Ryzen 9      6\n",
      "A4           5\n",
      "A9           3\n",
      "A6           2\n",
      "M1           2\n",
      "Name: cpu_family, dtype: int64\n"
     ]
    }
   ],
   "source": [
    "col_info('cpu_family')"
   ]
  },
  {
   "cell_type": "code",
   "execution_count": 97,
   "metadata": {},
   "outputs": [
    {
     "name": "stdout",
     "output_type": "stream",
     "text": [
      "col_name = cpu_model\n",
      "col_dtype = object\n",
      "\n",
      "unique_values_counts:\n",
      "\n",
      "10750H       68\n",
      "10300H       51\n",
      "1035G1       41\n",
      "1005G1       35\n",
      "10210U       33\n",
      "             ..\n",
      "N3350         1\n",
      "8250U         1\n",
      "N3450         1\n",
      "300U          1\n",
      "Gold 7505     1\n",
      "Name: cpu_model, Length: 62, dtype: int64\n"
     ]
    }
   ],
   "source": [
    "col_info('cpu_model')"
   ]
  },
  {
   "cell_type": "code",
   "execution_count": 98,
   "metadata": {},
   "outputs": [],
   "source": [
    "# CPU architecture, family and manufacturer will be One-Hot-Encoded\n",
    "\n",
    "# For every CPU model we download correspoding benchmark value"
   ]
  },
  {
   "cell_type": "code",
   "execution_count": 99,
   "metadata": {},
   "outputs": [],
   "source": [
    "class Driver(object):\n",
    "    def __init__(self, chromedriver_path, headless = True):\n",
    "        options = Options()\n",
    "        options.headless = headless\n",
    "#         options.add_argument('--headless')\n",
    "#         options.add_argument('window-size=1920x1080')\n",
    "        \n",
    "        self.driver = webdriver.Chrome(chromedriver_path, options = options)\n",
    "\n",
    "    def getLink(self, link_text, waiting_time = 1, niters = 5, raise_error = True):\n",
    "        for _ in range(niters):\n",
    "            try:\n",
    "                return self.driver.find_element_by_partial_link_text(link_text)\n",
    "            except:\n",
    "                sleep(waiting_time)\n",
    "        \n",
    "        if raise_error:\n",
    "            raise(Exception(\"Driver: Failed to get link\"))\n",
    "        \n",
    "    def getHTML(self, url, waiting_time = 2):\n",
    "        self.driver.get(url)\n",
    "        \n",
    "        sleep(waiting_time)\n",
    "\n",
    "        content = self.driver.page_source\n",
    "\n",
    "        return BeautifulSoup(content, 'html.parser')\n",
    "    \n",
    "    def processRequest(self, url, soup_function, waiting_time = 1, niters = 1, raise_error = True, load_url = True):\n",
    "        if load_url:\n",
    "            self.driver.get(url)\n",
    "            sleep(waiting_time)\n",
    "        \n",
    "        for _ in range(niters):\n",
    "            try:\n",
    "                soup = BeautifulSoup(self.driver.page_source, 'html.parser')\n",
    "                return soup_function(soup)\n",
    "            except:\n",
    "                sleep(waiting_time)\n",
    "        \n",
    "        if raise_error:\n",
    "            raise(Exception(\"Driver: Failed to process request\"))\n",
    "        \n",
    "chromedriver_path = r'C:\\Users\\Yuriy\\Downloads\\chromedriver_win32_4\\chromedriver.exe'\n",
    "driver = Driver(chromedriver_path, headless = False)"
   ]
  },
  {
   "cell_type": "code",
   "execution_count": 100,
   "metadata": {},
   "outputs": [
    {
     "data": {
      "text/html": [
       "<div>\n",
       "<style scoped>\n",
       "    .dataframe tbody tr th:only-of-type {\n",
       "        vertical-align: middle;\n",
       "    }\n",
       "\n",
       "    .dataframe tbody tr th {\n",
       "        vertical-align: top;\n",
       "    }\n",
       "\n",
       "    .dataframe thead th {\n",
       "        text-align: right;\n",
       "    }\n",
       "</style>\n",
       "<table border=\"1\" class=\"dataframe\">\n",
       "  <thead>\n",
       "    <tr style=\"text-align: right;\">\n",
       "      <th></th>\n",
       "      <th>name</th>\n",
       "      <th>score</th>\n",
       "    </tr>\n",
       "  </thead>\n",
       "  <tbody>\n",
       "    <tr>\n",
       "      <th>0</th>\n",
       "      <td>AMD 3015e</td>\n",
       "      <td>2678</td>\n",
       "    </tr>\n",
       "    <tr>\n",
       "      <th>1</th>\n",
       "      <td>AMD 3020e</td>\n",
       "      <td>2650</td>\n",
       "    </tr>\n",
       "    <tr>\n",
       "      <th>2</th>\n",
       "      <td>AMD A4 Micro-6400T APU</td>\n",
       "      <td>1004</td>\n",
       "    </tr>\n",
       "    <tr>\n",
       "      <th>3</th>\n",
       "      <td>AMD A4 PRO-3340B</td>\n",
       "      <td>1706</td>\n",
       "    </tr>\n",
       "    <tr>\n",
       "      <th>4</th>\n",
       "      <td>AMD A4 PRO-7300B APU</td>\n",
       "      <td>1448</td>\n",
       "    </tr>\n",
       "    <tr>\n",
       "      <th>...</th>\n",
       "      <td>...</td>\n",
       "      <td>...</td>\n",
       "    </tr>\n",
       "    <tr>\n",
       "      <th>3008</th>\n",
       "      <td>VIA QuadCore U4650 @ 1.0+ GHz</td>\n",
       "      <td>666</td>\n",
       "    </tr>\n",
       "    <tr>\n",
       "      <th>3009</th>\n",
       "      <td>ZHAOXIN KaiXian KX-U6780A@2.7GHz</td>\n",
       "      <td>3744</td>\n",
       "    </tr>\n",
       "    <tr>\n",
       "      <th>3010</th>\n",
       "      <td>ZHAOXIN KaiXian ZX-C+ C4700@2.0GHz</td>\n",
       "      <td>1547</td>\n",
       "    </tr>\n",
       "    <tr>\n",
       "      <th>3011</th>\n",
       "      <td>M1</td>\n",
       "      <td>12548</td>\n",
       "    </tr>\n",
       "    <tr>\n",
       "      <th>3012</th>\n",
       "      <td>Intel Pentium Gold 7505</td>\n",
       "      <td>4092</td>\n",
       "    </tr>\n",
       "  </tbody>\n",
       "</table>\n",
       "<p>3013 rows × 2 columns</p>\n",
       "</div>"
      ],
      "text/plain": [
       "                                    name  score\n",
       "0                              AMD 3015e   2678\n",
       "1                              AMD 3020e   2650\n",
       "2                 AMD A4 Micro-6400T APU   1004\n",
       "3                       AMD A4 PRO-3340B   1706\n",
       "4                   AMD A4 PRO-7300B APU   1448\n",
       "...                                  ...    ...\n",
       "3008       VIA QuadCore U4650 @ 1.0+ GHz    666\n",
       "3009    ZHAOXIN KaiXian KX-U6780A@2.7GHz   3744\n",
       "3010  ZHAOXIN KaiXian ZX-C+ C4700@2.0GHz   1547\n",
       "3011                                  M1  12548\n",
       "3012             Intel Pentium Gold 7505   4092\n",
       "\n",
       "[3013 rows x 2 columns]"
      ]
     },
     "execution_count": 100,
     "metadata": {},
     "output_type": "execute_result"
    }
   ],
   "source": [
    "def getCPUscores():\n",
    "    soup = driver.getHTML('https://www.cpubenchmark.net/cpu_list.php', waiting_time = 3)\n",
    "    cpu_table = soup.find('table', {'id': 'cputable'})\n",
    "    cpu_scores = pd.read_html(str(cpu_table))[0]\n",
    "    cpu_scores = cpu_scores.rename(columns = {'CPU Name': 'name', 'CPU Mark(higher is better)': 'score'})\n",
    "    cpu_scores = cpu_scores.drop(['Rank(lower is better)', 'CPU Value(higher is better)', 'Price(USD)'], axis = 1)\n",
    "    return cpu_scores\n",
    "\n",
    "cpu_scores = getCPUscores()\n",
    "\n",
    "# Apple M1 similar to Intel Core i7-8700B \n",
    "# (found on the Internet)\n",
    "cpu_scores = cpu_scores.append({'name': 'M1', 'score': 12548}, ignore_index=True)\n",
    "\n",
    "# Intel Pentium Gold 7505 similar to Intel Core i3-10110U\n",
    "# (found on the Internet)\n",
    "cpu_scores = cpu_scores.append({'name': 'Intel Pentium Gold 7505', 'score': 4092}, ignore_index=True)\n",
    "\n",
    "cpu_scores"
   ]
  },
  {
   "cell_type": "code",
   "execution_count": 101,
   "metadata": {},
   "outputs": [],
   "source": [
    "def foo(name, keyword):\n",
    "    for word in name.split():\n",
    "        if word.find(keyword) != -1:\n",
    "            return word.split('-')[-1]\n",
    "    return np.nan\n",
    "\n",
    "def bar(name, keyword):\n",
    "    for word in name.split():\n",
    "        if word.find(keyword) != -1:\n",
    "            return word.split('-')[-1]\n",
    "    return np.nan\n",
    "\n",
    "def find_name(idx):\n",
    "    manufacturer = data.cpu_manufacturer.loc[idx]\n",
    "    architecture = data.cpu_architecture.loc[idx] if pd.notnull(data.cpu_architecture.loc[idx]) else 'NONE'\n",
    "    family = data.cpu_family.loc[idx]\n",
    "    model = data.cpu_model.loc[idx]\n",
    "    \n",
    "    keyword = model.split()[-1]\n",
    "    \n",
    "    scores = cpu_scores[cpu_scores.name.map(lambda name: name.find(keyword) != -1)].copy()\n",
    "    \n",
    "    if len(scores) == 1:\n",
    "        return scores.score.values[0]\n",
    "    \n",
    "    if len(scores) == 0:\n",
    "        print(idx, 'NOT FOUND')\n",
    "        return -1\n",
    "    \n",
    "    scores['foo'] = scores.name.map(lambda name: foo(name, keyword))\n",
    "    scores['match'] = scores.foo == keyword\n",
    "    \n",
    "    if len(scores[scores.match == True]) == 1:\n",
    "        return scores[scores.match == True].score.values[0]\n",
    "    \n",
    "    scores['foo'] = scores.name.map(lambda name: foo(name, manufacturer))\n",
    "    scores['match'] = scores.foo == manufacturer\n",
    "    \n",
    "    if len(scores[scores.match == True]) == 1:\n",
    "        return scores[scores.match == True].score.values[0]\n",
    "    \n",
    "    scores['foo'] = scores.name.map(lambda name: \" \")\n",
    "    scores['match'] = scores.name.map(lambda name: name.lower().find(\" \".join([family.lower(), model.lower()])) != -1)\n",
    "    \n",
    "    if len(scores[scores.match == True]) == 1:\n",
    "        return scores[scores.match == True].score.values[0]\n",
    "    \n",
    "    print(idx, 'NOT FOUND')\n",
    "    return -2"
   ]
  },
  {
   "cell_type": "code",
   "execution_count": 102,
   "metadata": {},
   "outputs": [
    {
     "name": "stderr",
     "output_type": "stream",
     "text": [
      "C:\\Users\\Yuriy\\.conda\\envs\\New\\lib\\site-packages\\ipykernel_launcher.py:5: SettingWithCopyWarning: \n",
      "A value is trying to be set on a copy of a slice from a DataFrame\n",
      "\n",
      "See the caveats in the documentation: http://pandas.pydata.org/pandas-docs/stable/user_guide/indexing.html#returning-a-view-versus-a-copy\n",
      "  \"\"\"\n"
     ]
    }
   ],
   "source": [
    "# cpu models were missing on the dns-shop site\n",
    "# found on the internet\n",
    "\n",
    "data['cpu_model'][data.cpu_model == '0'] =\\\n",
    "            ['5350U', '5350U', '8257U', '1038NG7', '1038NG7', '1038NG7', '9750H', '9750H', '9880H', '9880H']"
   ]
  },
  {
   "cell_type": "code",
   "execution_count": 103,
   "metadata": {},
   "outputs": [],
   "source": [
    "data['cpu_scores'] = [find_name(idx) for idx in data.index.values]"
   ]
  },
  {
   "cell_type": "code",
   "execution_count": 104,
   "metadata": {},
   "outputs": [],
   "source": [
    "data.drop('cpu_model', axis = 1, inplace = True, errors = 'ignore')"
   ]
  },
  {
   "cell_type": "code",
   "execution_count": null,
   "metadata": {},
   "outputs": [],
   "source": []
  },
  {
   "cell_type": "markdown",
   "metadata": {},
   "source": [
    "## GPU Info"
   ]
  },
  {
   "cell_type": "code",
   "execution_count": 105,
   "metadata": {},
   "outputs": [
    {
     "data": {
      "text/plain": [
       "0       Intel HD Graphics 500\n",
       "1               Intel UHD 600\n",
       "2               Intel UHD 600\n",
       "3               Intel UHD 600\n",
       "4                   Radeon R3\n",
       "                ...          \n",
       "724    Intel UHD Graphics 630\n",
       "725    Intel UHD Graphics 630\n",
       "726    Intel UHD Graphics 630\n",
       "727    Intel UHD Graphics 630\n",
       "728    Intel UHD Graphics 630\n",
       "Name: integrated_graphics_card_model, Length: 729, dtype: object"
      ]
     },
     "execution_count": 105,
     "metadata": {},
     "output_type": "execute_result"
    }
   ],
   "source": [
    "data.integrated_graphics_card_model    "
   ]
  },
  {
   "cell_type": "code",
   "execution_count": 106,
   "metadata": {},
   "outputs": [
    {
     "data": {
      "text/plain": [
       "0                               Intel нет\n",
       "1                               Intel нет\n",
       "2                               Intel нет\n",
       "3                               Intel нет\n",
       "4                                 AMD нет\n",
       "                      ...                \n",
       "724          nVidia GeForce RTX 2080 MaxQ\n",
       "725                nVidia Quadro RTX 5000\n",
       "726    nVidia GeForce RTX 2080 Super MaxQ\n",
       "727                nVidia Quadro RTX 5000\n",
       "728               nVidia GeForce RTX 2080\n",
       "Length: 729, dtype: object"
      ]
     },
     "execution_count": 106,
     "metadata": {},
     "output_type": "execute_result"
    }
   ],
   "source": [
    "data.gpu_manufacturer + ' ' + data.dedicated_graphics_card_model    "
   ]
  },
  {
   "cell_type": "code",
   "execution_count": null,
   "metadata": {},
   "outputs": [],
   "source": []
  },
  {
   "cell_type": "code",
   "execution_count": 107,
   "metadata": {},
   "outputs": [
    {
     "name": "stdout",
     "output_type": "stream",
     "text": [
      "col_name = gpu_manufacturer\n",
      "col_dtype = object\n",
      "\n",
      "unique_values_counts:\n",
      "\n",
      "nVidia    329\n",
      "Intel     251\n",
      "AMD       147\n",
      "Apple       2\n",
      "Name: gpu_manufacturer, dtype: int64\n"
     ]
    }
   ],
   "source": [
    "col_info('gpu_manufacturer')"
   ]
  },
  {
   "cell_type": "code",
   "execution_count": 108,
   "metadata": {},
   "outputs": [
    {
     "name": "stdout",
     "output_type": "stream",
     "text": [
      "col_name = integrated_graphics_card_model\n",
      "col_dtype = object\n",
      "\n",
      "unique_values_counts:\n",
      "\n",
      "Intel UHD Graphics 630    208\n",
      "Intel UHD                 111\n",
      "Intel UHD Graphics 620     59\n",
      "Intel Iris Xe              54\n",
      "Radeon Vega 6              48\n",
      "Radeon Vega 7              47\n",
      "Intel Iris Plus            47\n",
      "Radeon Vega 8              34\n",
      "Radeon Vega 3              26\n",
      "Intel UHD 605              17\n",
      "Radeon Vega 5              17\n",
      "Radeon Vega 2               8\n",
      "Radeon Vega 10              6\n",
      "Intel UHD Graphics          6\n",
      "Intel UHD 600               6\n",
      "Radeon R3                   5\n",
      "Intel UHD Graphics 610      5\n",
      "отключена                   5\n",
      "Radeon R5                   3\n",
      "Radeon Graphics             3\n",
      "Intel UHD Graphics 605      3\n",
      "Intel HD 6000               2\n",
      "M1 8-core                   2\n",
      "Intel UHD 615               2\n",
      "Radeon R4                   2\n",
      "Intel HD Graphics 500       1\n",
      "Intel Iris Plus 645         1\n",
      "Intel HD 500                1\n",
      "Name: integrated_graphics_card_model, dtype: int64\n"
     ]
    }
   ],
   "source": [
    "col_info('integrated_graphics_card_model')"
   ]
  },
  {
   "cell_type": "code",
   "execution_count": 109,
   "metadata": {},
   "outputs": [
    {
     "name": "stdout",
     "output_type": "stream",
     "text": [
      "col_name = dedicated_graphics_card_model\n",
      "col_dtype = object\n",
      "\n",
      "unique_values_counts:\n",
      "\n",
      "нет                            371\n",
      "GeForce GTX 1650                54\n",
      "GeForce RTX 2060                48\n",
      "GeForce GTX 1650 Ti             44\n",
      "GeForce GTX 1660 Ti             35\n",
      "GeForce MX350                   25\n",
      "GeForce RTX 2070 Super          14\n",
      "GeForce MX250                   14\n",
      "GeForce GTX 1660 Ti MaxQ        14\n",
      "GeForce RTX 2070                12\n",
      "GeForce MX330                   11\n",
      "GeForce RTX 2080 Super MaxQ      8\n",
      "GeForce GTX 1650 MaxQ            7\n",
      "GeForce RTX 2060 MaxQ            7\n",
      "GeForce RTX 2070 MaxQ            6\n",
      "Radeon 540X                      6\n",
      "GeForce MX110                    6\n",
      "Quadro RTX3000                   5\n",
      "GeForce RTX 2070 Super MaxQ      5\n",
      "GeForce GTX 1650 Ti MaxQ         4\n",
      "GeForce RTX 2080                 4\n",
      "Radeon RX 5500M                  4\n",
      "GeForce RTX 2080 Super           3\n",
      "GeForce MX450                    3\n",
      "GeForce RTX 2080 MaxQ            3\n",
      "Radeon Pro 5500M                 2\n",
      "Radeon Pro 5300M                 2\n",
      "Radeon RX640                     2\n",
      "Quadro RTX 5000                  2\n",
      "GeForce MX130                    1\n",
      "GeForce GTX 1050                 1\n",
      "GeForce MX150                    1\n",
      "Quadro T1000                     1\n",
      "Radeon 625                       1\n",
      "GeForce MX230                    1\n",
      "Radeon 620                       1\n",
      "Radeon R530                      1\n",
      "Name: dedicated_graphics_card_model, dtype: int64\n"
     ]
    }
   ],
   "source": [
    "col_info('dedicated_graphics_card_model')"
   ]
  },
  {
   "cell_type": "code",
   "execution_count": 110,
   "metadata": {},
   "outputs": [],
   "source": [
    "# manufacturer -> OHE\n",
    "# integrated and dedicated -> benchmark values"
   ]
  },
  {
   "cell_type": "code",
   "execution_count": 111,
   "metadata": {},
   "outputs": [
    {
     "data": {
      "text/html": [
       "<div>\n",
       "<style scoped>\n",
       "    .dataframe tbody tr th:only-of-type {\n",
       "        vertical-align: middle;\n",
       "    }\n",
       "\n",
       "    .dataframe tbody tr th {\n",
       "        vertical-align: top;\n",
       "    }\n",
       "\n",
       "    .dataframe thead th {\n",
       "        text-align: right;\n",
       "    }\n",
       "</style>\n",
       "<table border=\"1\" class=\"dataframe\">\n",
       "  <thead>\n",
       "    <tr style=\"text-align: right;\">\n",
       "      <th></th>\n",
       "      <th>name</th>\n",
       "      <th>score</th>\n",
       "    </tr>\n",
       "  </thead>\n",
       "  <tbody>\n",
       "    <tr>\n",
       "      <th>0</th>\n",
       "      <td>3DP Edition</td>\n",
       "      <td>826</td>\n",
       "    </tr>\n",
       "    <tr>\n",
       "      <th>1</th>\n",
       "      <td>9xx Soldiers sans frontiers Sigma 2</td>\n",
       "      <td>21</td>\n",
       "    </tr>\n",
       "    <tr>\n",
       "      <th>2</th>\n",
       "      <td>15FF</td>\n",
       "      <td>8229</td>\n",
       "    </tr>\n",
       "    <tr>\n",
       "      <th>3</th>\n",
       "      <td>64MB DDR GeForce3 Ti 200</td>\n",
       "      <td>5</td>\n",
       "    </tr>\n",
       "    <tr>\n",
       "      <th>4</th>\n",
       "      <td>64MB GeForce2 MX with TV Out</td>\n",
       "      <td>2</td>\n",
       "    </tr>\n",
       "    <tr>\n",
       "      <th>...</th>\n",
       "      <td>...</td>\n",
       "      <td>...</td>\n",
       "    </tr>\n",
       "    <tr>\n",
       "      <th>2175</th>\n",
       "      <td>ZX Chrome 645/640 GPU</td>\n",
       "      <td>147</td>\n",
       "    </tr>\n",
       "    <tr>\n",
       "      <th>2176</th>\n",
       "      <td>Radeon R5</td>\n",
       "      <td>407</td>\n",
       "    </tr>\n",
       "    <tr>\n",
       "      <th>2177</th>\n",
       "      <td>Radeon Vega 5</td>\n",
       "      <td>2790</td>\n",
       "    </tr>\n",
       "    <tr>\n",
       "      <th>2178</th>\n",
       "      <td>Radeon Vega 7</td>\n",
       "      <td>3730</td>\n",
       "    </tr>\n",
       "    <tr>\n",
       "      <th>2179</th>\n",
       "      <td>M1 8-core</td>\n",
       "      <td>14189</td>\n",
       "    </tr>\n",
       "  </tbody>\n",
       "</table>\n",
       "<p>2180 rows × 2 columns</p>\n",
       "</div>"
      ],
      "text/plain": [
       "                                     name  score\n",
       "0                             3DP Edition    826\n",
       "1     9xx Soldiers sans frontiers Sigma 2     21\n",
       "2                                    15FF   8229\n",
       "3                64MB DDR GeForce3 Ti 200      5\n",
       "4            64MB GeForce2 MX with TV Out      2\n",
       "...                                   ...    ...\n",
       "2175                ZX Chrome 645/640 GPU    147\n",
       "2176                            Radeon R5    407\n",
       "2177                        Radeon Vega 5   2790\n",
       "2178                        Radeon Vega 7   3730\n",
       "2179                            M1 8-core  14189\n",
       "\n",
       "[2180 rows x 2 columns]"
      ]
     },
     "execution_count": 111,
     "metadata": {},
     "output_type": "execute_result"
    }
   ],
   "source": [
    "def getGPUscores():\n",
    "    soup = driver.getHTML('https://www.videocardbenchmark.net/gpu_list.php', waiting_time = 3)\n",
    "    gpu_table = soup.find('table', {'id': 'cputable'})\n",
    "    gpu_table = pd.read_html(str(gpu_table))[0]\n",
    "    gpu_table = gpu_table.rename(columns = {'Videocard Name': 'name', 'Passmark G3D Mark (higher is better)': 'score'})\n",
    "    gpu_table = gpu_table.drop(['Rank (lower is better)', 'Videocard Value (higher is better)', 'Price (USD)'], axis = 1)\n",
    "    return gpu_table\n",
    "\n",
    "gpu_scores = getGPUscores()\n",
    "\n",
    "# Radeon R5 similar to Radeon HD 7470M\n",
    "# (found on the Internet)\n",
    "gpu_scores = gpu_scores.append({'name': 'Radeon R5', 'score': 407}, ignore_index=True)\n",
    "\n",
    "# Radeon Vega 5 similar to AMD Radeon RX 550\n",
    "# (found on the Internet)\n",
    "gpu_scores = gpu_scores.append({'name': 'Radeon Vega 5', 'score': 2790}, ignore_index=True)\n",
    " \n",
    "# Radeon Vega 7 similar to Radeon HD 7850\n",
    "# (found on the Internet)\n",
    "gpu_scores = gpu_scores.append({'name': 'Radeon Vega 7', 'score': 3730}, ignore_index=True)\n",
    "\n",
    "# M1 8-core similar to Radeon Pro WX 8200\n",
    "# (found on the Internet)\n",
    "gpu_scores = gpu_scores.append({'name': 'M1 8-core', 'score': 14189}, ignore_index=True)\n",
    "    \n",
    "gpu_scores"
   ]
  },
  {
   "cell_type": "code",
   "execution_count": 112,
   "metadata": {},
   "outputs": [
    {
     "data": {
      "text/plain": [
       "array(['нет', 'GeForce MX110', 'Radeon R530', 'GeForce MX330',\n",
       "       'Radeon 540X', 'Radeon 620', 'Radeon 625', 'Radeon RX640',\n",
       "       'GeForce MX250', 'GeForce MX350', 'GeForce MX230', 'GeForce MX150',\n",
       "       'GeForce MX130', 'GeForce GTX 1650', 'GeForce GTX 1650 Ti',\n",
       "       'Radeon RX 5500M', 'GeForce GTX 1050', 'GeForce RTX 2060',\n",
       "       'GeForce GTX 1660 Ti', 'GeForce GTX 1660 Ti MaxQ', 'GeForce MX450',\n",
       "       'GeForce GTX 1650 MaxQ', 'GeForce RTX 2060 MaxQ',\n",
       "       'GeForce RTX 2070', 'GeForce RTX 2070 MaxQ',\n",
       "       'GeForce GTX 1650 Ti MaxQ', 'GeForce RTX 2070 Super',\n",
       "       'Quadro T1000', 'GeForce RTX 2080 MaxQ',\n",
       "       'GeForce RTX 2070 Super MaxQ', 'GeForce RTX 2080',\n",
       "       'GeForce RTX 2080 Super MaxQ', 'Radeon Pro 5300M',\n",
       "       'Quadro RTX3000', 'GeForce RTX 2080 Super', 'Radeon Pro 5500M',\n",
       "       'Quadro RTX 5000'], dtype=object)"
      ]
     },
     "execution_count": 112,
     "metadata": {},
     "output_type": "execute_result"
    }
   ],
   "source": [
    "data.dedicated_graphics_card_model.unique()"
   ]
  },
  {
   "cell_type": "code",
   "execution_count": 113,
   "metadata": {},
   "outputs": [],
   "source": [
    "def getNumKeyword(model):\n",
    "    for word in model.split():\n",
    "        for letter in word:\n",
    "            if letter.isdigit():\n",
    "                return word\n",
    "\n",
    "def find_dedicated_graphics_card_name(idx):\n",
    "    model = data.dedicated_graphics_card_model.loc[idx]\n",
    "    \n",
    "    if model == 'нет':\n",
    "        return 0\n",
    "    \n",
    "    if model == 'Radeon R530':\n",
    "        model = 'Radeon 530'\n",
    "     \n",
    "    if model == 'Radeon RX640':\n",
    "        model = 'Radeon RX 640'\n",
    "        \n",
    "    if model == 'Quadro RTX3000':\n",
    "        model = 'Quadro RTX 3000'\n",
    "        \n",
    "    model = model.replace('MaxQ', 'with Max-Q Design')\n",
    "    \n",
    "    keyword = getNumKeyword(model)\n",
    "\n",
    "    scores = gpu_scores[gpu_scores.name.map(lambda name: name.find(keyword) != -1)].copy()\n",
    "    \n",
    "    if len(scores) == 1:\n",
    "        return scores.score.values[0]\n",
    "    \n",
    "    if len(scores) == 0:\n",
    "        print(idx, model, 'NOT FOUND')\n",
    "        return -1\n",
    "    \n",
    "    scores['match'] = scores.name.map(lambda name: name.find(model) != -1)\n",
    "    \n",
    "    if len(scores[scores.match == True]) == 1:\n",
    "        return scores[scores.match == True].score.values[0]\n",
    "    \n",
    "    scores['match'] = scores.name.map(lambda name: name == model)\n",
    "    \n",
    "    if len(scores[scores.match == True]) == 1:\n",
    "        return scores[scores.match == True].score.values[0]\n",
    "\n",
    "    print(idx, 'NOT FOUND')\n",
    "    return -2"
   ]
  },
  {
   "cell_type": "code",
   "execution_count": 114,
   "metadata": {},
   "outputs": [],
   "source": [
    "data['dedicated_gpu_scores'] = [float(find_dedicated_graphics_card_name(idx)) for idx in data.index.values]"
   ]
  },
  {
   "cell_type": "code",
   "execution_count": 115,
   "metadata": {},
   "outputs": [
    {
     "data": {
      "text/plain": [
       "array(['Intel HD Graphics 500', 'Intel UHD 600', 'Radeon R3', 'Radeon R5',\n",
       "       'Radeon Vega 3', 'Intel UHD', 'Radeon Vega 2', 'Intel UHD 605',\n",
       "       'Intel UHD Graphics 610', 'Radeon R4', 'Intel HD 500',\n",
       "       'Intel UHD Graphics', 'Intel UHD Graphics 605', 'Radeon Vega 5',\n",
       "       'Intel UHD Graphics 620', 'Radeon Vega 8', 'Radeon Vega 6',\n",
       "       'Intel Iris Xe', 'Radeon Vega 10', 'Radeon Vega 7',\n",
       "       'Radeon Graphics', 'Intel UHD Graphics 630', 'Intel Iris Plus',\n",
       "       'Intel HD 6000', 'Intel UHD 615', 'отключена',\n",
       "       'Intel Iris Plus 645', 'M1 8-core'], dtype=object)"
      ]
     },
     "execution_count": 115,
     "metadata": {},
     "output_type": "execute_result"
    }
   ],
   "source": [
    "data.integrated_graphics_card_model.unique()"
   ]
  },
  {
   "cell_type": "code",
   "execution_count": 116,
   "metadata": {},
   "outputs": [],
   "source": [
    "def getNumKeyword(model):\n",
    "    for word in model.split():\n",
    "        for letter in word:\n",
    "            if letter.isdigit():\n",
    "                return word\n",
    "    return ''\n",
    "\n",
    "def find_integrated_graphics_card_name(idx):\n",
    "    model = data.integrated_graphics_card_model.loc[idx]\n",
    "    \n",
    "    if model == 'отключена':\n",
    "        return np.nan\n",
    "        \n",
    "    model = model.replace('UHD Graphics', 'HD')\n",
    "    model = model.replace('HD Graphics', 'HD')\n",
    "    \n",
    "    if model == 'Intel HD 605':\n",
    "        model = 'Intel UHD 605'\n",
    "    \n",
    "    if model == 'Intel HD 620':\n",
    "        model = 'Intel HD Graphics 620'\n",
    "\n",
    "    if model == 'Intel HD' or model == 'Radeon Graphics':\n",
    "        return np.nan\n",
    "    \n",
    "    keyword = getNumKeyword(model)\n",
    "\n",
    "    scores = gpu_scores[gpu_scores.name.map(lambda name: name.find(keyword) != -1)].copy()\n",
    "    \n",
    "    if len(scores) == 1:\n",
    "        return scores.score.values[0]\n",
    "    \n",
    "    if len(scores) == 0:\n",
    "        print(idx, model, 'NOT FOUND')\n",
    "        return -1\n",
    "    \n",
    "    scores['match'] = scores.name.map(lambda name: name.find(model) != -1)\n",
    "    \n",
    "    if len(scores[scores.match == True]) == 1:\n",
    "        return scores[scores.match == True].score.values[0]\n",
    "    \n",
    "    scores['match'] = scores.name.map(lambda name: name == model)\n",
    "    \n",
    "    if len(scores[scores.match == True]) == 1:\n",
    "        return scores[scores.match == True].score.values[0]\n",
    "    \n",
    "    print(idx, f'keyword = {keyword}, model = {model}')\n",
    "    print(scores[scores.name.map(lambda name: name.find(model.split()[0]) != -1)])\n",
    "    \n",
    "    return\n",
    "\n",
    "    print(idx, 'NOT FOUND')\n",
    "    return -2"
   ]
  },
  {
   "cell_type": "code",
   "execution_count": 117,
   "metadata": {},
   "outputs": [
    {
     "name": "stdout",
     "output_type": "stream",
     "text": [
      "307\n",
      "333\n",
      "333\n",
      "333\n",
      "307\n",
      "307\n",
      "333\n",
      "307\n",
      "333\n",
      "407\n",
      "897\n",
      "407\n",
      "1920\n",
      "333\n",
      "460\n",
      "897\n",
      "366\n",
      "307\n",
      "1920\n",
      "1920\n",
      "1920\n",
      "1920\n",
      "667\n",
      "366\n",
      "366\n",
      "366\n",
      "667\n",
      "307\n",
      "339\n",
      "366\n",
      "460\n",
      "460\n",
      "1920\n",
      "1920\n",
      "460\n",
      "460\n",
      "366\n",
      "366\n",
      "1920\n",
      "460\n",
      "366\n",
      "1920\n",
      "307\n",
      "1920\n",
      "366\n",
      "1920\n",
      "897\n",
      "897\n",
      "897\n",
      "1920\n",
      "nan\n",
      "339\n",
      "366\n",
      "897\n",
      "667\n",
      "897\n",
      "1920\n",
      "1920\n",
      "897\n",
      "366\n",
      "1920\n",
      "460\n",
      "1920\n",
      "667\n",
      "1920\n",
      "2790\n",
      "407\n",
      "366\n",
      "460\n",
      "1920\n",
      "897\n",
      "1920\n",
      "1920\n",
      "1920\n",
      "897\n",
      "1920\n",
      "897\n",
      "nan\n",
      "1920\n",
      "366\n",
      "366\n",
      "366\n",
      "366\n",
      "1920\n",
      "1920\n",
      "1920\n",
      "897\n",
      "1920\n",
      "897\n",
      "366\n",
      "897\n",
      "897\n",
      "1920\n",
      "1920\n",
      "1920\n",
      "1920\n",
      "897\n",
      "nan\n",
      "667\n",
      "897\n",
      "366\n",
      "1920\n",
      "897\n",
      "897\n",
      "1920\n",
      "897\n",
      "897\n",
      "897\n",
      "2790\n",
      "920\n",
      "1578\n",
      "1920\n",
      "1920\n",
      "2790\n",
      "1920\n",
      "1578\n",
      "897\n",
      "1920\n",
      "2790\n",
      "2790\n",
      "1920\n",
      "366\n",
      "1920\n",
      "2790\n",
      "1578\n",
      "1578\n",
      "2790\n",
      "2790\n",
      "1920\n",
      "1920\n",
      "1920\n",
      "366\n",
      "1578\n",
      "1255\n",
      "897\n",
      "1920\n",
      "1920\n",
      "897\n",
      "1920\n",
      "2790\n",
      "1920\n",
      "897\n",
      "1578\n",
      "2790\n",
      "2790\n",
      "2790\n",
      "1255\n",
      "920\n",
      "1578\n",
      "1578\n",
      "1578\n",
      "1578\n",
      "1920\n",
      "1920\n",
      "1920\n",
      "2790\n",
      "1578\n",
      "1578\n",
      "1920\n",
      "1920\n",
      "1255\n",
      "1920\n",
      "1920\n",
      "1920\n",
      "1255\n",
      "1255\n",
      "1578\n",
      "1578\n",
      "1920\n",
      "1920\n",
      "920\n",
      "920\n",
      "2790\n",
      "1255\n",
      "1920\n",
      "1920\n",
      "1578\n",
      "1920\n",
      "1920\n",
      "1920\n",
      "1255\n",
      "1578\n",
      "1578\n",
      "920\n",
      "920\n",
      "1920\n",
      "1920\n",
      "1920\n",
      "2918\n",
      "1920\n",
      "1255\n",
      "1255\n",
      "2790\n",
      "1255\n",
      "1255\n",
      "1920\n",
      "1920\n",
      "920\n",
      "1920\n",
      "1920\n",
      "1920\n",
      "1920\n",
      "1255\n",
      "1920\n",
      "1524\n",
      "1920\n",
      "1255\n",
      "1255\n",
      "920\n",
      "1524\n",
      "1920\n",
      "1920\n",
      "2918\n",
      "1920\n",
      "1578\n",
      "1578\n",
      "1255\n",
      "1255\n",
      "1255\n",
      "3730\n",
      "920\n",
      "2918\n",
      "1920\n",
      "1920\n",
      "1920\n",
      "nan\n",
      "1163\n",
      "3730\n",
      "3730\n",
      "1163\n",
      "nan\n",
      "1255\n",
      "1578\n",
      "1578\n",
      "1255\n",
      "3730\n",
      "1920\n",
      "1163\n",
      "1163\n",
      "1578\n",
      "920\n",
      "1255\n",
      "1163\n",
      "920\n",
      "1920\n",
      "1578\n",
      "1920\n",
      "1255\n",
      "1920\n",
      "2790\n",
      "2790\n",
      "1920\n",
      "1578\n",
      "1920\n",
      "2918\n",
      "920\n",
      "1524\n",
      "1163\n",
      "1163\n",
      "1255\n",
      "1578\n",
      "1163\n",
      "1163\n",
      "1255\n",
      "1920\n",
      "1920\n",
      "920\n",
      "920\n",
      "1878\n",
      "920\n",
      "2918\n",
      "2918\n",
      "1163\n",
      "920\n",
      "1878\n",
      "2918\n",
      "1163\n",
      "1255\n",
      "1163\n",
      "1920\n",
      "1163\n",
      "1920\n",
      "2918\n",
      "2918\n",
      "2918\n",
      "1255\n",
      "1163\n",
      "1255\n",
      "1524\n",
      "1255\n",
      "1255\n",
      "1163\n",
      "920\n",
      "3730\n",
      "1255\n",
      "920\n",
      "1163\n",
      "920\n",
      "1878\n",
      "3730\n",
      "3730\n",
      "1163\n",
      "nan\n",
      "1920\n",
      "842\n",
      "1255\n",
      "3730\n",
      "3730\n",
      "1163\n",
      "2918\n",
      "920\n",
      "1163\n",
      "2918\n",
      "2918\n",
      "1163\n",
      "1920\n",
      "1255\n",
      "1163\n",
      "1163\n",
      "1163\n",
      "1163\n",
      "1878\n",
      "1920\n",
      "1163\n",
      "1163\n",
      "1163\n",
      "2918\n",
      "920\n",
      "920\n",
      "920\n",
      "920\n",
      "920\n",
      "2918\n",
      "1255\n",
      "1163\n",
      "1163\n",
      "920\n",
      "920\n",
      "920\n",
      "3730\n",
      "3730\n",
      "1163\n",
      "1878\n",
      "1255\n",
      "1163\n",
      "1163\n",
      "1255\n",
      "1878\n",
      "2918\n",
      "1878\n",
      "3730\n",
      "920\n",
      "3730\n",
      "3730\n",
      "2918\n",
      "1920\n",
      "1255\n",
      "1920\n",
      "3730\n",
      "1255\n",
      "2918\n",
      "1163\n",
      "1163\n",
      "3730\n",
      "920\n",
      "nan\n",
      "1163\n",
      "1163\n",
      "3730\n",
      "1163\n",
      "1163\n",
      "1255\n",
      "2918\n",
      "1163\n",
      "1163\n",
      "1920\n",
      "1163\n",
      "2918\n",
      "920\n",
      "3730\n",
      "1878\n",
      "920\n",
      "1163\n",
      "1255\n",
      "1163\n",
      "1163\n",
      "1920\n",
      "1255\n",
      "1163\n",
      "1878\n",
      "1163\n",
      "1163\n",
      "1163\n",
      "1920\n",
      "1920\n",
      "3730\n",
      "1163\n",
      "1163\n",
      "1163\n",
      "1163\n",
      "1163\n",
      "1163\n",
      "1163\n",
      "1163\n",
      "842\n",
      "2918\n",
      "2918\n",
      "1163\n",
      "1163\n",
      "1878\n",
      "1163\n",
      "1163\n",
      "1163\n",
      "1878\n",
      "1878\n",
      "1163\n",
      "3730\n",
      "1878\n",
      "1878\n",
      "1524\n",
      "1878\n",
      "1878\n",
      "2918\n",
      "3730\n",
      "2918\n",
      "2918\n",
      "2918\n",
      "2918\n",
      "1163\n",
      "1163\n",
      "1524\n",
      "3730\n",
      "3730\n",
      "1163\n",
      "1163\n",
      "3730\n",
      "1878\n",
      "1163\n",
      "2918\n",
      "3730\n",
      "1163\n",
      "1163\n",
      "1163\n",
      "1163\n",
      "1163\n",
      "1163\n",
      "920\n",
      "1255\n",
      "1578\n",
      "1878\n",
      "3730\n",
      "3730\n",
      "1163\n",
      "1163\n",
      "3730\n",
      "3730\n",
      "3730\n",
      "1255\n",
      "1878\n",
      "2918\n",
      "2918\n",
      "2918\n",
      "1878\n",
      "1878\n",
      "1878\n",
      "1878\n",
      "2918\n",
      "1578\n",
      "3730\n",
      "3730\n",
      "3730\n",
      "1920\n",
      "1163\n",
      "1163\n",
      "1163\n",
      "1163\n",
      "920\n",
      "1163\n",
      "1163\n",
      "1920\n",
      "2918\n",
      "1163\n",
      "1163\n",
      "2918\n",
      "1878\n",
      "1878\n",
      "1163\n",
      "1163\n",
      "1920\n",
      "1163\n",
      "1255\n",
      "1878\n",
      "2918\n",
      "2918\n",
      "2918\n",
      "2918\n",
      "2918\n",
      "1163\n",
      "1163\n",
      "3730\n",
      "1163\n",
      "1163\n",
      "1163\n",
      "1163\n",
      "1163\n",
      "1163\n",
      "920\n",
      "1255\n",
      "1878\n",
      "1878\n",
      "1163\n",
      "1163\n",
      "1163\n",
      "1163\n",
      "920\n",
      "1920\n",
      "1255\n",
      "3730\n",
      "1878\n",
      "1163\n",
      "1878\n",
      "1878\n",
      "920\n",
      "3730\n",
      "920\n",
      "1255\n",
      "1878\n",
      "1878\n",
      "2918\n",
      "1920\n",
      "1163\n",
      "3730\n",
      "1578\n",
      "3730\n",
      "1163\n",
      "3730\n",
      "1578\n",
      "1578\n",
      "1920\n",
      "920\n",
      "1163\n",
      "1878\n",
      "1878\n",
      "1878\n",
      "1163\n",
      "3730\n",
      "3730\n",
      "1578\n",
      "920\n",
      "3730\n",
      "2918\n",
      "3730\n",
      "1163\n",
      "1878\n",
      "1255\n",
      "1163\n",
      "nan\n",
      "1163\n",
      "1163\n",
      "2918\n",
      "1920\n",
      "1163\n",
      "1163\n",
      "1578\n",
      "1578\n",
      "1163\n",
      "1163\n",
      "920\n",
      "920\n",
      "920\n",
      "1878\n",
      "1163\n",
      "1920\n",
      "3730\n",
      "920\n",
      "2918\n",
      "1163\n",
      "1163\n",
      "1163\n",
      "1255\n",
      "920\n",
      "3730\n",
      "2918\n",
      "1163\n",
      "1163\n",
      "1163\n",
      "1163\n",
      "1163\n",
      "920\n",
      "1163\n",
      "920\n",
      "2918\n",
      "1163\n",
      "1163\n",
      "nan\n",
      "2918\n",
      "1878\n",
      "1163\n",
      "1163\n",
      "1163\n",
      "2918\n",
      "1163\n",
      "920\n",
      "767\n",
      "767\n",
      "1163\n",
      "1163\n",
      "2918\n",
      "1163\n",
      "2918\n",
      "1920\n",
      "1163\n",
      "1255\n",
      "3730\n",
      "3730\n",
      "2918\n",
      "1163\n",
      "1163\n",
      "1878\n",
      "1920\n",
      "2918\n",
      "1163\n",
      "2918\n",
      "920\n",
      "1163\n",
      "1163\n",
      "1163\n",
      "1163\n",
      "920\n",
      "1163\n",
      "nan\n",
      "1163\n",
      "1163\n",
      "1163\n",
      "1163\n",
      "1163\n",
      "1789\n",
      "14189\n",
      "14189\n",
      "920\n",
      "1920\n",
      "2918\n",
      "1920\n",
      "1163\n",
      "2918\n",
      "1163\n",
      "1163\n",
      "1163\n",
      "1163\n",
      "1163\n",
      "1163\n",
      "1878\n",
      "920\n",
      "1578\n",
      "1878\n",
      "1163\n",
      "920\n",
      "1163\n",
      "1163\n",
      "1163\n",
      "1163\n",
      "1878\n",
      "920\n",
      "1163\n",
      "1163\n",
      "920\n",
      "920\n",
      "1163\n",
      "1163\n",
      "1163\n",
      "1163\n",
      "1163\n",
      "1163\n",
      "1878\n",
      "1163\n",
      "1920\n",
      "1878\n",
      "1163\n",
      "920\n",
      "1163\n",
      "1163\n",
      "1163\n",
      "1163\n",
      "1163\n",
      "nan\n",
      "1163\n",
      "920\n",
      "1163\n",
      "1163\n",
      "1878\n",
      "1878\n",
      "1163\n",
      "1163\n",
      "1163\n",
      "920\n",
      "nan\n",
      "1163\n",
      "1163\n",
      "1163\n",
      "1163\n",
      "1163\n",
      "1163\n",
      "1163\n",
      "1163\n",
      "1163\n",
      "1163\n",
      "1163\n",
      "1163\n",
      "1163\n",
      "1163\n",
      "1163\n",
      "1163\n",
      "1163\n",
      "1163\n",
      "1163\n",
      "1163\n",
      "1163\n",
      "1163\n",
      "nan\n",
      "1163\n",
      "nan\n",
      "1163\n",
      "1163\n",
      "1163\n",
      "1163\n",
      "1163\n",
      "1163\n",
      "1163\n",
      "1163\n"
     ]
    }
   ],
   "source": [
    "for idx in data.index.values:\n",
    "    print(find_integrated_graphics_card_name(idx))"
   ]
  },
  {
   "cell_type": "code",
   "execution_count": 118,
   "metadata": {},
   "outputs": [],
   "source": [
    "data['integrated_gpu_scores'] = [float(find_integrated_graphics_card_name(idx)) for idx in data.index.values]"
   ]
  },
  {
   "cell_type": "code",
   "execution_count": 119,
   "metadata": {},
   "outputs": [
    {
     "data": {
      "text/plain": [
       "0        307.0\n",
       "1        333.0\n",
       "2        333.0\n",
       "3        333.0\n",
       "4        307.0\n",
       "        ...   \n",
       "724    13971.0\n",
       "725    16706.0\n",
       "726    13889.0\n",
       "727    16706.0\n",
       "728    18578.0\n",
       "Length: 729, dtype: float64"
      ]
     },
     "execution_count": 119,
     "metadata": {},
     "output_type": "execute_result"
    }
   ],
   "source": [
    "data[['integrated_gpu_scores', 'dedicated_gpu_scores']].max(axis = 1)"
   ]
  },
  {
   "cell_type": "code",
   "execution_count": 120,
   "metadata": {},
   "outputs": [],
   "source": [
    "data.drop('integrated_graphics_card_model', axis = 1, inplace = True, errors = 'ignore')\n",
    "data.drop('dedicated_graphics_card_model', axis = 1, inplace = True, errors = 'ignore')"
   ]
  },
  {
   "cell_type": "markdown",
   "metadata": {},
   "source": [
    "## Screen Info"
   ]
  },
  {
   "cell_type": "code",
   "execution_count": 121,
   "metadata": {},
   "outputs": [
    {
     "data": {
      "text/plain": [
       "0       HD\n",
       "1       HD\n",
       "2       HD\n",
       "3       HD\n",
       "4       HD\n",
       "      ... \n",
       "724    UHD\n",
       "725    UHD\n",
       "726    UHD\n",
       "727    UHD\n",
       "728    UHD\n",
       "Name: screen_resolution_name, Length: 729, dtype: object"
      ]
     },
     "execution_count": 121,
     "metadata": {},
     "output_type": "execute_result"
    }
   ],
   "source": [
    "data.screen_resolution_name"
   ]
  },
  {
   "cell_type": "code",
   "execution_count": 122,
   "metadata": {},
   "outputs": [
    {
     "data": {
      "text/plain": [
       "0          IPS\n",
       "1      TN+film\n",
       "2      TN+film\n",
       "3      TN+film\n",
       "4      TN+film\n",
       "        ...   \n",
       "724        IPS\n",
       "725        IPS\n",
       "726        IPS\n",
       "727        IPS\n",
       "728        IPS\n",
       "Name: display_type, Length: 729, dtype: object"
      ]
     },
     "execution_count": 122,
     "metadata": {},
     "output_type": "execute_result"
    }
   ],
   "source": [
    "data.display_type"
   ]
  },
  {
   "cell_type": "code",
   "execution_count": 123,
   "metadata": {},
   "outputs": [
    {
     "data": {
      "text/plain": [
       "0      NaN\n",
       "1      нет\n",
       "2      нет\n",
       "3      нет\n",
       "4      нет\n",
       "      ... \n",
       "724    нет\n",
       "725    нет\n",
       "726    нет\n",
       "727    нет\n",
       "728    нет\n",
       "Name: adaptive_sync_technology, Length: 729, dtype: object"
      ]
     },
     "execution_count": 123,
     "metadata": {},
     "output_type": "execute_result"
    }
   ],
   "source": [
    "data.adaptive_sync_technology"
   ]
  },
  {
   "cell_type": "code",
   "execution_count": 124,
   "metadata": {},
   "outputs": [
    {
     "data": {
      "text/plain": [
       "0      49% sRGB, 45% NTSC, 34% AdobeRGB\n",
       "1                              45% NTSC\n",
       "2                              45% NTSC\n",
       "3                              45% NTSC\n",
       "4                                   NaN\n",
       "                     ...               \n",
       "724                       100% AdobeRGB\n",
       "725                       100% AdobeRGB\n",
       "726                       100% AdobeRGB\n",
       "727                       100% AdobeRGB\n",
       "728                       100% AdobeRGB\n",
       "Name: color_gamut, Length: 729, dtype: object"
      ]
     },
     "execution_count": 124,
     "metadata": {},
     "output_type": "execute_result"
    }
   ],
   "source": [
    "data.color_gamut"
   ]
  },
  {
   "cell_type": "code",
   "execution_count": null,
   "metadata": {},
   "outputs": [],
   "source": []
  },
  {
   "cell_type": "code",
   "execution_count": 125,
   "metadata": {},
   "outputs": [
    {
     "name": "stdout",
     "output_type": "stream",
     "text": [
      "col_name = screen_resolution_name\n",
      "col_dtype = object\n",
      "\n",
      "unique_values_counts:\n",
      "\n",
      "FullHD    639\n",
      "UHD        38\n",
      "HD+        18\n",
      "HD         16\n",
      "WQXGA      10\n",
      "QHD         5\n",
      "WQXGA+      1\n",
      "WXGA+       1\n",
      "WQHD        1\n",
      "Name: screen_resolution_name, dtype: int64\n"
     ]
    }
   ],
   "source": [
    "col_info('screen_resolution_name')"
   ]
  },
  {
   "cell_type": "code",
   "execution_count": 126,
   "metadata": {},
   "outputs": [
    {
     "name": "stdout",
     "output_type": "stream",
     "text": [
      "col_name = display_type\n",
      "col_dtype = object\n",
      "\n",
      "unique_values_counts:\n",
      "\n",
      "IPS              635\n",
      "TN+film           77\n",
      "SVA (TN+film)      9\n",
      "WVA                4\n",
      "OLED               4\n",
      "Name: display_type, dtype: int64\n"
     ]
    }
   ],
   "source": [
    "col_info('display_type')"
   ]
  },
  {
   "cell_type": "code",
   "execution_count": 127,
   "metadata": {},
   "outputs": [
    {
     "name": "stdout",
     "output_type": "stream",
     "text": [
      "col_name = adaptive_sync_technology\n",
      "col_dtype = object\n",
      "\n",
      "unique_values_counts:\n",
      "\n",
      "нет              559\n",
      "NaN               68\n",
      "NVIDIA G-SYNC     67\n",
      "Adaptive-Sync     29\n",
      "AMD FreeSync       6\n",
      "Name: adaptive_sync_technology, dtype: int64\n"
     ]
    }
   ],
   "source": [
    "col_info('adaptive_sync_technology')"
   ]
  },
  {
   "cell_type": "code",
   "execution_count": 128,
   "metadata": {},
   "outputs": [],
   "source": [
    "# above - OHE"
   ]
  },
  {
   "cell_type": "code",
   "execution_count": 129,
   "metadata": {},
   "outputs": [
    {
     "name": "stdout",
     "output_type": "stream",
     "text": [
      "col_name = color_gamut\n",
      "col_dtype = object\n",
      "\n",
      "unique_values_counts:\n",
      "\n",
      "NaN                                 222\n",
      "45% NTSC                            181\n",
      "100% sRGB                           111\n",
      "72% NTSC                             40\n",
      "100% AdobeRGB                        29\n",
      "50% AdobeRGB, 67% sRGB, 45% NTSC     14\n",
      "54% sRGB                             13\n",
      "62% sRGB, 45% NTSC                   10\n",
      "60% NTSC                              7\n",
      "100% sRGB, 72% NTSC                   7\n",
      "39% AdobeRGB, 62% sRGB                6\n",
      "94% sRGB                              5\n",
      "100% DCI-P3                           5\n",
      "77% AdobeRGB                          5\n",
      "36% AdobeRGB, 57% sRGB                4\n",
      "85% sRGB, 63% AdobeRGB                4\n",
      "62% sRGB, 39% AdobeRGB                4\n",
      "92% sRGB, 60% AdobeRGB                4\n",
      "48% AdobeRGB, 64% sRGB, 45% NTSC      3\n",
      "48% AdobeRGB, 65% sRGB, 46% NTSC      3\n",
      "91% sRGB, 59% AdobeRGB                3\n",
      "67% sRGB, 50% AdobeRGB                3\n",
      "47% AdobeRGB, 62% sRGB, 45% NTSC      3\n",
      "100% sRGB, 67% AdobeRGB               3\n",
      "58% sRGB, 37% AdobeRGB                3\n",
      "56% sRGB                              3\n",
      "59% sRGB, 41% AdobeRGB                2\n",
      "100% sRGB, 45% NTSC                   2\n",
      "72% NTSC, 100% sRGB                   2\n",
      "37% AdobeRGB, 58% sRGB                2\n",
      "70% NTSC, 100% sRGB                   2\n",
      "100% sRGB, 70% NTSC                   2\n",
      "46% NTSC, 48% AdobeRGB, 65% sRGB      2\n",
      "50% AdobeRGB, 62% sRGB, 45% NTSC      2\n",
      "62% sRGB, 47% AdobeRGB, 45% NTSC      2\n",
      "45% NTSC, 50% AdobeRGB, 67% sRGB      2\n",
      "63% AdobeRGB, 85% sRGB                1\n",
      "49% sRGB, 45% NTSC, 34% AdobeRGB      1\n",
      "90% DCI-P3, 100% sRGB                 1\n",
      "38% AdobeRGB, 59% sRGB                1\n",
      "58% AdobeRGB, 80% sRGB                1\n",
      "99% sRGB, 65% AdobeRGB                1\n",
      "65% AdobeRGB, 99% sRGB                1\n",
      "58% AdobeRGB, 89% sRGB                1\n",
      "57% sRGB, 36% AdobeRGB                1\n",
      "64% sRGB, 48% AdobeRGB, 45% NTSC      1\n",
      "95% sRGB, 60% AdobeRGB                1\n",
      "41% AdobeRGB, 60% sRGB                1\n",
      "90% DCI-P3                            1\n",
      "64% AdobeRGB, 98% sRGB                1\n",
      "Name: color_gamut, dtype: int64\n"
     ]
    }
   ],
   "source": [
    "col_info('color_gamut')"
   ]
  },
  {
   "cell_type": "code",
   "execution_count": 130,
   "metadata": {},
   "outputs": [
    {
     "data": {
      "text/plain": [
       "array(['AdobeRGB', 'DCI-P3', 'NTSC', 'sRGB'], dtype='<U8')"
      ]
     },
     "execution_count": 130,
     "metadata": {},
     "output_type": "execute_result"
    }
   ],
   "source": [
    "vals = list(map(lambda s: s.split(','), data.color_gamut.value_counts().index.unique().values))\n",
    "vals = list(reduce(lambda l1, l2: l1 + l2, vals))\n",
    "vals = np.array(list(map(lambda val: val.split(), vals)))\n",
    "np.unique(vals[:, 1])"
   ]
  },
  {
   "cell_type": "code",
   "execution_count": 131,
   "metadata": {},
   "outputs": [],
   "source": [
    "def foo(s, keyword):\n",
    "    if pd.isnull(s):\n",
    "        return np.nan\n",
    "    \n",
    "    vals = s.split(',')\n",
    "    for val in vals:\n",
    "        if val.split()[1] == keyword:\n",
    "            return int(val.split()[0][:-1])\n",
    "    return np.nan"
   ]
  },
  {
   "cell_type": "code",
   "execution_count": 132,
   "metadata": {},
   "outputs": [],
   "source": [
    "# missing values:\n",
    "# mean\n",
    "# median \n",
    "# moda \n",
    "# simple 0 with column-indicator"
   ]
  },
  {
   "cell_type": "code",
   "execution_count": 133,
   "metadata": {},
   "outputs": [],
   "source": [
    "data['AdobeRGB'] = data.color_gamut.map(lambda s: np.nan if pd.isnull(s) else foo(s, 'AdobeRGB'))"
   ]
  },
  {
   "cell_type": "code",
   "execution_count": 134,
   "metadata": {},
   "outputs": [
    {
     "name": "stdout",
     "output_type": "stream",
     "text": [
      "col_name = AdobeRGB\n",
      "col_dtype = float64\n",
      "\n",
      "unique_values_counts:\n",
      "\n",
      "NaN      614\n",
      "100.0     29\n",
      "50.0      21\n",
      "39.0      10\n",
      "48.0       9\n",
      "77.0       5\n",
      "37.0       5\n",
      "63.0       5\n",
      "60.0       5\n",
      "36.0       5\n",
      "47.0       5\n",
      "67.0       3\n",
      "59.0       3\n",
      "41.0       3\n",
      "65.0       2\n",
      "58.0       2\n",
      "38.0       1\n",
      "64.0       1\n",
      "34.0       1\n",
      "Name: AdobeRGB, dtype: int64\n"
     ]
    }
   ],
   "source": [
    "col_info('AdobeRGB')"
   ]
  },
  {
   "cell_type": "code",
   "execution_count": 135,
   "metadata": {},
   "outputs": [],
   "source": [
    "data['DCI-P3'] = data.color_gamut.map(lambda s: np.nan if pd.isnull(s) else foo(s, 'DCI-P3'))"
   ]
  },
  {
   "cell_type": "code",
   "execution_count": 136,
   "metadata": {},
   "outputs": [
    {
     "name": "stdout",
     "output_type": "stream",
     "text": [
      "col_name = DCI-P3\n",
      "col_dtype = float64\n",
      "\n",
      "unique_values_counts:\n",
      "\n",
      "NaN      722\n",
      "100.0      5\n",
      "90.0       2\n",
      "Name: DCI-P3, dtype: int64\n"
     ]
    }
   ],
   "source": [
    "col_info('DCI-P3')"
   ]
  },
  {
   "cell_type": "code",
   "execution_count": 137,
   "metadata": {},
   "outputs": [],
   "source": [
    "data['NTSC'] = data.color_gamut.map(lambda s: np.nan if pd.isnull(s) else foo(s, 'NTSC'))"
   ]
  },
  {
   "cell_type": "code",
   "execution_count": 138,
   "metadata": {},
   "outputs": [
    {
     "name": "stdout",
     "output_type": "stream",
     "text": [
      "col_name = NTSC\n",
      "col_dtype = float64\n",
      "\n",
      "unique_values_counts:\n",
      "\n",
      "NaN     443\n",
      "45.0    221\n",
      "72.0     49\n",
      "60.0      7\n",
      "46.0      5\n",
      "70.0      4\n",
      "Name: NTSC, dtype: int64\n"
     ]
    }
   ],
   "source": [
    "col_info('NTSC')"
   ]
  },
  {
   "cell_type": "code",
   "execution_count": 139,
   "metadata": {},
   "outputs": [],
   "source": [
    "data['sRGB'] = data.color_gamut.map(lambda s: np.nan if pd.isnull(s) else foo(s, 'sRGB'))"
   ]
  },
  {
   "cell_type": "code",
   "execution_count": 140,
   "metadata": {},
   "outputs": [
    {
     "name": "stdout",
     "output_type": "stream",
     "text": [
      "col_name = sRGB\n",
      "col_dtype = float64\n",
      "\n",
      "unique_values_counts:\n",
      "\n",
      "NaN      490\n",
      "100.0    130\n",
      "62.0      27\n",
      "67.0      19\n",
      "54.0      13\n",
      "58.0       5\n",
      "94.0       5\n",
      "85.0       5\n",
      "65.0       5\n",
      "57.0       5\n",
      "64.0       4\n",
      "92.0       4\n",
      "91.0       3\n",
      "59.0       3\n",
      "56.0       3\n",
      "99.0       2\n",
      "95.0       1\n",
      "80.0       1\n",
      "98.0       1\n",
      "60.0       1\n",
      "89.0       1\n",
      "49.0       1\n",
      "Name: sRGB, dtype: int64\n"
     ]
    }
   ],
   "source": [
    "col_info('sRGB')"
   ]
  },
  {
   "cell_type": "code",
   "execution_count": 141,
   "metadata": {},
   "outputs": [],
   "source": [
    "data.drop('color_gamut', axis = 1, inplace = True, errors = 'ignore')"
   ]
  },
  {
   "cell_type": "code",
   "execution_count": 178,
   "metadata": {},
   "outputs": [
    {
     "ename": "AttributeError",
     "evalue": "'Series' object has no attribute 'model_name'",
     "output_type": "error",
     "traceback": [
      "\u001b[1;31m---------------------------------------------------------------------------\u001b[0m",
      "\u001b[1;31mAttributeError\u001b[0m                            Traceback (most recent call last)",
      "\u001b[1;32m<ipython-input-178-9e3593ff0da6>\u001b[0m in \u001b[0;36m<module>\u001b[1;34m\u001b[0m\n\u001b[1;32m----> 1\u001b[1;33m \u001b[0mdata\u001b[0m\u001b[1;33m.\u001b[0m\u001b[0mloc\u001b[0m\u001b[1;33m[\u001b[0m\u001b[1;36m203\u001b[0m\u001b[1;33m]\u001b[0m\u001b[1;33m.\u001b[0m\u001b[0mmodel_name\u001b[0m\u001b[1;33m\u001b[0m\u001b[1;33m\u001b[0m\u001b[0m\n\u001b[0m",
      "\u001b[1;32m~\\.conda\\envs\\New\\lib\\site-packages\\pandas\\core\\generic.py\u001b[0m in \u001b[0;36m__getattr__\u001b[1;34m(self, name)\u001b[0m\n\u001b[0;32m   5177\u001b[0m             \u001b[1;32mif\u001b[0m \u001b[0mself\u001b[0m\u001b[1;33m.\u001b[0m\u001b[0m_info_axis\u001b[0m\u001b[1;33m.\u001b[0m\u001b[0m_can_hold_identifiers_and_holds_name\u001b[0m\u001b[1;33m(\u001b[0m\u001b[0mname\u001b[0m\u001b[1;33m)\u001b[0m\u001b[1;33m:\u001b[0m\u001b[1;33m\u001b[0m\u001b[1;33m\u001b[0m\u001b[0m\n\u001b[0;32m   5178\u001b[0m                 \u001b[1;32mreturn\u001b[0m \u001b[0mself\u001b[0m\u001b[1;33m[\u001b[0m\u001b[0mname\u001b[0m\u001b[1;33m]\u001b[0m\u001b[1;33m\u001b[0m\u001b[1;33m\u001b[0m\u001b[0m\n\u001b[1;32m-> 5179\u001b[1;33m             \u001b[1;32mreturn\u001b[0m \u001b[0mobject\u001b[0m\u001b[1;33m.\u001b[0m\u001b[0m__getattribute__\u001b[0m\u001b[1;33m(\u001b[0m\u001b[0mself\u001b[0m\u001b[1;33m,\u001b[0m \u001b[0mname\u001b[0m\u001b[1;33m)\u001b[0m\u001b[1;33m\u001b[0m\u001b[1;33m\u001b[0m\u001b[0m\n\u001b[0m\u001b[0;32m   5180\u001b[0m \u001b[1;33m\u001b[0m\u001b[0m\n\u001b[0;32m   5181\u001b[0m     \u001b[1;32mdef\u001b[0m \u001b[0m__setattr__\u001b[0m\u001b[1;33m(\u001b[0m\u001b[0mself\u001b[0m\u001b[1;33m,\u001b[0m \u001b[0mname\u001b[0m\u001b[1;33m,\u001b[0m \u001b[0mvalue\u001b[0m\u001b[1;33m)\u001b[0m\u001b[1;33m:\u001b[0m\u001b[1;33m\u001b[0m\u001b[1;33m\u001b[0m\u001b[0m\n",
      "\u001b[1;31mAttributeError\u001b[0m: 'Series' object has no attribute 'model_name'"
     ]
    }
   ],
   "source": []
  },
  {
   "cell_type": "markdown",
   "metadata": {},
   "source": [
    "## RAM Info"
   ]
  },
  {
   "cell_type": "code",
   "execution_count": 142,
   "metadata": {},
   "outputs": [
    {
     "data": {
      "text/plain": [
       "0      DDR4\n",
       "1      DDR4\n",
       "2      DDR4\n",
       "3      DDR4\n",
       "4      DDR4\n",
       "       ... \n",
       "724    DDR4\n",
       "725    DDR4\n",
       "726    DDR4\n",
       "727    DDR4\n",
       "728    DDR4\n",
       "Name: ram_type, Length: 729, dtype: object"
      ]
     },
     "execution_count": 142,
     "metadata": {},
     "output_type": "execute_result"
    }
   ],
   "source": [
    "data.ram_type"
   ]
  },
  {
   "cell_type": "code",
   "execution_count": 143,
   "metadata": {},
   "outputs": [
    {
     "data": {
      "text/plain": [
       "0        SMA\n",
       "1        SMA\n",
       "2        SMA\n",
       "3        SMA\n",
       "4        SMA\n",
       "       ...  \n",
       "724    GDDR6\n",
       "725    GDDR6\n",
       "726    GDDR6\n",
       "727    GDDR6\n",
       "728    GDDR6\n",
       "Name: graphics_ram_type, Length: 729, dtype: object"
      ]
     },
     "execution_count": 143,
     "metadata": {},
     "output_type": "execute_result"
    }
   ],
   "source": [
    "data.graphics_ram_type"
   ]
  },
  {
   "cell_type": "code",
   "execution_count": null,
   "metadata": {},
   "outputs": [],
   "source": []
  },
  {
   "cell_type": "code",
   "execution_count": 144,
   "metadata": {},
   "outputs": [
    {
     "name": "stdout",
     "output_type": "stream",
     "text": [
      "col_name = ram_type\n",
      "col_dtype = object\n",
      "\n",
      "unique_values_counts:\n",
      "\n",
      "DDR4       633\n",
      "LPDDR4x     58\n",
      "LPDDR3      25\n",
      "LPDDR4      12\n",
      "DDR3L        1\n",
      "Name: ram_type, dtype: int64\n"
     ]
    }
   ],
   "source": [
    "col_info('ram_type')"
   ]
  },
  {
   "cell_type": "code",
   "execution_count": 145,
   "metadata": {},
   "outputs": [],
   "source": [
    "# maybe label encoding if can be ranked\n",
    "# otherwise just OHE..."
   ]
  },
  {
   "cell_type": "code",
   "execution_count": 146,
   "metadata": {},
   "outputs": [
    {
     "name": "stdout",
     "output_type": "stream",
     "text": [
      "col_name = graphics_ram_type\n",
      "col_dtype = object\n",
      "\n",
      "unique_values_counts:\n",
      "\n",
      "SMA      367\n",
      "GDDR6    261\n",
      "GDDR5     97\n",
      "NaN        4\n",
      "Name: graphics_ram_type, dtype: int64\n"
     ]
    }
   ],
   "source": [
    "col_info('graphics_ram_type')"
   ]
  },
  {
   "cell_type": "code",
   "execution_count": 147,
   "metadata": {},
   "outputs": [],
   "source": [
    "# SMA -> graphics_ram_type == ram_type"
   ]
  },
  {
   "cell_type": "code",
   "execution_count": null,
   "metadata": {},
   "outputs": [],
   "source": []
  },
  {
   "cell_type": "markdown",
   "metadata": {},
   "source": [
    "## OS Info"
   ]
  },
  {
   "cell_type": "code",
   "execution_count": 148,
   "metadata": {},
   "outputs": [
    {
     "data": {
      "text/plain": [
       "0              Windows 10 Home\n",
       "1              Windows 10 Home\n",
       "2              Windows 10 Home\n",
       "3              Windows 10 Home\n",
       "4                UNIX-подобная\n",
       "                ...           \n",
       "724    Windows 10 Professional\n",
       "725    Windows 10 Professional\n",
       "726    Windows 10 Professional\n",
       "727    Windows 10 Professional\n",
       "728    Windows 10 Professional\n",
       "Name: os, Length: 729, dtype: object"
      ]
     },
     "execution_count": 148,
     "metadata": {},
     "output_type": "execute_result"
    }
   ],
   "source": [
    "data.os"
   ]
  },
  {
   "cell_type": "code",
   "execution_count": 149,
   "metadata": {},
   "outputs": [
    {
     "name": "stdout",
     "output_type": "stream",
     "text": [
      "col_name = os\n",
      "col_dtype = object\n",
      "\n",
      "unique_values_counts:\n",
      "\n",
      "Windows 10 Home            427\n",
      "DOS                        115\n",
      "UNIX-подобная               90\n",
      "Windows 10 Professional     74\n",
      "macOS                       12\n",
      "Windows 10 S                11\n",
      "Name: os, dtype: int64\n"
     ]
    }
   ],
   "source": [
    "col_info('os')"
   ]
  },
  {
   "cell_type": "code",
   "execution_count": 150,
   "metadata": {},
   "outputs": [],
   "source": [
    "# OHE"
   ]
  },
  {
   "cell_type": "code",
   "execution_count": null,
   "metadata": {},
   "outputs": [],
   "source": []
  },
  {
   "cell_type": "markdown",
   "metadata": {},
   "source": [
    "## Sound Info  "
   ]
  },
  {
   "cell_type": "code",
   "execution_count": 151,
   "metadata": {},
   "outputs": [
    {
     "data": {
      "text/plain": [
       "0                         стереодинамики\n",
       "1            ASUS SonicMaster , ICEpower\n",
       "2            ASUS SonicMaster , ICEpower\n",
       "3            ASUS SonicMaster , ICEpower\n",
       "4                       ASUS SonicMaster\n",
       "                     ...                \n",
       "724                      Waves MaxxAudio\n",
       "725                       стереодинамики\n",
       "726                       стереодинамики\n",
       "727                      Waves MaxxAudio\n",
       "728    Waves MaxxAudio , четыре динамика\n",
       "Name: sound_system, Length: 729, dtype: object"
      ]
     },
     "execution_count": 151,
     "metadata": {},
     "output_type": "execute_result"
    }
   ],
   "source": [
    "data.sound_system"
   ]
  },
  {
   "cell_type": "code",
   "execution_count": 152,
   "metadata": {},
   "outputs": [
    {
     "name": "stdout",
     "output_type": "stream",
     "text": [
      "col_name = sound_system\n",
      "col_dtype = object\n",
      "\n",
      "unique_values_counts:\n",
      "\n",
      "стереодинамики                                                 112\n",
      "Acer TrueHarmony                                               103\n",
      "Dolby Atmos                                                     57\n",
      "Dolby Audio                                                     54\n",
      "DTS:X Ultra                                                     46\n",
      "два динамика                                                    41\n",
      "NaN                                                             32\n",
      "Smart AMP                                                       30\n",
      "Nahimic 3                                                       27\n",
      "ASUS SonicMaster , ICEpower                                     26\n",
      "Harman kardon                                                   23\n",
      "Bang & Olufsen с 2 динамиками, HP Audio Boost                   20\n",
      "HP Audio Boost , Bang & Olufsen с 2 динамиками                  15\n",
      "Bang & Olufsen с 2 динамиками                                   13\n",
      "Harman kardon , ICEpower                                        13\n",
      "ASUS SonicMaster                                                13\n",
      "ASUS SonicMaster , Harman kardon                                12\n",
      "Waves MaxxAudio Pro                                             12\n",
      "Bang & Olufsen с 4 динамиками                                    8\n",
      "Harman kardon , Smart AMP                                        5\n",
      "Dolby Atmos , Smart AMP , четыре динамика                        5\n",
      "HP Audio Boost , Bang & Olufsen с 3 динамиками                   5\n",
      "DTS Headphone:X                                                  4\n",
      "Dolby Atmos , система из шести динамиков Hi‑Fi                   4\n",
      "Waves MaxxAudio                                                  4\n",
      "Dynaudio                                                         4\n",
      "Bang & Olufsen с 2 динамиками, HP Audio Boost , DTS:X Ultra      4\n",
      "Nahimic                                                          3\n",
      "ICEpower, Harman kardon                                          3\n",
      "ASUS SonicMaster , Bang & Olufsen, Harman kardon                 2\n",
      "Dolby Atmos , стереодинамики                                     2\n",
      "Bang & Olufsen, HP Audio Boost                                   2\n",
      "HP Audio Boost , Bang & Olufsen                                  2\n",
      "ASUS SonicMaster , Harman kardon , четыре динамика               2\n",
      "нет                                                              2\n",
      "Harman kardon , ASUS SonicMaster , Smart AMP                     1\n",
      "ASUS SonicMaster Technology ICESound                             1\n",
      "Dolby Advanced Audio                                             1\n",
      "Dolby Atmos , Harman kardon                                      1\n",
      "ЦАП ESS SABRE HiFi , Smart AMP                                   1\n",
      "Dolby Audio, Harman Audio                                        1\n",
      "ICEpower                                                         1\n",
      "Dynaudio, наличие сабвуфера, Nahimic 3                           1\n",
      "Waves MaxxAudio , четыре динамика                                1\n",
      "Bang & Olufsen с 4 динамиками, Audio Boost                       1\n",
      "ASUS SonicStudio                                                 1\n",
      "Dolby Audio Premium                                              1\n",
      "Harman Audio, ASUS SonicMaster                                   1\n",
      "Bang & Olufsen, Audio Boost                                      1\n",
      "Dolby Atmos , четыре динамика, Smart AMP                         1\n",
      "HP Audio Boost , Bang & Olufsen с 2 динамиками, DTS:X Ultra      1\n",
      "Audio Boost , Smart AMP                                          1\n",
      "ЦАП ESS SABRE HiFi , звук от Dynaudio, Nahimic 3                 1\n",
      "ЦАП ESS SABRE HiFi , Dynaudio, наличие сабвуфера, Nahimic 3      1\n",
      "Name: sound_system, dtype: int64\n"
     ]
    }
   ],
   "source": [
    "col_info('sound_system')"
   ]
  },
  {
   "cell_type": "code",
   "execution_count": 153,
   "metadata": {},
   "outputs": [],
   "source": [
    "# for now just drop"
   ]
  },
  {
   "cell_type": "code",
   "execution_count": 154,
   "metadata": {},
   "outputs": [],
   "source": [
    "data.drop('sound_system', axis = 1, inplace = True, errors = 'ignore')"
   ]
  },
  {
   "cell_type": "markdown",
   "metadata": {},
   "source": [
    "## Color"
   ]
  },
  {
   "cell_type": "code",
   "execution_count": 155,
   "metadata": {},
   "outputs": [
    {
     "data": {
      "text/plain": [
       "0       черный\n",
       "1        синий\n",
       "2      розовый\n",
       "3        белый\n",
       "4       черный\n",
       "        ...   \n",
       "724      белый\n",
       "725      белый\n",
       "726      белый\n",
       "727      белый\n",
       "728     черный\n",
       "Name: color, Length: 729, dtype: object"
      ]
     },
     "execution_count": 155,
     "metadata": {},
     "output_type": "execute_result"
    }
   ],
   "source": [
    "data.color"
   ]
  },
  {
   "cell_type": "code",
   "execution_count": 156,
   "metadata": {},
   "outputs": [
    {
     "name": "stdout",
     "output_type": "stream",
     "text": [
      "col_name = color\n",
      "col_dtype = object\n",
      "\n",
      "unique_values_counts:\n",
      "\n",
      "черный         336\n",
      "серый          143\n",
      "серебристый    134\n",
      "синий           41\n",
      "белый           37\n",
      "красный         13\n",
      "розовый         11\n",
      "зеленый         10\n",
      "золотистый       4\n",
      "Name: color, dtype: int64\n"
     ]
    }
   ],
   "source": [
    "col_info('color')"
   ]
  },
  {
   "cell_type": "code",
   "execution_count": 157,
   "metadata": {},
   "outputs": [],
   "source": [
    "# does not affect price (at least that's what I believe in...)"
   ]
  },
  {
   "cell_type": "code",
   "execution_count": 158,
   "metadata": {},
   "outputs": [],
   "source": [
    "data.drop('color', axis = 1, inplace = True, errors = 'ignore')"
   ]
  },
  {
   "cell_type": "markdown",
   "metadata": {},
   "source": [
    "## Other Info"
   ]
  },
  {
   "cell_type": "code",
   "execution_count": 159,
   "metadata": {},
   "outputs": [
    {
     "data": {
      "text/plain": [
       "0            NaN\n",
       "1      NumberPad\n",
       "2      NumberPad\n",
       "3      NumberPad\n",
       "4            NaN\n",
       "         ...    \n",
       "724          NaN\n",
       "725          NaN\n",
       "726          NaN\n",
       "727          NaN\n",
       "728          NaN\n",
       "Name: additional_info, Length: 729, dtype: object"
      ]
     },
     "execution_count": 159,
     "metadata": {},
     "output_type": "execute_result"
    }
   ],
   "source": [
    "data.additional_info"
   ]
  },
  {
   "cell_type": "code",
   "execution_count": 160,
   "metadata": {},
   "outputs": [
    {
     "data": {
      "text/plain": [
       "0      Digma\n",
       "1       ASUS\n",
       "2       ASUS\n",
       "3       ASUS\n",
       "4       ASUS\n",
       "       ...  \n",
       "724     Acer\n",
       "725     Acer\n",
       "726     Acer\n",
       "727     Acer\n",
       "728     Acer\n",
       "Name: brand_name, Length: 729, dtype: object"
      ]
     },
     "execution_count": 160,
     "metadata": {},
     "output_type": "execute_result"
    }
   ],
   "source": [
    "data.brand_name"
   ]
  },
  {
   "cell_type": "code",
   "execution_count": 161,
   "metadata": {},
   "outputs": [
    {
     "data": {
      "text/plain": [
       "0                        EVE 10 C301\n",
       "1               Laptop E210MA-GJ001T\n",
       "2               Laptop E210MA-GJ002T\n",
       "3               Laptop E210MA-GJ003T\n",
       "4                Laptop K540BA-GQ613\n",
       "                   ...              \n",
       "724         ConceptD 7 CN715-71-79YB\n",
       "725    ConceptD 7 Pro CN715-71P-77A7\n",
       "726    ConceptD 7 Ezel CC715-71-70X8\n",
       "727    ConceptD 7 Pro CN715-71P-70XB\n",
       "728         ConceptD 9 CN917-71-964C\n",
       "Name: model_name, Length: 729, dtype: object"
      ]
     },
     "execution_count": 161,
     "metadata": {},
     "output_type": "execute_result"
    }
   ],
   "source": [
    "data.model_name"
   ]
  },
  {
   "cell_type": "code",
   "execution_count": null,
   "metadata": {},
   "outputs": [],
   "source": []
  },
  {
   "cell_type": "code",
   "execution_count": 162,
   "metadata": {},
   "outputs": [
    {
     "name": "stdout",
     "output_type": "stream",
     "text": [
      "col_name = additional_info\n",
      "col_dtype = object\n",
      "\n",
      "unique_values_counts:\n",
      "\n",
      "NaN                                                                                                                             576\n",
      "NumberPad                                                                                                                        37\n",
      "шторка веб-камеры                                                                                                                13\n",
      "датчик Холла                                                                                                                     11\n",
      "акселерометр                                                                                                                     11\n",
      "датчик Холла , датчик внешней освещенности                                                                                        8\n",
      "совмещенный разъем Type-C / DisplayPort, акселерометр                                                                             7\n",
      "поддержка стандарта Miracast                                                                                                      5\n",
      "угол раскрытия экрана 180 градусов, шторка веб-камеры                                                                             5\n",
      "влагозащищенная клавиатура                                                                                                        5\n",
      "электронный компас , акселерометр , гироскоп                                                                                      5\n",
      "датчик Холла , акселерометр                                                                                                       4\n",
      "защитное стекло экрана Gorilla Glass                                                                                              4\n",
      "датчик Холла , акселерометр , датчик внешней освещенности                                                                         3\n",
      "ИК-датчик температуры, 4-х зонная подсветка клавитуры                                                                             3\n",
      "ИК-датчик температуры, электронный компас , акселерометр , гироскоп                                                               3\n",
      "12.6” Full-HD дополнительный сенсорный дисплей                                                                                    2\n",
      "шторка веб-камеры, ИК-датчик температуры                                                                                          2\n",
      "панель Touch Bar со встроенным датчиком Touch ID, датчик внешней освещенности                                                     2\n",
      "14” 4K/UHD (3840 x 1100) дополнительный сенсорный дисплей                                                                         2\n",
      "быстрая зарядка                                                                                                                   2\n",
      "датчик внешней освещенности                                                                                                       2\n",
      "шторка веб-камеры, быстрая зарядка                                                                                                2\n",
      "поддержка стандарта Miracast, акселерометр                                                                                        1\n",
      "датчик поворота экрана , ИК-датчик температуры, электронный компас , гироскоп                                                     1\n",
      "защитное стекло экрана Corning Gorilla Glass, датчик Холла , датчик внешней освещенности                                          1\n",
      "шторка веб-камеры, датчик поворота экрана , ИК-датчик температуры, гироскоп                                                       1\n",
      "NumberPad , встроенный криптопроцессор стандарта TPM 2.0, шторка веб-камеры, датчик приближения, влагозащищенная клавиатура       1\n",
      "Nahimic 3                                                                                                                         1\n",
      "гироскоп , электронный компас , акселерометр                                                                                      1\n",
      "датчик поворота экрана , ИК-датчик температуры, стеклянное покрытие Corning Gorilla Glass NBT, электронный компас , гироскоп      1\n",
      "гироскоп , акселерометр , электронный компас                                                                                      1\n",
      "ИК-датчик температуры, датчик поворота экрана , электронный компас , гироскоп                                                     1\n",
      "керамическая поверхность                                                                                                          1\n",
      "быстрая зарядка, ИК-датчик температуры, датчик поворота экрана , электронный компас , гироскоп                                    1\n",
      "датчик Холла , датчик внешней освещенности , акселерометр                                                                         1\n",
      "крышка Anime matrix LED Display                                                                                                   1\n",
      "дисплей со светодиодной подсветкой, Multi-Touch , веб-камера 1.0 Мпикс, Bluetooth 4.0, 720p HD веб-камера                         1\n",
      "Name: additional_info, dtype: int64\n"
     ]
    }
   ],
   "source": [
    "col_info('additional_info')"
   ]
  },
  {
   "cell_type": "code",
   "execution_count": 163,
   "metadata": {},
   "outputs": [
    {
     "name": "stdout",
     "output_type": "stream",
     "text": [
      "['12.6”Full-HDдополнительныйсенсорныйдисплей'\n",
      " '14”4K/UHD(3840x1100)дополнительныйсенсорныйдисплей'\n",
      " '4-хзоннаяподсветкаклавитуры' '720pHDвеб-камера' 'Bluetooth4.0'\n",
      " 'Multi-Touch' 'Nahimic3' 'NumberPad' 'ИК-датчиктемпературы'\n",
      " 'акселерометр' 'быстраязарядка' 'веб-камера1.0Мпикс'\n",
      " 'влагозащищеннаяклавиатура' 'встроенныйкриптопроцессорстандартаTPM2.0'\n",
      " 'гироскоп' 'датчикХолла' 'датчиквнешнейосвещенности'\n",
      " 'датчикповоротаэкрана' 'датчикприближения'\n",
      " 'дисплейсосветодиоднойподсветкой'\n",
      " 'защитноестеклоэкранаCorningGorillaGlass'\n",
      " 'защитноестеклоэкранаGorillaGlass' 'керамическаяповерхность'\n",
      " 'крышкаAnimematrixLEDDisplay' 'панельTouchBarсовстроеннымдатчикомTouchID'\n",
      " 'поддержкастандартаMiracast' 'совмещенныйразъемType-C/DisplayPort'\n",
      " 'стеклянноепокрытиеCorningGorillaGlassNBT'\n",
      " 'уголраскрытияэкрана180градусов' 'шторкавеб-камеры' 'электронныйкомпас']\n"
     ]
    }
   ],
   "source": [
    "tmp = list(map(lambda s: s.replace(' ', '').split(','), data['additional_info'].value_counts().index.unique().values))\n",
    "print(np.unique(list(reduce(lambda l1, l2: l1 + l2, tmp))))"
   ]
  },
  {
   "cell_type": "code",
   "execution_count": 164,
   "metadata": {},
   "outputs": [],
   "source": [
    "# to be done...."
   ]
  },
  {
   "cell_type": "code",
   "execution_count": 165,
   "metadata": {},
   "outputs": [],
   "source": [
    "data.drop('additional_info', axis = 1, inplace = True, errors = 'ignore')"
   ]
  },
  {
   "cell_type": "code",
   "execution_count": 166,
   "metadata": {},
   "outputs": [
    {
     "name": "stdout",
     "output_type": "stream",
     "text": [
      "col_name = model_name\n",
      "col_dtype = object\n",
      "\n",
      "unique_values_counts:\n",
      "\n",
      "Yoga Slim 7 14IIL05             18\n",
      "IdeaPad 5 14ARE05                6\n",
      "Legion 7 15IMH05                 5\n",
      "IdeaPad 3 17ADA05                5\n",
      "IdeaPad 5 15ARE05                5\n",
      "                                ..\n",
      "Laptop F509JA-BQ675T             1\n",
      "Aspire 3 A317-52-35E1            1\n",
      "VivoBook Flip TM420IA-EC085T     1\n",
      "Nitro 5 AN515-55-56AQ            1\n",
      "GL75 10SCXR-013RU                1\n",
      "Name: model_name, Length: 647, dtype: int64\n"
     ]
    }
   ],
   "source": [
    "col_info('model_name')"
   ]
  },
  {
   "cell_type": "code",
   "execution_count": 167,
   "metadata": {},
   "outputs": [],
   "source": [
    "# just to be dropped"
   ]
  },
  {
   "cell_type": "code",
   "execution_count": 168,
   "metadata": {},
   "outputs": [],
   "source": [
    "data.drop('model_name', axis = 1, inplace = True, errors = 'ignore')"
   ]
  },
  {
   "cell_type": "code",
   "execution_count": 169,
   "metadata": {},
   "outputs": [
    {
     "name": "stdout",
     "output_type": "stream",
     "text": [
      "col_name = brand_name\n",
      "col_dtype = object\n",
      "\n",
      "unique_values_counts:\n",
      "\n",
      "Acer      223\n",
      "ASUS      177\n",
      "Lenovo    112\n",
      "HP        109\n",
      "MSI        58\n",
      "Huawei     14\n",
      "Apple      12\n",
      "Dell       12\n",
      "Honor      11\n",
      "Digma       1\n",
      "Name: brand_name, dtype: int64\n"
     ]
    }
   ],
   "source": [
    "col_info('brand_name')"
   ]
  },
  {
   "cell_type": "code",
   "execution_count": 170,
   "metadata": {},
   "outputs": [],
   "source": [
    "# OHE"
   ]
  },
  {
   "cell_type": "code",
   "execution_count": 171,
   "metadata": {},
   "outputs": [],
   "source": [
    "# maybe drop Digma"
   ]
  },
  {
   "cell_type": "code",
   "execution_count": 172,
   "metadata": {},
   "outputs": [],
   "source": [
    "data = data.drop(0)"
   ]
  },
  {
   "cell_type": "code",
   "execution_count": null,
   "metadata": {},
   "outputs": [],
   "source": []
  },
  {
   "cell_type": "code",
   "execution_count": 173,
   "metadata": {},
   "outputs": [],
   "source": [
    "data.to_csv('processed_data.csv', index = False)"
   ]
  },
  {
   "cell_type": "code",
   "execution_count": null,
   "metadata": {},
   "outputs": [],
   "source": []
  }
 ],
 "metadata": {
  "kernelspec": {
   "display_name": "Python 3",
   "language": "python",
   "name": "python3"
  },
  "language_info": {
   "codemirror_mode": {
    "name": "ipython",
    "version": 3
   },
   "file_extension": ".py",
   "mimetype": "text/x-python",
   "name": "python",
   "nbconvert_exporter": "python",
   "pygments_lexer": "ipython3",
   "version": "3.6.10"
  }
 },
 "nbformat": 4,
 "nbformat_minor": 4
}

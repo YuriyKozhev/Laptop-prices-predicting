{
 "cells": [
  {
   "cell_type": "code",
   "execution_count": 1973,
   "metadata": {},
   "outputs": [],
   "source": [
    "import os\n",
    "import requests\n",
    "from bs4 import BeautifulSoup\n",
    "import textwrap\n",
    "import pandas as pd\n",
    "import lxml  \n",
    "import time\n",
    "from IPython.display import clear_output\n",
    "import numpy as np\n",
    "import seaborn as sns\n",
    "from matplotlib import pyplot as plt\n",
    "from selenium import webdriver\n",
    "from selenium.webdriver.chrome.options import Options\n",
    "from time import sleep\n",
    "import re\n",
    "from tqdm import tqdm\n",
    "from functools import reduce"
   ]
  },
  {
   "cell_type": "code",
   "execution_count": 1974,
   "metadata": {},
   "outputs": [
    {
     "data": {
      "text/html": [
       "<div>\n",
       "<style scoped>\n",
       "    .dataframe tbody tr th:only-of-type {\n",
       "        vertical-align: middle;\n",
       "    }\n",
       "\n",
       "    .dataframe tbody tr th {\n",
       "        vertical-align: top;\n",
       "    }\n",
       "\n",
       "    .dataframe thead th {\n",
       "        text-align: right;\n",
       "    }\n",
       "</style>\n",
       "<table border=\"1\" class=\"dataframe\">\n",
       "  <thead>\n",
       "    <tr style=\"text-align: right;\">\n",
       "      <th></th>\n",
       "      <th>average_rating</th>\n",
       "      <th>price</th>\n",
       "      <th>reviews_num</th>\n",
       "      <th>max_cpu_frequency</th>\n",
       "      <th>cpu_architecture</th>\n",
       "      <th>web_camera</th>\n",
       "      <th>weight</th>\n",
       "      <th>ethernet_adapter</th>\n",
       "      <th>pixel_response_time</th>\n",
       "      <th>microphone</th>\n",
       "      <th>...</th>\n",
       "      <th>li_ion_battery_type</th>\n",
       "      <th>ultrabook</th>\n",
       "      <th>touch_numeric_keypad</th>\n",
       "      <th>cpu_scores</th>\n",
       "      <th>dedicated_gpu_scores</th>\n",
       "      <th>integrated_gpu_scores</th>\n",
       "      <th>AdobeRGB</th>\n",
       "      <th>DCI-P3</th>\n",
       "      <th>NTSC</th>\n",
       "      <th>sRGB</th>\n",
       "    </tr>\n",
       "  </thead>\n",
       "  <tbody>\n",
       "    <tr>\n",
       "      <th>0</th>\n",
       "      <td>4.2</td>\n",
       "      <td>24999.0</td>\n",
       "      <td>17.0</td>\n",
       "      <td>2.8</td>\n",
       "      <td>Goldmont Plus</td>\n",
       "      <td>True</td>\n",
       "      <td>1.05</td>\n",
       "      <td>False</td>\n",
       "      <td>NaN</td>\n",
       "      <td>True</td>\n",
       "      <td>...</td>\n",
       "      <td>True</td>\n",
       "      <td>False</td>\n",
       "      <td>False</td>\n",
       "      <td>1618</td>\n",
       "      <td>0.0</td>\n",
       "      <td>333.0</td>\n",
       "      <td>NaN</td>\n",
       "      <td>NaN</td>\n",
       "      <td>45.0</td>\n",
       "      <td>NaN</td>\n",
       "    </tr>\n",
       "    <tr>\n",
       "      <th>1</th>\n",
       "      <td>4.7</td>\n",
       "      <td>24999.0</td>\n",
       "      <td>3.0</td>\n",
       "      <td>2.8</td>\n",
       "      <td>Goldmont Plus</td>\n",
       "      <td>True</td>\n",
       "      <td>1.05</td>\n",
       "      <td>False</td>\n",
       "      <td>NaN</td>\n",
       "      <td>True</td>\n",
       "      <td>...</td>\n",
       "      <td>False</td>\n",
       "      <td>False</td>\n",
       "      <td>False</td>\n",
       "      <td>1618</td>\n",
       "      <td>0.0</td>\n",
       "      <td>333.0</td>\n",
       "      <td>NaN</td>\n",
       "      <td>NaN</td>\n",
       "      <td>45.0</td>\n",
       "      <td>NaN</td>\n",
       "    </tr>\n",
       "    <tr>\n",
       "      <th>2</th>\n",
       "      <td>4.6</td>\n",
       "      <td>24999.0</td>\n",
       "      <td>9.0</td>\n",
       "      <td>2.8</td>\n",
       "      <td>Goldmont Plus</td>\n",
       "      <td>True</td>\n",
       "      <td>1.05</td>\n",
       "      <td>False</td>\n",
       "      <td>NaN</td>\n",
       "      <td>True</td>\n",
       "      <td>...</td>\n",
       "      <td>True</td>\n",
       "      <td>False</td>\n",
       "      <td>False</td>\n",
       "      <td>1618</td>\n",
       "      <td>0.0</td>\n",
       "      <td>333.0</td>\n",
       "      <td>NaN</td>\n",
       "      <td>NaN</td>\n",
       "      <td>45.0</td>\n",
       "      <td>NaN</td>\n",
       "    </tr>\n",
       "    <tr>\n",
       "      <th>3</th>\n",
       "      <td>3.8</td>\n",
       "      <td>28999.0</td>\n",
       "      <td>9.0</td>\n",
       "      <td>2.6</td>\n",
       "      <td>Excavator</td>\n",
       "      <td>True</td>\n",
       "      <td>2.00</td>\n",
       "      <td>False</td>\n",
       "      <td>NaN</td>\n",
       "      <td>True</td>\n",
       "      <td>...</td>\n",
       "      <td>True</td>\n",
       "      <td>False</td>\n",
       "      <td>False</td>\n",
       "      <td>1249</td>\n",
       "      <td>0.0</td>\n",
       "      <td>307.0</td>\n",
       "      <td>NaN</td>\n",
       "      <td>NaN</td>\n",
       "      <td>NaN</td>\n",
       "      <td>NaN</td>\n",
       "    </tr>\n",
       "    <tr>\n",
       "      <th>4</th>\n",
       "      <td>NaN</td>\n",
       "      <td>28999.0</td>\n",
       "      <td>NaN</td>\n",
       "      <td>2.2</td>\n",
       "      <td>Excavator</td>\n",
       "      <td>True</td>\n",
       "      <td>1.94</td>\n",
       "      <td>True</td>\n",
       "      <td>NaN</td>\n",
       "      <td>True</td>\n",
       "      <td>...</td>\n",
       "      <td>True</td>\n",
       "      <td>False</td>\n",
       "      <td>False</td>\n",
       "      <td>908</td>\n",
       "      <td>0.0</td>\n",
       "      <td>307.0</td>\n",
       "      <td>NaN</td>\n",
       "      <td>NaN</td>\n",
       "      <td>45.0</td>\n",
       "      <td>NaN</td>\n",
       "    </tr>\n",
       "    <tr>\n",
       "      <th>...</th>\n",
       "      <td>...</td>\n",
       "      <td>...</td>\n",
       "      <td>...</td>\n",
       "      <td>...</td>\n",
       "      <td>...</td>\n",
       "      <td>...</td>\n",
       "      <td>...</td>\n",
       "      <td>...</td>\n",
       "      <td>...</td>\n",
       "      <td>...</td>\n",
       "      <td>...</td>\n",
       "      <td>...</td>\n",
       "      <td>...</td>\n",
       "      <td>...</td>\n",
       "      <td>...</td>\n",
       "      <td>...</td>\n",
       "      <td>...</td>\n",
       "      <td>...</td>\n",
       "      <td>...</td>\n",
       "      <td>...</td>\n",
       "      <td>...</td>\n",
       "    </tr>\n",
       "    <tr>\n",
       "      <th>723</th>\n",
       "      <td>NaN</td>\n",
       "      <td>313999.0</td>\n",
       "      <td>NaN</td>\n",
       "      <td>4.5</td>\n",
       "      <td>Comet Lake</td>\n",
       "      <td>True</td>\n",
       "      <td>2.10</td>\n",
       "      <td>True</td>\n",
       "      <td>NaN</td>\n",
       "      <td>True</td>\n",
       "      <td>...</td>\n",
       "      <td>True</td>\n",
       "      <td>False</td>\n",
       "      <td>False</td>\n",
       "      <td>11346</td>\n",
       "      <td>13971.0</td>\n",
       "      <td>1163.0</td>\n",
       "      <td>100.0</td>\n",
       "      <td>NaN</td>\n",
       "      <td>NaN</td>\n",
       "      <td>NaN</td>\n",
       "    </tr>\n",
       "    <tr>\n",
       "      <th>724</th>\n",
       "      <td>3.0</td>\n",
       "      <td>349999.0</td>\n",
       "      <td>2.0</td>\n",
       "      <td>4.5</td>\n",
       "      <td>Comet Lake</td>\n",
       "      <td>True</td>\n",
       "      <td>2.10</td>\n",
       "      <td>True</td>\n",
       "      <td>NaN</td>\n",
       "      <td>True</td>\n",
       "      <td>...</td>\n",
       "      <td>True</td>\n",
       "      <td>False</td>\n",
       "      <td>False</td>\n",
       "      <td>11346</td>\n",
       "      <td>16706.0</td>\n",
       "      <td>1163.0</td>\n",
       "      <td>100.0</td>\n",
       "      <td>NaN</td>\n",
       "      <td>NaN</td>\n",
       "      <td>NaN</td>\n",
       "    </tr>\n",
       "    <tr>\n",
       "      <th>725</th>\n",
       "      <td>NaN</td>\n",
       "      <td>379999.0</td>\n",
       "      <td>NaN</td>\n",
       "      <td>5.0</td>\n",
       "      <td>Comet Lake</td>\n",
       "      <td>True</td>\n",
       "      <td>2.54</td>\n",
       "      <td>True</td>\n",
       "      <td>NaN</td>\n",
       "      <td>True</td>\n",
       "      <td>...</td>\n",
       "      <td>True</td>\n",
       "      <td>False</td>\n",
       "      <td>False</td>\n",
       "      <td>12627</td>\n",
       "      <td>13889.0</td>\n",
       "      <td>1163.0</td>\n",
       "      <td>100.0</td>\n",
       "      <td>NaN</td>\n",
       "      <td>NaN</td>\n",
       "      <td>NaN</td>\n",
       "    </tr>\n",
       "    <tr>\n",
       "      <th>726</th>\n",
       "      <td>NaN</td>\n",
       "      <td>380999.0</td>\n",
       "      <td>NaN</td>\n",
       "      <td>4.5</td>\n",
       "      <td>Comet Lake</td>\n",
       "      <td>True</td>\n",
       "      <td>2.10</td>\n",
       "      <td>True</td>\n",
       "      <td>NaN</td>\n",
       "      <td>True</td>\n",
       "      <td>...</td>\n",
       "      <td>True</td>\n",
       "      <td>False</td>\n",
       "      <td>False</td>\n",
       "      <td>11346</td>\n",
       "      <td>16706.0</td>\n",
       "      <td>1163.0</td>\n",
       "      <td>100.0</td>\n",
       "      <td>NaN</td>\n",
       "      <td>NaN</td>\n",
       "      <td>NaN</td>\n",
       "    </tr>\n",
       "    <tr>\n",
       "      <th>727</th>\n",
       "      <td>NaN</td>\n",
       "      <td>483999.0</td>\n",
       "      <td>NaN</td>\n",
       "      <td>5.0</td>\n",
       "      <td>Coffee Lake</td>\n",
       "      <td>True</td>\n",
       "      <td>4.50</td>\n",
       "      <td>True</td>\n",
       "      <td>NaN</td>\n",
       "      <td>True</td>\n",
       "      <td>...</td>\n",
       "      <td>True</td>\n",
       "      <td>False</td>\n",
       "      <td>True</td>\n",
       "      <td>15203</td>\n",
       "      <td>18578.0</td>\n",
       "      <td>1163.0</td>\n",
       "      <td>100.0</td>\n",
       "      <td>NaN</td>\n",
       "      <td>NaN</td>\n",
       "      <td>NaN</td>\n",
       "    </tr>\n",
       "  </tbody>\n",
       "</table>\n",
       "<p>728 rows × 107 columns</p>\n",
       "</div>"
      ],
      "text/plain": [
       "     average_rating     price  reviews_num  max_cpu_frequency  \\\n",
       "0               4.2   24999.0         17.0                2.8   \n",
       "1               4.7   24999.0          3.0                2.8   \n",
       "2               4.6   24999.0          9.0                2.8   \n",
       "3               3.8   28999.0          9.0                2.6   \n",
       "4               NaN   28999.0          NaN                2.2   \n",
       "..              ...       ...          ...                ...   \n",
       "723             NaN  313999.0          NaN                4.5   \n",
       "724             3.0  349999.0          2.0                4.5   \n",
       "725             NaN  379999.0          NaN                5.0   \n",
       "726             NaN  380999.0          NaN                4.5   \n",
       "727             NaN  483999.0          NaN                5.0   \n",
       "\n",
       "    cpu_architecture  web_camera  weight  ethernet_adapter  \\\n",
       "0      Goldmont Plus        True    1.05             False   \n",
       "1      Goldmont Plus        True    1.05             False   \n",
       "2      Goldmont Plus        True    1.05             False   \n",
       "3          Excavator        True    2.00             False   \n",
       "4          Excavator        True    1.94              True   \n",
       "..               ...         ...     ...               ...   \n",
       "723       Comet Lake        True    2.10              True   \n",
       "724       Comet Lake        True    2.10              True   \n",
       "725       Comet Lake        True    2.54              True   \n",
       "726       Comet Lake        True    2.10              True   \n",
       "727      Coffee Lake        True    4.50              True   \n",
       "\n",
       "     pixel_response_time  microphone  ...  li_ion_battery_type  ultrabook  \\\n",
       "0                    NaN        True  ...                 True      False   \n",
       "1                    NaN        True  ...                False      False   \n",
       "2                    NaN        True  ...                 True      False   \n",
       "3                    NaN        True  ...                 True      False   \n",
       "4                    NaN        True  ...                 True      False   \n",
       "..                   ...         ...  ...                  ...        ...   \n",
       "723                  NaN        True  ...                 True      False   \n",
       "724                  NaN        True  ...                 True      False   \n",
       "725                  NaN        True  ...                 True      False   \n",
       "726                  NaN        True  ...                 True      False   \n",
       "727                  NaN        True  ...                 True      False   \n",
       "\n",
       "     touch_numeric_keypad  cpu_scores  dedicated_gpu_scores  \\\n",
       "0                   False        1618                   0.0   \n",
       "1                   False        1618                   0.0   \n",
       "2                   False        1618                   0.0   \n",
       "3                   False        1249                   0.0   \n",
       "4                   False         908                   0.0   \n",
       "..                    ...         ...                   ...   \n",
       "723                 False       11346               13971.0   \n",
       "724                 False       11346               16706.0   \n",
       "725                 False       12627               13889.0   \n",
       "726                 False       11346               16706.0   \n",
       "727                  True       15203               18578.0   \n",
       "\n",
       "     integrated_gpu_scores  AdobeRGB  DCI-P3  NTSC sRGB  \n",
       "0                    333.0       NaN     NaN  45.0  NaN  \n",
       "1                    333.0       NaN     NaN  45.0  NaN  \n",
       "2                    333.0       NaN     NaN  45.0  NaN  \n",
       "3                    307.0       NaN     NaN   NaN  NaN  \n",
       "4                    307.0       NaN     NaN  45.0  NaN  \n",
       "..                     ...       ...     ...   ...  ...  \n",
       "723                 1163.0     100.0     NaN   NaN  NaN  \n",
       "724                 1163.0     100.0     NaN   NaN  NaN  \n",
       "725                 1163.0     100.0     NaN   NaN  NaN  \n",
       "726                 1163.0     100.0     NaN   NaN  NaN  \n",
       "727                 1163.0     100.0     NaN   NaN  NaN  \n",
       "\n",
       "[728 rows x 107 columns]"
      ]
     },
     "execution_count": 1974,
     "metadata": {},
     "output_type": "execute_result"
    }
   ],
   "source": [
    "data = pd.read_csv('processed_data.csv')\n",
    "data"
   ]
  },
  {
   "cell_type": "code",
   "execution_count": 1975,
   "metadata": {},
   "outputs": [
    {
     "data": {
      "text/plain": [
       "cpu_architecture            object\n",
       "cpu_family                  object\n",
       "screen_resolution_name      object\n",
       "os                          object\n",
       "gpu_manufacturer            object\n",
       "cpu_manufacturer            object\n",
       "graphics_ram_type           object\n",
       "ram_type                    object\n",
       "display_type                object\n",
       "adaptive_sync_technology    object\n",
       "brand_name                  object\n",
       "dtype: object"
      ]
     },
     "execution_count": 1975,
     "metadata": {},
     "output_type": "execute_result"
    }
   ],
   "source": [
    "data.dtypes[data.dtypes == object]"
   ]
  },
  {
   "cell_type": "code",
   "execution_count": 1976,
   "metadata": {},
   "outputs": [],
   "source": [
    "data = data.drop(['reviews_num', 'average_rating'], axis = 1)\n",
    "\n",
    "# data.drop(data.index[data.average_rating.isnull()], inplace = True)"
   ]
  },
  {
   "cell_type": "code",
   "execution_count": null,
   "metadata": {},
   "outputs": [],
   "source": []
  },
  {
   "cell_type": "code",
   "execution_count": 1977,
   "metadata": {},
   "outputs": [],
   "source": [
    "def print_whole_df(df):\n",
    "    with pd.option_context('display.max_rows', None, 'display.max_columns', None): \n",
    "        print(df)"
   ]
  },
  {
   "cell_type": "code",
   "execution_count": 1978,
   "metadata": {},
   "outputs": [],
   "source": [
    "# every object column will be One-Hot-Encoded"
   ]
  },
  {
   "cell_type": "code",
   "execution_count": 1979,
   "metadata": {},
   "outputs": [
    {
     "data": {
      "text/plain": [
       "0                   [0, 1, 2, 3]\n",
       "1                            [4]\n",
       "2                            [5]\n",
       "3                         [6, 7]\n",
       "4             [8, 9, 10, 11, 12]\n",
       "                 ...            \n",
       "465                   [709, 710]\n",
       "466              [711, 712, 713]\n",
       "467                   [714, 715]\n",
       "468    [716, 717, 718, 719, 720]\n",
       "469                        [721]\n",
       "Length: 470, dtype: object"
      ]
     },
     "execution_count": 1979,
     "metadata": {},
     "output_type": "execute_result"
    }
   ],
   "source": [
    "groups = []\n",
    "\n",
    "prev_row = None\n",
    "\n",
    "group = []\n",
    "\n",
    "for idx, row in data.iterrows():\n",
    "    if idx == 0 or (row.brand_name == prev_row.brand_name):\n",
    "        group.append(idx)\n",
    "    else:\n",
    "        groups.append(group)\n",
    "        group = [idx]\n",
    "        \n",
    "    prev_row = row\n",
    "    \n",
    "groups = pd.Series(groups)\n",
    "groups"
   ]
  },
  {
   "cell_type": "code",
   "execution_count": 1980,
   "metadata": {},
   "outputs": [],
   "source": [
    "from sklearn.model_selection import train_test_split\n",
    "\n",
    "def custom_train_test_split(data, groups, test_size = 0.3):\n",
    "    ratio = len(data) / len(groups)\n",
    "    \n",
    "    train_groups, test_groups = train_test_split(groups, test_size = test_size * ratio)\n",
    "    \n",
    "    train_idxs = list(reduce(lambda el1, el2: el1 + el2, [group for group in train_groups]))\n",
    "    \n",
    "    test_idxs = [pd.Series(group).sample().values[0] for group in test_groups]\n",
    "    \n",
    "    print(train_idxs[:10])\n",
    "    print(test_idxs[:10])\n",
    "    \n",
    "    train, test = data.loc[train_idxs], data.loc[test_idxs]\n",
    "    \n",
    "    return train, test"
   ]
  },
  {
   "cell_type": "code",
   "execution_count": 1981,
   "metadata": {},
   "outputs": [
    {
     "name": "stdout",
     "output_type": "stream",
     "text": [
      "[376, 377, 573, 507, 508, 8, 9, 10, 11, 12]\n",
      "[667, 708, 698, 640, 678, 164, 223, 653, 408, 76]\n"
     ]
    }
   ],
   "source": [
    "train, test = custom_train_test_split(data = data, groups = groups)"
   ]
  },
  {
   "cell_type": "code",
   "execution_count": 1982,
   "metadata": {},
   "outputs": [],
   "source": [
    "# train, test = data.iloc[:len(data) - 5, :], data.iloc[len(data) - 5:, :]"
   ]
  },
  {
   "cell_type": "code",
   "execution_count": 1983,
   "metadata": {},
   "outputs": [
    {
     "data": {
      "text/plain": [
       "(728, 385, 219)"
      ]
     },
     "execution_count": 1983,
     "metadata": {},
     "output_type": "execute_result"
    }
   ],
   "source": [
    "len(data), len(train), len(test)"
   ]
  },
  {
   "cell_type": "code",
   "execution_count": 1984,
   "metadata": {},
   "outputs": [],
   "source": [
    "X_train, y_train = train.drop('price', axis = 1), train.price\n",
    "X_test, y_test = test.drop('price', axis = 1), test.price\n",
    "\n",
    "# train = train.drop(['price', 'average_rating'], axis = 1)\n",
    "# test = test.drop(['price', 'average_rating'], axis = 1)\n",
    "# X_train, y_train = train.drop('reviews_num', axis = 1), train.reviews_num\n",
    "# X_test, y_test = test.drop('reviews_num', axis = 1), test.reviews_num"
   ]
  },
  {
   "cell_type": "code",
   "execution_count": 1985,
   "metadata": {},
   "outputs": [],
   "source": [
    "def col_info(col_name = None):\n",
    "    print(f'col_name = {col_name}')\n",
    "    print(f'col_dtype = {data[col_name].dtype}\\n')\n",
    "    print('unique_values_counts:\\n')\n",
    "    print(data[col_name].value_counts(dropna = False))"
   ]
  },
  {
   "cell_type": "code",
   "execution_count": 1986,
   "metadata": {},
   "outputs": [],
   "source": [
    "from sklearn.preprocessing import OneHotEncoder\n",
    "\n",
    "ohe = OneHotEncoder(sparse = False, handle_unknown = 'ignore')\n",
    "\n",
    "def one_hot_encode_col(train_df, test_df, col):\n",
    "    \n",
    "    new_train = pd.DataFrame(ohe.fit_transform(train_df[col].values.reshape(-1, 1))).set_index(train_df.index)\n",
    "    new_train.columns = [col + f'_{i}' for i in range(new_train.shape[1])]\n",
    "    \n",
    "    new_test = pd.DataFrame(ohe.transform(test_df[col].values.reshape(-1, 1))).set_index(test_df.index)\n",
    "    new_test.columns = [col + f'_{i}' for i in range(new_test.shape[1])]\n",
    "    \n",
    "    return pd.concat([new_train, train_df.drop(col, axis = 1)], axis = 1), \\\n",
    "           pd.concat([new_test, test_df.drop(col, axis = 1)], axis = 1)"
   ]
  },
  {
   "cell_type": "code",
   "execution_count": 1987,
   "metadata": {},
   "outputs": [],
   "source": [
    "# from sklearn.preprocessing import OneHotEncoder\n",
    "\n",
    "# ohe = OneHotEncoder(sparse = False, handle_unknown = 'ignore')\n",
    "\n",
    "# def one_hot_encode_col(train_df, test_df, col):\n",
    "    \n",
    "#     print(col)\n",
    "    \n",
    "#     print(test_df.cpu_family.isnull().any())\n",
    "    \n",
    "#     new_train = pd.DataFrame(ohe.fit_transform(train_df[col].values.reshape(-1, 1)))\n",
    "#     new_train.columns = [col + f'_{i}' for i in range(new_train.shape[1])]\n",
    "    \n",
    "#     print(test_df.cpu_family.isnull().any())\n",
    "    \n",
    "#     new_test = pd.DataFrame(ohe.transform(test_df[col].values.reshape(-1, 1)))\n",
    "#     new_test.columns = [col + f'_{i}' for i in range(new_test.shape[1])]\n",
    "    \n",
    "#     print(test_df.cpu_family.isnull().any())\n",
    "    \n",
    "#     print(new_test.columns)\n",
    "#     print(test_df.columns)\n",
    "    \n",
    "#     return new_test.set_index(test_df.index), test_df.drop(col, axis = 1)\n",
    "\n",
    "# df_new, df_test = one_hot_encode_col(X_train, X_test, 'cpu_architecture')\n"
   ]
  },
  {
   "cell_type": "code",
   "execution_count": 1988,
   "metadata": {},
   "outputs": [
    {
     "name": "stdout",
     "output_type": "stream",
     "text": [
      "col_name = cpu_architecture\n",
      "col_dtype = object\n",
      "\n",
      "unique_values_counts:\n",
      "\n",
      "Comet Lake       236\n",
      "Zen 2            124\n",
      "Ice Lake         123\n",
      "Coffee Lake       63\n",
      "Willow Cove       51\n",
      "Zen               34\n",
      "Zen+              31\n",
      "Goldmont Plus     24\n",
      "Whiskey Lake      14\n",
      "Excavator         10\n",
      "Tiger Lake         8\n",
      "NaN                5\n",
      "Amber Lake-Y       2\n",
      "GoldMont           1\n",
      "Broadwell          1\n",
      "Kaby Lake          1\n",
      "Name: cpu_architecture, dtype: int64\n"
     ]
    }
   ],
   "source": [
    "col_info('cpu_architecture')"
   ]
  },
  {
   "cell_type": "code",
   "execution_count": 1989,
   "metadata": {},
   "outputs": [
    {
     "data": {
      "text/plain": [
       "0    Comet Lake\n",
       "dtype: object"
      ]
     },
     "execution_count": 1989,
     "metadata": {},
     "output_type": "execute_result"
    }
   ],
   "source": [
    "data.cpu_architecture.mode()"
   ]
  },
  {
   "cell_type": "code",
   "execution_count": 1990,
   "metadata": {},
   "outputs": [
    {
     "data": {
      "text/plain": [
       "(array(['cpu_architecture_0', 'cpu_architecture_1', 'cpu_architecture_2',\n",
       "        'cpu_architecture_3', 'cpu_architecture_4', 'cpu_architecture_5',\n",
       "        'cpu_architecture_6', 'cpu_architecture_7', 'cpu_architecture_8',\n",
       "        'cpu_architecture_9', 'cpu_architecture_10', 'cpu_architecture_11',\n",
       "        'cpu_architecture_12', 'max_cpu_frequency', 'web_camera', 'weight',\n",
       "        'ethernet_adapter', 'pixel_response_time', 'microphone',\n",
       "        'warranty_duration', 'depth', 'screen_diagonal',\n",
       "        'battery_capacity', 'gaming_laptop', 'kensington_lock',\n",
       "        'cpu_cores_num', 'l2_cache', 'l3_cache', 'cpu_family',\n",
       "        'screen_refresh_rate', 'threads_num', 'max_possible_ram',\n",
       "        'screen_resolution_name', 'hdd_capacity', 'ssd_capacity',\n",
       "        'graphics_ram', 'intel_optane_drive_capacity', 'os',\n",
       "        'optical_disc_drive', 'ppi', 'usb_power_delivery',\n",
       "        'keyboard_backlight', 'usb_2_0_ports', 'usb_3_x_ports',\n",
       "        'usb_type_c_ports', 'estimated_battery_life', 'gpu_manufacturer',\n",
       "        'cpu_manufacturer', 'ram', 'M_2_connector', 'touch_screen',\n",
       "        'fingerprint_scanner', 'cpu_lithography', 'graphics_ram_type',\n",
       "        'ram_type', 'display_type', 'height', 'numeric_keypad',\n",
       "        'cpu_frequency', 'ram_frequency', 'width', 'release_year',\n",
       "        'memory_slots_num', 'adaptive_sync_technology', 'multiple_35jacks',\n",
       "        'cellular_communication', 'dedicated_graphics',\n",
       "        'dedicated_graphics_only', 'usb2ethernet_adapter', 'display_port',\n",
       "        'hdmi', 'thunderbolt_2', 'thunderbolt_3', 'thunderbolt_4', 'vga',\n",
       "        'micro_hdmi', 'mini_display_port', 'additional_accessories',\n",
       "        '2_in_1', 'emcc', 'metal', 'plastic', 'carbon', 'brand_name',\n",
       "        'bluetooth', 'bluetooth_4_0', 'bluetooth_4_1', 'bluetooth_4_2',\n",
       "        'bluetooth_5_0', 'bluetooth_5_1', 'miracast', 'nfc', 'mmc', 'ms',\n",
       "        'micro_media', 'sd', 'sdhc', 'sdxc', 'micro_sd', 'micro_sdhc',\n",
       "        'micro_sdxc', 'glossy_display', 'screen_width_pixels',\n",
       "        'screen_height_pixels', 'hdd_increased_speed',\n",
       "        'best_wi_fi_standard', 'li_ion_battery_type', 'ultrabook',\n",
       "        'touch_numeric_keypad', 'cpu_scores', 'dedicated_gpu_scores',\n",
       "        'integrated_gpu_scores', 'AdobeRGB', 'DCI-P3', 'NTSC', 'sRGB'],\n",
       "       dtype=object),\n",
       " array(['cpu_architecture_0', 'cpu_architecture_1', 'cpu_architecture_2',\n",
       "        'cpu_architecture_3', 'cpu_architecture_4', 'cpu_architecture_5',\n",
       "        'cpu_architecture_6', 'cpu_architecture_7', 'cpu_architecture_8',\n",
       "        'cpu_architecture_9', 'cpu_architecture_10', 'cpu_architecture_11',\n",
       "        'cpu_architecture_12', 'max_cpu_frequency', 'web_camera', 'weight',\n",
       "        'ethernet_adapter', 'pixel_response_time', 'microphone',\n",
       "        'warranty_duration', 'depth', 'screen_diagonal',\n",
       "        'battery_capacity', 'gaming_laptop', 'kensington_lock',\n",
       "        'cpu_cores_num', 'l2_cache', 'l3_cache', 'cpu_family',\n",
       "        'screen_refresh_rate', 'threads_num', 'max_possible_ram',\n",
       "        'screen_resolution_name', 'hdd_capacity', 'ssd_capacity',\n",
       "        'graphics_ram', 'intel_optane_drive_capacity', 'os',\n",
       "        'optical_disc_drive', 'ppi', 'usb_power_delivery',\n",
       "        'keyboard_backlight', 'usb_2_0_ports', 'usb_3_x_ports',\n",
       "        'usb_type_c_ports', 'estimated_battery_life', 'gpu_manufacturer',\n",
       "        'cpu_manufacturer', 'ram', 'M_2_connector', 'touch_screen',\n",
       "        'fingerprint_scanner', 'cpu_lithography', 'graphics_ram_type',\n",
       "        'ram_type', 'display_type', 'height', 'numeric_keypad',\n",
       "        'cpu_frequency', 'ram_frequency', 'width', 'release_year',\n",
       "        'memory_slots_num', 'adaptive_sync_technology', 'multiple_35jacks',\n",
       "        'cellular_communication', 'dedicated_graphics',\n",
       "        'dedicated_graphics_only', 'usb2ethernet_adapter', 'display_port',\n",
       "        'hdmi', 'thunderbolt_2', 'thunderbolt_3', 'thunderbolt_4', 'vga',\n",
       "        'micro_hdmi', 'mini_display_port', 'additional_accessories',\n",
       "        '2_in_1', 'emcc', 'metal', 'plastic', 'carbon', 'brand_name',\n",
       "        'bluetooth', 'bluetooth_4_0', 'bluetooth_4_1', 'bluetooth_4_2',\n",
       "        'bluetooth_5_0', 'bluetooth_5_1', 'miracast', 'nfc', 'mmc', 'ms',\n",
       "        'micro_media', 'sd', 'sdhc', 'sdxc', 'micro_sd', 'micro_sdhc',\n",
       "        'micro_sdxc', 'glossy_display', 'screen_width_pixels',\n",
       "        'screen_height_pixels', 'hdd_increased_speed',\n",
       "        'best_wi_fi_standard', 'li_ion_battery_type', 'ultrabook',\n",
       "        'touch_numeric_keypad', 'cpu_scores', 'dedicated_gpu_scores',\n",
       "        'integrated_gpu_scores', 'AdobeRGB', 'DCI-P3', 'NTSC', 'sRGB'],\n",
       "       dtype=object))"
      ]
     },
     "execution_count": 1990,
     "metadata": {},
     "output_type": "execute_result"
    }
   ],
   "source": [
    "X_train['cpu_architecture'] = X_train.cpu_architecture.fillna(X_train.cpu_architecture.mode().values[0])\n",
    "X_test['cpu_architecture'] = X_test.cpu_architecture.fillna(X_test.cpu_architecture.mode().values[0])\n",
    "one_hot_encode_col(X_train, X_test, 'cpu_architecture')\n",
    "X_train, X_test = one_hot_encode_col(X_train, X_test, 'cpu_architecture')\n",
    "X_train.columns.values, X_test.columns.values"
   ]
  },
  {
   "cell_type": "code",
   "execution_count": 1991,
   "metadata": {},
   "outputs": [
    {
     "name": "stdout",
     "output_type": "stream",
     "text": [
      "col_name = cpu_family\n",
      "col_dtype = object\n",
      "\n",
      "unique_values_counts:\n",
      "\n",
      "Core i7    225\n",
      "Core i5    199\n",
      "Ryzen 5     76\n",
      "Ryzen 7     56\n",
      "Core i3     46\n",
      "Pentium     40\n",
      "Ryzen 3     37\n",
      "Athlon      14\n",
      "Core i9     10\n",
      "Celeron      7\n",
      "Ryzen 9      6\n",
      "A4           5\n",
      "A9           3\n",
      "A6           2\n",
      "M1           2\n",
      "Name: cpu_family, dtype: int64\n"
     ]
    }
   ],
   "source": [
    "col_info('cpu_family')"
   ]
  },
  {
   "cell_type": "code",
   "execution_count": 1992,
   "metadata": {},
   "outputs": [
    {
     "data": {
      "text/plain": [
       "(Index(['cpu_family_0', 'cpu_family_1', 'cpu_family_2', 'cpu_family_3',\n",
       "        'cpu_family_4', 'cpu_family_5', 'cpu_family_6', 'cpu_family_7',\n",
       "        'cpu_family_8', 'cpu_family_9',\n",
       "        ...\n",
       "        'li_ion_battery_type', 'ultrabook', 'touch_numeric_keypad',\n",
       "        'cpu_scores', 'dedicated_gpu_scores', 'integrated_gpu_scores',\n",
       "        'AdobeRGB', 'DCI-P3', 'NTSC', 'sRGB'],\n",
       "       dtype='object', length=129),\n",
       " Index(['cpu_family_0', 'cpu_family_1', 'cpu_family_2', 'cpu_family_3',\n",
       "        'cpu_family_4', 'cpu_family_5', 'cpu_family_6', 'cpu_family_7',\n",
       "        'cpu_family_8', 'cpu_family_9',\n",
       "        ...\n",
       "        'li_ion_battery_type', 'ultrabook', 'touch_numeric_keypad',\n",
       "        'cpu_scores', 'dedicated_gpu_scores', 'integrated_gpu_scores',\n",
       "        'AdobeRGB', 'DCI-P3', 'NTSC', 'sRGB'],\n",
       "       dtype='object', length=129))"
      ]
     },
     "execution_count": 1992,
     "metadata": {},
     "output_type": "execute_result"
    }
   ],
   "source": [
    "X_train, X_test = one_hot_encode_col(X_train, X_test, 'cpu_family')\n",
    "X_train.columns, X_test.columns"
   ]
  },
  {
   "cell_type": "code",
   "execution_count": 1993,
   "metadata": {},
   "outputs": [
    {
     "name": "stdout",
     "output_type": "stream",
     "text": [
      "col_name = screen_resolution_name\n",
      "col_dtype = object\n",
      "\n",
      "unique_values_counts:\n",
      "\n",
      "FullHD    639\n",
      "UHD        38\n",
      "HD+        18\n",
      "HD         15\n",
      "WQXGA      10\n",
      "QHD         5\n",
      "WXGA+       1\n",
      "WQHD        1\n",
      "WQXGA+      1\n",
      "Name: screen_resolution_name, dtype: int64\n"
     ]
    }
   ],
   "source": [
    "col_info('screen_resolution_name')"
   ]
  },
  {
   "cell_type": "code",
   "execution_count": 1994,
   "metadata": {},
   "outputs": [
    {
     "data": {
      "text/plain": [
       "(Index(['screen_resolution_name_0', 'screen_resolution_name_1',\n",
       "        'screen_resolution_name_2', 'screen_resolution_name_3',\n",
       "        'screen_resolution_name_4', 'screen_resolution_name_5',\n",
       "        'screen_resolution_name_6', 'cpu_family_0', 'cpu_family_1',\n",
       "        'cpu_family_2',\n",
       "        ...\n",
       "        'li_ion_battery_type', 'ultrabook', 'touch_numeric_keypad',\n",
       "        'cpu_scores', 'dedicated_gpu_scores', 'integrated_gpu_scores',\n",
       "        'AdobeRGB', 'DCI-P3', 'NTSC', 'sRGB'],\n",
       "       dtype='object', length=135),\n",
       " Index(['screen_resolution_name_0', 'screen_resolution_name_1',\n",
       "        'screen_resolution_name_2', 'screen_resolution_name_3',\n",
       "        'screen_resolution_name_4', 'screen_resolution_name_5',\n",
       "        'screen_resolution_name_6', 'cpu_family_0', 'cpu_family_1',\n",
       "        'cpu_family_2',\n",
       "        ...\n",
       "        'li_ion_battery_type', 'ultrabook', 'touch_numeric_keypad',\n",
       "        'cpu_scores', 'dedicated_gpu_scores', 'integrated_gpu_scores',\n",
       "        'AdobeRGB', 'DCI-P3', 'NTSC', 'sRGB'],\n",
       "       dtype='object', length=135))"
      ]
     },
     "execution_count": 1994,
     "metadata": {},
     "output_type": "execute_result"
    }
   ],
   "source": [
    "X_train, X_test = one_hot_encode_col(X_train, X_test, 'screen_resolution_name')\n",
    "X_train.columns, X_test.columns"
   ]
  },
  {
   "cell_type": "code",
   "execution_count": 1995,
   "metadata": {},
   "outputs": [
    {
     "name": "stdout",
     "output_type": "stream",
     "text": [
      "col_name = os\n",
      "col_dtype = object\n",
      "\n",
      "unique_values_counts:\n",
      "\n",
      "Windows 10 Home            426\n",
      "DOS                        115\n",
      "UNIX-подобная               90\n",
      "Windows 10 Professional     74\n",
      "macOS                       12\n",
      "Windows 10 S                11\n",
      "Name: os, dtype: int64\n"
     ]
    }
   ],
   "source": [
    "col_info('os')"
   ]
  },
  {
   "cell_type": "code",
   "execution_count": 1996,
   "metadata": {},
   "outputs": [
    {
     "data": {
      "text/plain": [
       "(Index(['os_0', 'os_1', 'os_2', 'os_3', 'os_4', 'os_5',\n",
       "        'screen_resolution_name_0', 'screen_resolution_name_1',\n",
       "        'screen_resolution_name_2', 'screen_resolution_name_3',\n",
       "        ...\n",
       "        'li_ion_battery_type', 'ultrabook', 'touch_numeric_keypad',\n",
       "        'cpu_scores', 'dedicated_gpu_scores', 'integrated_gpu_scores',\n",
       "        'AdobeRGB', 'DCI-P3', 'NTSC', 'sRGB'],\n",
       "       dtype='object', length=140),\n",
       " Index(['os_0', 'os_1', 'os_2', 'os_3', 'os_4', 'os_5',\n",
       "        'screen_resolution_name_0', 'screen_resolution_name_1',\n",
       "        'screen_resolution_name_2', 'screen_resolution_name_3',\n",
       "        ...\n",
       "        'li_ion_battery_type', 'ultrabook', 'touch_numeric_keypad',\n",
       "        'cpu_scores', 'dedicated_gpu_scores', 'integrated_gpu_scores',\n",
       "        'AdobeRGB', 'DCI-P3', 'NTSC', 'sRGB'],\n",
       "       dtype='object', length=140))"
      ]
     },
     "execution_count": 1996,
     "metadata": {},
     "output_type": "execute_result"
    }
   ],
   "source": [
    "X_train, X_test = one_hot_encode_col(X_train, X_test, 'os')\n",
    "X_train.columns, X_test.columns"
   ]
  },
  {
   "cell_type": "code",
   "execution_count": 1997,
   "metadata": {},
   "outputs": [
    {
     "name": "stdout",
     "output_type": "stream",
     "text": [
      "col_name = gpu_manufacturer\n",
      "col_dtype = object\n",
      "\n",
      "unique_values_counts:\n",
      "\n",
      "nVidia    329\n",
      "Intel     250\n",
      "AMD       147\n",
      "Apple       2\n",
      "Name: gpu_manufacturer, dtype: int64\n"
     ]
    }
   ],
   "source": [
    "col_info('gpu_manufacturer')"
   ]
  },
  {
   "cell_type": "code",
   "execution_count": 1998,
   "metadata": {},
   "outputs": [
    {
     "data": {
      "text/plain": [
       "(Index(['gpu_manufacturer_0', 'gpu_manufacturer_1', 'gpu_manufacturer_2',\n",
       "        'os_0', 'os_1', 'os_2', 'os_3', 'os_4', 'os_5',\n",
       "        'screen_resolution_name_0',\n",
       "        ...\n",
       "        'li_ion_battery_type', 'ultrabook', 'touch_numeric_keypad',\n",
       "        'cpu_scores', 'dedicated_gpu_scores', 'integrated_gpu_scores',\n",
       "        'AdobeRGB', 'DCI-P3', 'NTSC', 'sRGB'],\n",
       "       dtype='object', length=142),\n",
       " Index(['gpu_manufacturer_0', 'gpu_manufacturer_1', 'gpu_manufacturer_2',\n",
       "        'os_0', 'os_1', 'os_2', 'os_3', 'os_4', 'os_5',\n",
       "        'screen_resolution_name_0',\n",
       "        ...\n",
       "        'li_ion_battery_type', 'ultrabook', 'touch_numeric_keypad',\n",
       "        'cpu_scores', 'dedicated_gpu_scores', 'integrated_gpu_scores',\n",
       "        'AdobeRGB', 'DCI-P3', 'NTSC', 'sRGB'],\n",
       "       dtype='object', length=142))"
      ]
     },
     "execution_count": 1998,
     "metadata": {},
     "output_type": "execute_result"
    }
   ],
   "source": [
    "X_train, X_test = one_hot_encode_col(X_train, X_test, 'gpu_manufacturer')\n",
    "X_train.columns, X_test.columns"
   ]
  },
  {
   "cell_type": "code",
   "execution_count": 1999,
   "metadata": {},
   "outputs": [
    {
     "name": "stdout",
     "output_type": "stream",
     "text": [
      "col_name = cpu_manufacturer\n",
      "col_dtype = object\n",
      "\n",
      "unique_values_counts:\n",
      "\n",
      "Intel    527\n",
      "AMD      199\n",
      "Apple      2\n",
      "Name: cpu_manufacturer, dtype: int64\n"
     ]
    }
   ],
   "source": [
    "col_info('cpu_manufacturer')"
   ]
  },
  {
   "cell_type": "code",
   "execution_count": 2000,
   "metadata": {},
   "outputs": [
    {
     "data": {
      "text/plain": [
       "(Index(['cpu_manufacturer_0', 'cpu_manufacturer_1', 'gpu_manufacturer_0',\n",
       "        'gpu_manufacturer_1', 'gpu_manufacturer_2', 'os_0', 'os_1', 'os_2',\n",
       "        'os_3', 'os_4',\n",
       "        ...\n",
       "        'li_ion_battery_type', 'ultrabook', 'touch_numeric_keypad',\n",
       "        'cpu_scores', 'dedicated_gpu_scores', 'integrated_gpu_scores',\n",
       "        'AdobeRGB', 'DCI-P3', 'NTSC', 'sRGB'],\n",
       "       dtype='object', length=143),\n",
       " Index(['cpu_manufacturer_0', 'cpu_manufacturer_1', 'gpu_manufacturer_0',\n",
       "        'gpu_manufacturer_1', 'gpu_manufacturer_2', 'os_0', 'os_1', 'os_2',\n",
       "        'os_3', 'os_4',\n",
       "        ...\n",
       "        'li_ion_battery_type', 'ultrabook', 'touch_numeric_keypad',\n",
       "        'cpu_scores', 'dedicated_gpu_scores', 'integrated_gpu_scores',\n",
       "        'AdobeRGB', 'DCI-P3', 'NTSC', 'sRGB'],\n",
       "       dtype='object', length=143))"
      ]
     },
     "execution_count": 2000,
     "metadata": {},
     "output_type": "execute_result"
    }
   ],
   "source": [
    "X_train, X_test = one_hot_encode_col(X_train, X_test, 'cpu_manufacturer')\n",
    "X_train.columns, X_test.columns"
   ]
  },
  {
   "cell_type": "code",
   "execution_count": 2001,
   "metadata": {},
   "outputs": [
    {
     "name": "stdout",
     "output_type": "stream",
     "text": [
      "col_name = graphics_ram_type\n",
      "col_dtype = object\n",
      "\n",
      "unique_values_counts:\n",
      "\n",
      "SMA      366\n",
      "GDDR6    261\n",
      "GDDR5     97\n",
      "NaN        4\n",
      "Name: graphics_ram_type, dtype: int64\n"
     ]
    }
   ],
   "source": [
    "col_info('graphics_ram_type')"
   ]
  },
  {
   "cell_type": "code",
   "execution_count": 2002,
   "metadata": {},
   "outputs": [
    {
     "data": {
      "text/plain": [
       "(Index(['graphics_ram_type_0', 'graphics_ram_type_1', 'graphics_ram_type_2',\n",
       "        'cpu_manufacturer_0', 'cpu_manufacturer_1', 'gpu_manufacturer_0',\n",
       "        'gpu_manufacturer_1', 'gpu_manufacturer_2', 'os_0', 'os_1',\n",
       "        ...\n",
       "        'li_ion_battery_type', 'ultrabook', 'touch_numeric_keypad',\n",
       "        'cpu_scores', 'dedicated_gpu_scores', 'integrated_gpu_scores',\n",
       "        'AdobeRGB', 'DCI-P3', 'NTSC', 'sRGB'],\n",
       "       dtype='object', length=145),\n",
       " Index(['graphics_ram_type_0', 'graphics_ram_type_1', 'graphics_ram_type_2',\n",
       "        'cpu_manufacturer_0', 'cpu_manufacturer_1', 'gpu_manufacturer_0',\n",
       "        'gpu_manufacturer_1', 'gpu_manufacturer_2', 'os_0', 'os_1',\n",
       "        ...\n",
       "        'li_ion_battery_type', 'ultrabook', 'touch_numeric_keypad',\n",
       "        'cpu_scores', 'dedicated_gpu_scores', 'integrated_gpu_scores',\n",
       "        'AdobeRGB', 'DCI-P3', 'NTSC', 'sRGB'],\n",
       "       dtype='object', length=145))"
      ]
     },
     "execution_count": 2002,
     "metadata": {},
     "output_type": "execute_result"
    }
   ],
   "source": [
    "X_train['graphics_ram_type'] = X_train.graphics_ram_type.fillna(X_train.graphics_ram_type.mode().values[0])\n",
    "X_test['graphics_ram_type'] = X_test.graphics_ram_type.fillna(X_test.graphics_ram_type.mode().values[0])\n",
    "X_train, X_test = one_hot_encode_col(X_train, X_test, 'graphics_ram_type')\n",
    "X_train.columns, X_test.columns"
   ]
  },
  {
   "cell_type": "code",
   "execution_count": 2003,
   "metadata": {},
   "outputs": [
    {
     "name": "stdout",
     "output_type": "stream",
     "text": [
      "col_name = ram_type\n",
      "col_dtype = object\n",
      "\n",
      "unique_values_counts:\n",
      "\n",
      "DDR4       632\n",
      "LPDDR4x     58\n",
      "LPDDR3      25\n",
      "LPDDR4      12\n",
      "DDR3L        1\n",
      "Name: ram_type, dtype: int64\n"
     ]
    }
   ],
   "source": [
    "col_info('ram_type')"
   ]
  },
  {
   "cell_type": "code",
   "execution_count": 2004,
   "metadata": {},
   "outputs": [
    {
     "data": {
      "text/plain": [
       "(Index(['ram_type_0', 'ram_type_1', 'ram_type_2', 'ram_type_3', 'ram_type_4',\n",
       "        'graphics_ram_type_0', 'graphics_ram_type_1', 'graphics_ram_type_2',\n",
       "        'cpu_manufacturer_0', 'cpu_manufacturer_1',\n",
       "        ...\n",
       "        'li_ion_battery_type', 'ultrabook', 'touch_numeric_keypad',\n",
       "        'cpu_scores', 'dedicated_gpu_scores', 'integrated_gpu_scores',\n",
       "        'AdobeRGB', 'DCI-P3', 'NTSC', 'sRGB'],\n",
       "       dtype='object', length=149),\n",
       " Index(['ram_type_0', 'ram_type_1', 'ram_type_2', 'ram_type_3', 'ram_type_4',\n",
       "        'graphics_ram_type_0', 'graphics_ram_type_1', 'graphics_ram_type_2',\n",
       "        'cpu_manufacturer_0', 'cpu_manufacturer_1',\n",
       "        ...\n",
       "        'li_ion_battery_type', 'ultrabook', 'touch_numeric_keypad',\n",
       "        'cpu_scores', 'dedicated_gpu_scores', 'integrated_gpu_scores',\n",
       "        'AdobeRGB', 'DCI-P3', 'NTSC', 'sRGB'],\n",
       "       dtype='object', length=149))"
      ]
     },
     "execution_count": 2004,
     "metadata": {},
     "output_type": "execute_result"
    }
   ],
   "source": [
    "X_train, X_test = one_hot_encode_col(X_train, X_test, 'ram_type')\n",
    "X_train.columns, X_test.columns"
   ]
  },
  {
   "cell_type": "code",
   "execution_count": 2005,
   "metadata": {},
   "outputs": [
    {
     "data": {
      "text/plain": [
       "(Index(['display_type_0', 'display_type_1', 'display_type_2', 'display_type_3',\n",
       "        'display_type_4', 'ram_type_0', 'ram_type_1', 'ram_type_2',\n",
       "        'ram_type_3', 'ram_type_4',\n",
       "        ...\n",
       "        'li_ion_battery_type', 'ultrabook', 'touch_numeric_keypad',\n",
       "        'cpu_scores', 'dedicated_gpu_scores', 'integrated_gpu_scores',\n",
       "        'AdobeRGB', 'DCI-P3', 'NTSC', 'sRGB'],\n",
       "       dtype='object', length=153),\n",
       " Index(['display_type_0', 'display_type_1', 'display_type_2', 'display_type_3',\n",
       "        'display_type_4', 'ram_type_0', 'ram_type_1', 'ram_type_2',\n",
       "        'ram_type_3', 'ram_type_4',\n",
       "        ...\n",
       "        'li_ion_battery_type', 'ultrabook', 'touch_numeric_keypad',\n",
       "        'cpu_scores', 'dedicated_gpu_scores', 'integrated_gpu_scores',\n",
       "        'AdobeRGB', 'DCI-P3', 'NTSC', 'sRGB'],\n",
       "       dtype='object', length=153))"
      ]
     },
     "execution_count": 2005,
     "metadata": {},
     "output_type": "execute_result"
    }
   ],
   "source": [
    "X_train, X_test = one_hot_encode_col(X_train, X_test, 'display_type')\n",
    "X_train.columns, X_test.columns"
   ]
  },
  {
   "cell_type": "code",
   "execution_count": 2006,
   "metadata": {},
   "outputs": [
    {
     "name": "stdout",
     "output_type": "stream",
     "text": [
      "col_name = adaptive_sync_technology\n",
      "col_dtype = object\n",
      "\n",
      "unique_values_counts:\n",
      "\n",
      "нет              559\n",
      "NVIDIA G-SYNC     67\n",
      "NaN               67\n",
      "Adaptive-Sync     29\n",
      "AMD FreeSync       6\n",
      "Name: adaptive_sync_technology, dtype: int64\n"
     ]
    }
   ],
   "source": [
    "col_info('adaptive_sync_technology')"
   ]
  },
  {
   "cell_type": "code",
   "execution_count": 2007,
   "metadata": {},
   "outputs": [
    {
     "data": {
      "text/plain": [
       "(Index(['adaptive_sync_technology_0', 'adaptive_sync_technology_1',\n",
       "        'adaptive_sync_technology_2', 'adaptive_sync_technology_3',\n",
       "        'display_type_0', 'display_type_1', 'display_type_2', 'display_type_3',\n",
       "        'display_type_4', 'ram_type_0',\n",
       "        ...\n",
       "        'li_ion_battery_type', 'ultrabook', 'touch_numeric_keypad',\n",
       "        'cpu_scores', 'dedicated_gpu_scores', 'integrated_gpu_scores',\n",
       "        'AdobeRGB', 'DCI-P3', 'NTSC', 'sRGB'],\n",
       "       dtype='object', length=156),\n",
       " Index(['adaptive_sync_technology_0', 'adaptive_sync_technology_1',\n",
       "        'adaptive_sync_technology_2', 'adaptive_sync_technology_3',\n",
       "        'display_type_0', 'display_type_1', 'display_type_2', 'display_type_3',\n",
       "        'display_type_4', 'ram_type_0',\n",
       "        ...\n",
       "        'li_ion_battery_type', 'ultrabook', 'touch_numeric_keypad',\n",
       "        'cpu_scores', 'dedicated_gpu_scores', 'integrated_gpu_scores',\n",
       "        'AdobeRGB', 'DCI-P3', 'NTSC', 'sRGB'],\n",
       "       dtype='object', length=156))"
      ]
     },
     "execution_count": 2007,
     "metadata": {},
     "output_type": "execute_result"
    }
   ],
   "source": [
    "X_train['adaptive_sync_technology'] = X_train.adaptive_sync_technology.fillna(X_train.adaptive_sync_technology.mode().values[0])\n",
    "X_test['adaptive_sync_technology'] = X_test.adaptive_sync_technology.fillna(X_test.adaptive_sync_technology.mode().values[0])\n",
    "X_train, X_test = one_hot_encode_col(X_train, X_test, 'adaptive_sync_technology')\n",
    "X_train.columns, X_test.columns"
   ]
  },
  {
   "cell_type": "code",
   "execution_count": 2008,
   "metadata": {},
   "outputs": [
    {
     "data": {
      "text/plain": [
       "(Index(['brand_name_0', 'brand_name_1', 'brand_name_2', 'brand_name_3',\n",
       "        'brand_name_4', 'brand_name_5', 'brand_name_6', 'brand_name_7',\n",
       "        'brand_name_8', 'adaptive_sync_technology_0',\n",
       "        ...\n",
       "        'li_ion_battery_type', 'ultrabook', 'touch_numeric_keypad',\n",
       "        'cpu_scores', 'dedicated_gpu_scores', 'integrated_gpu_scores',\n",
       "        'AdobeRGB', 'DCI-P3', 'NTSC', 'sRGB'],\n",
       "       dtype='object', length=164),\n",
       " Index(['brand_name_0', 'brand_name_1', 'brand_name_2', 'brand_name_3',\n",
       "        'brand_name_4', 'brand_name_5', 'brand_name_6', 'brand_name_7',\n",
       "        'brand_name_8', 'adaptive_sync_technology_0',\n",
       "        ...\n",
       "        'li_ion_battery_type', 'ultrabook', 'touch_numeric_keypad',\n",
       "        'cpu_scores', 'dedicated_gpu_scores', 'integrated_gpu_scores',\n",
       "        'AdobeRGB', 'DCI-P3', 'NTSC', 'sRGB'],\n",
       "       dtype='object', length=164))"
      ]
     },
     "execution_count": 2008,
     "metadata": {},
     "output_type": "execute_result"
    }
   ],
   "source": [
    "X_train, X_test = one_hot_encode_col(X_train, X_test, 'brand_name')\n",
    "X_train.columns, X_test.columns"
   ]
  },
  {
   "cell_type": "code",
   "execution_count": 2009,
   "metadata": {},
   "outputs": [
    {
     "data": {
      "text/plain": [
       "(Series([], dtype: object), Series([], dtype: object))"
      ]
     },
     "execution_count": 2009,
     "metadata": {},
     "output_type": "execute_result"
    }
   ],
   "source": [
    "X_train.dtypes[X_train.dtypes == object], X_test.dtypes[X_test.dtypes == object]"
   ]
  },
  {
   "cell_type": "code",
   "execution_count": 2010,
   "metadata": {},
   "outputs": [],
   "source": [
    "### filling nan's"
   ]
  },
  {
   "cell_type": "code",
   "execution_count": 2011,
   "metadata": {},
   "outputs": [
    {
     "data": {
      "text/plain": [
       "Index(['max_cpu_frequency', 'weight', 'pixel_response_time', 'depth',\n",
       "       'battery_capacity', 'l2_cache', 'l3_cache', 'screen_refresh_rate',\n",
       "       'threads_num', 'intel_optane_drive_capacity', 'usb_power_delivery',\n",
       "       'keyboard_backlight', 'estimated_battery_life', 'M_2_connector',\n",
       "       'cpu_lithography', 'cpu_frequency', 'ram_frequency', 'width',\n",
       "       'release_year', 'memory_slots_num', 'glossy_display',\n",
       "       'integrated_gpu_scores', 'AdobeRGB', 'DCI-P3', 'NTSC', 'sRGB'],\n",
       "      dtype='object')"
      ]
     },
     "execution_count": 2011,
     "metadata": {},
     "output_type": "execute_result"
    }
   ],
   "source": [
    "data.columns[(data.dtypes != object) & data.isnull().any()]"
   ]
  },
  {
   "cell_type": "code",
   "execution_count": 2012,
   "metadata": {},
   "outputs": [
    {
     "name": "stdout",
     "output_type": "stream",
     "text": [
      "col_name = max_cpu_frequency\n",
      "col_dtype = float64\n",
      "\n",
      "unique_values_counts:\n",
      "\n",
      "4.2    91\n",
      "4.5    85\n",
      "5.0    71\n",
      "3.7    60\n",
      "4.0    58\n",
      "4.1    54\n",
      "3.6    41\n",
      "3.4    36\n",
      "3.9    32\n",
      "4.8    30\n",
      "4.7    27\n",
      "5.1    24\n",
      "3.5    21\n",
      "NaN    21\n",
      "3.1    15\n",
      "4.9    11\n",
      "3.2     9\n",
      "2.8     5\n",
      "5.3     5\n",
      "4.4     5\n",
      "3.3     5\n",
      "2.7     5\n",
      "2.2     3\n",
      "2.6     3\n",
      "3.8     3\n",
      "2.9     2\n",
      "4.6     2\n",
      "3.0     2\n",
      "4.3     1\n",
      "2.4     1\n",
      "Name: max_cpu_frequency, dtype: int64\n"
     ]
    }
   ],
   "source": [
    "col_info('max_cpu_frequency')"
   ]
  },
  {
   "cell_type": "code",
   "execution_count": 2013,
   "metadata": {},
   "outputs": [],
   "source": [
    "col = 'max_cpu_frequency'\n",
    "X_train[col] = X_train[col].fillna(X_train[col].mean())\n",
    "X_test[col] = X_test[col].fillna(X_test[col].mean())"
   ]
  },
  {
   "cell_type": "code",
   "execution_count": 2014,
   "metadata": {},
   "outputs": [
    {
     "name": "stdout",
     "output_type": "stream",
     "text": [
      "col_name = weight\n",
      "col_dtype = float64\n",
      "\n",
      "unique_values_counts:\n",
      "\n",
      "1.900    57\n",
      "2.300    47\n",
      "1.800    46\n",
      "2.200    34\n",
      "2.600    26\n",
      "         ..\n",
      "1.005     1\n",
      "1.470     1\n",
      "1.790     1\n",
      "1.210     1\n",
      "1.150     1\n",
      "Name: weight, Length: 91, dtype: int64\n"
     ]
    }
   ],
   "source": [
    "col_info('weight')"
   ]
  },
  {
   "cell_type": "code",
   "execution_count": 2015,
   "metadata": {},
   "outputs": [
    {
     "data": {
      "text/plain": [
       "11"
      ]
     },
     "execution_count": 2015,
     "metadata": {},
     "output_type": "execute_result"
    }
   ],
   "source": [
    "data.weight.isnull().sum()"
   ]
  },
  {
   "cell_type": "code",
   "execution_count": 2016,
   "metadata": {},
   "outputs": [],
   "source": [
    "col = 'weight'\n",
    "X_train[col] = X_train[col].fillna(X_train[col].mean())\n",
    "X_test[col] = X_test[col].fillna(X_test[col].mean())"
   ]
  },
  {
   "cell_type": "code",
   "execution_count": 2017,
   "metadata": {},
   "outputs": [
    {
     "name": "stdout",
     "output_type": "stream",
     "text": [
      "col_name = pixel_response_time\n",
      "col_dtype = float64\n",
      "\n",
      "unique_values_counts:\n",
      "\n",
      "NaN    690\n",
      "3.0     32\n",
      "7.0      6\n",
      "Name: pixel_response_time, dtype: int64\n"
     ]
    }
   ],
   "source": [
    "col_info('pixel_response_time')"
   ]
  },
  {
   "cell_type": "code",
   "execution_count": 2018,
   "metadata": {},
   "outputs": [],
   "source": [
    "X_train.drop('pixel_response_time', axis = 1, inplace = True, errors = 'ignore')\n",
    "X_test.drop('pixel_response_time', axis = 1, inplace = True, errors = 'ignore')"
   ]
  },
  {
   "cell_type": "code",
   "execution_count": 2019,
   "metadata": {},
   "outputs": [
    {
     "name": "stdout",
     "output_type": "stream",
     "text": [
      "col_name = depth\n",
      "col_dtype = float64\n",
      "\n",
      "unique_values_counts:\n",
      "\n",
      "255.0    42\n",
      "250.5    31\n",
      "228.0    28\n",
      "233.8    23\n",
      "208.0    23\n",
      "         ..\n",
      "225.0     1\n",
      "240.0     1\n",
      "204.5     1\n",
      "263.0     1\n",
      "226.4     1\n",
      "Name: depth, Length: 121, dtype: int64\n"
     ]
    }
   ],
   "source": [
    "col_info('depth')"
   ]
  },
  {
   "cell_type": "code",
   "execution_count": 2020,
   "metadata": {},
   "outputs": [
    {
     "data": {
      "text/plain": [
       "1"
      ]
     },
     "execution_count": 2020,
     "metadata": {},
     "output_type": "execute_result"
    }
   ],
   "source": [
    "data.depth.isnull().sum()"
   ]
  },
  {
   "cell_type": "code",
   "execution_count": 2021,
   "metadata": {},
   "outputs": [],
   "source": [
    "col = 'depth'\n",
    "X_train[col] = X_train[col].fillna(X_train[col].mean())\n",
    "X_test[col] = X_test[col].fillna(X_test[col].mean())"
   ]
  },
  {
   "cell_type": "code",
   "execution_count": 2022,
   "metadata": {},
   "outputs": [
    {
     "name": "stdout",
     "output_type": "stream",
     "text": [
      "col_name = battery_capacity\n",
      "col_dtype = float64\n",
      "\n",
      "unique_values_counts:\n",
      "\n",
      "NaN            175\n",
      "3693.693694     34\n",
      "4684.684685     28\n",
      "5045.045045     26\n",
      "4343.000000     23\n",
      "              ... \n",
      "5171.171171      1\n",
      "4955.000000      1\n",
      "5063.063063      1\n",
      "8108.108108      1\n",
      "3333.333333      1\n",
      "Name: battery_capacity, Length: 95, dtype: int64\n"
     ]
    }
   ],
   "source": [
    "col_info('battery_capacity')"
   ]
  },
  {
   "cell_type": "code",
   "execution_count": 2023,
   "metadata": {},
   "outputs": [],
   "source": [
    "col = 'battery_capacity'\n",
    "X_train[col + '_is_missing'] = X_train[col].isnull()\n",
    "X_train[col] = X_train[col].fillna(X_train[col].mean())\n",
    "X_test[col + '_is_missing'] = X_test[col].isnull()\n",
    "X_test[col] = X_test[col].fillna(X_test[col].mean())"
   ]
  },
  {
   "cell_type": "code",
   "execution_count": 2024,
   "metadata": {},
   "outputs": [
    {
     "name": "stdout",
     "output_type": "stream",
     "text": [
      "col_name = l2_cache\n",
      "col_dtype = float64\n",
      "\n",
      "unique_values_counts:\n",
      "\n",
      "1.0    249\n",
      "2.0    163\n",
      "1.5    104\n",
      "4.0     81\n",
      "3.0     52\n",
      "5.0     51\n",
      "0.5     17\n",
      "2.5      7\n",
      "NaN      4\n",
      "Name: l2_cache, dtype: int64\n"
     ]
    }
   ],
   "source": [
    "col_info('l2_cache')"
   ]
  },
  {
   "cell_type": "code",
   "execution_count": 2025,
   "metadata": {},
   "outputs": [],
   "source": [
    "col = 'l2_cache'\n",
    "X_train[col] = X_train[col].fillna(X_train[col].mode().values[0])\n",
    "X_test[col] = X_test[col].fillna(X_test[col].mode().values[0])"
   ]
  },
  {
   "cell_type": "code",
   "execution_count": 2026,
   "metadata": {},
   "outputs": [
    {
     "name": "stdout",
     "output_type": "stream",
     "text": [
      "col_name = l3_cache\n",
      "col_dtype = float64\n",
      "\n",
      "unique_values_counts:\n",
      "\n",
      "8.0     267\n",
      "12.0    135\n",
      "4.0     126\n",
      "6.0     103\n",
      "16.0     36\n",
      "0.0      35\n",
      "2.0      19\n",
      "NaN       4\n",
      "3.0       2\n",
      "9.0       1\n",
      "Name: l3_cache, dtype: int64\n"
     ]
    }
   ],
   "source": [
    "col_info('l3_cache')"
   ]
  },
  {
   "cell_type": "code",
   "execution_count": 2027,
   "metadata": {},
   "outputs": [],
   "source": [
    "col = 'l3_cache'\n",
    "X_train[col] = X_train[col].fillna(X_train[col].mode().values[0])\n",
    "X_test[col] = X_test[col].fillna(X_test[col].mode().values[0])"
   ]
  },
  {
   "cell_type": "code",
   "execution_count": 2028,
   "metadata": {},
   "outputs": [
    {
     "name": "stdout",
     "output_type": "stream",
     "text": [
      "col_name = screen_refresh_rate\n",
      "col_dtype = float64\n",
      "\n",
      "unique_values_counts:\n",
      "\n",
      "60.0     545\n",
      "144.0     94\n",
      "120.0     48\n",
      "NaN       15\n",
      "300.0     13\n",
      "240.0     13\n",
      "Name: screen_refresh_rate, dtype: int64\n"
     ]
    }
   ],
   "source": [
    "col_info('screen_refresh_rate')"
   ]
  },
  {
   "cell_type": "code",
   "execution_count": 2029,
   "metadata": {},
   "outputs": [],
   "source": [
    "col = 'screen_refresh_rate'\n",
    "X_train[col] = X_train[col].fillna(X_train[col].mode().values[0])\n",
    "X_test[col] = X_test[col].fillna(X_test[col].mode().values[0])"
   ]
  },
  {
   "cell_type": "code",
   "execution_count": 2030,
   "metadata": {},
   "outputs": [
    {
     "name": "stdout",
     "output_type": "stream",
     "text": [
      "col_name = threads_num\n",
      "col_dtype = float64\n",
      "\n",
      "unique_values_counts:\n",
      "\n",
      "8.0     335\n",
      "4.0     131\n",
      "12.0    127\n",
      "16.0     79\n",
      "6.0      29\n",
      "2.0      26\n",
      "NaN       1\n",
      "Name: threads_num, dtype: int64\n"
     ]
    }
   ],
   "source": [
    "col_info('threads_num')"
   ]
  },
  {
   "cell_type": "code",
   "execution_count": 2031,
   "metadata": {},
   "outputs": [],
   "source": [
    "col = 'threads_num'\n",
    "X_train[col] = X_train[col].fillna(X_train[col].mode().values[0])\n",
    "X_test[col] = X_test[col].fillna(X_test[col].mode().values[0])"
   ]
  },
  {
   "cell_type": "code",
   "execution_count": 2032,
   "metadata": {},
   "outputs": [
    {
     "name": "stdout",
     "output_type": "stream",
     "text": [
      "col_name = intel_optane_drive_capacity\n",
      "col_dtype = float64\n",
      "\n",
      "unique_values_counts:\n",
      "\n",
      "0.0     722\n",
      "NaN       5\n",
      "32.0      1\n",
      "Name: intel_optane_drive_capacity, dtype: int64\n"
     ]
    }
   ],
   "source": [
    "col_info('intel_optane_drive_capacity')"
   ]
  },
  {
   "cell_type": "code",
   "execution_count": 2033,
   "metadata": {},
   "outputs": [],
   "source": [
    "X_train.drop('intel_optane_drive_capacity', axis = 1, inplace = True, errors = 'ignore')\n",
    "X_test.drop('intel_optane_drive_capacity', axis = 1, inplace = True, errors = 'ignore')"
   ]
  },
  {
   "cell_type": "code",
   "execution_count": 2034,
   "metadata": {},
   "outputs": [
    {
     "name": "stdout",
     "output_type": "stream",
     "text": [
      "col_name = usb_power_delivery\n",
      "col_dtype = float64\n",
      "\n",
      "unique_values_counts:\n",
      "\n",
      "0.0    361\n",
      "1.0    197\n",
      "NaN    170\n",
      "Name: usb_power_delivery, dtype: int64\n"
     ]
    }
   ],
   "source": [
    "col_info('usb_power_delivery')"
   ]
  },
  {
   "cell_type": "code",
   "execution_count": 2035,
   "metadata": {},
   "outputs": [],
   "source": [
    "col = 'usb_power_delivery'\n",
    "X_train[col + '_is_missing'] = X_train[col].isnull()\n",
    "X_train[col] = X_train[col].fillna(X_train[col].mode().values[0])\n",
    "X_test[col + '_is_missing'] = X_test[col].isnull()\n",
    "X_test[col] = X_test[col].fillna(X_test[col].mode().values[0])"
   ]
  },
  {
   "cell_type": "code",
   "execution_count": 2036,
   "metadata": {},
   "outputs": [
    {
     "name": "stdout",
     "output_type": "stream",
     "text": [
      "col_name = keyboard_backlight\n",
      "col_dtype = float64\n",
      "\n",
      "unique_values_counts:\n",
      "\n",
      "1.0    562\n",
      "0.0    150\n",
      "NaN      8\n",
      "0.5      8\n",
      "Name: keyboard_backlight, dtype: int64\n"
     ]
    }
   ],
   "source": [
    "col_info('keyboard_backlight')"
   ]
  },
  {
   "cell_type": "code",
   "execution_count": 2037,
   "metadata": {},
   "outputs": [],
   "source": [
    "col = 'keyboard_backlight'\n",
    "X_train[col] = X_train[col].fillna(X_train[col].mode().values[0])\n",
    "X_test[col] = X_test[col].fillna(X_test[col].mode().values[0])"
   ]
  },
  {
   "cell_type": "code",
   "execution_count": 2038,
   "metadata": {},
   "outputs": [
    {
     "name": "stdout",
     "output_type": "stream",
     "text": [
      "col_name = estimated_battery_life\n",
      "col_dtype = float64\n",
      "\n",
      "unique_values_counts:\n",
      "\n",
      "NaN     176\n",
      "8.0      96\n",
      "7.0      63\n",
      "10.0     55\n",
      "6.0      50\n",
      "12.0     42\n",
      "11.0     35\n",
      "5.0      35\n",
      "4.0      34\n",
      "9.0      31\n",
      "14.0     26\n",
      "3.0      22\n",
      "11.5     11\n",
      "15.0      8\n",
      "16.0      7\n",
      "10.5      5\n",
      "24.0      5\n",
      "17.0      4\n",
      "22.0      4\n",
      "13.0      3\n",
      "13.5      3\n",
      "18.0      3\n",
      "17.5      2\n",
      "20.0      2\n",
      "19.3      2\n",
      "4.5       1\n",
      "15.9      1\n",
      "3.5       1\n",
      "2.5       1\n",
      "Name: estimated_battery_life, dtype: int64\n"
     ]
    }
   ],
   "source": [
    "col_info('estimated_battery_life')"
   ]
  },
  {
   "cell_type": "code",
   "execution_count": 2039,
   "metadata": {},
   "outputs": [],
   "source": [
    "col = 'estimated_battery_life'\n",
    "X_train[col + '_is_missing'] = X_train[col].isnull()\n",
    "X_train[col] = X_train[col].fillna(X_train[col].mean())\n",
    "X_test[col + '_is_missing'] = X_test[col].isnull()\n",
    "X_test[col] = X_test[col].fillna(X_test[col].mean())"
   ]
  },
  {
   "cell_type": "code",
   "execution_count": 2040,
   "metadata": {},
   "outputs": [
    {
     "name": "stdout",
     "output_type": "stream",
     "text": [
      "col_name = M_2_connector\n",
      "col_dtype = float64\n",
      "\n",
      "unique_values_counts:\n",
      "\n",
      "1.0    700\n",
      "0.0     21\n",
      "NaN      7\n",
      "Name: M_2_connector, dtype: int64\n"
     ]
    }
   ],
   "source": [
    "col_info('M_2_connector')"
   ]
  },
  {
   "cell_type": "code",
   "execution_count": 2041,
   "metadata": {},
   "outputs": [],
   "source": [
    "col = 'M_2_connector'\n",
    "X_train[col] = X_train[col].fillna(X_train[col].mode().values[0])\n",
    "X_test[col] = X_test[col].fillna(X_test[col].mode().values[0])"
   ]
  },
  {
   "cell_type": "code",
   "execution_count": 2042,
   "metadata": {},
   "outputs": [
    {
     "name": "stdout",
     "output_type": "stream",
     "text": [
      "col_name = cpu_lithography\n",
      "col_dtype = float64\n",
      "\n",
      "unique_values_counts:\n",
      "\n",
      "14.0    379\n",
      "10.0    180\n",
      "7.0     124\n",
      "12.0     30\n",
      "28.0     10\n",
      "NaN       3\n",
      "5.0       2\n",
      "Name: cpu_lithography, dtype: int64\n"
     ]
    }
   ],
   "source": [
    "col_info('cpu_lithography')"
   ]
  },
  {
   "cell_type": "code",
   "execution_count": 2043,
   "metadata": {},
   "outputs": [],
   "source": [
    "col = 'cpu_lithography'\n",
    "X_train[col] = X_train[col].fillna(X_train[col].mode().values[0])\n",
    "X_test[col] = X_test[col].fillna(X_test[col].mode().values[0])"
   ]
  },
  {
   "cell_type": "code",
   "execution_count": 2044,
   "metadata": {},
   "outputs": [
    {
     "name": "stdout",
     "output_type": "stream",
     "text": [
      "col_name = cpu_frequency\n",
      "col_dtype = float64\n",
      "\n",
      "unique_values_counts:\n",
      "\n",
      "2.6    124\n",
      "2.3     85\n",
      "2.4     67\n",
      "2.5     53\n",
      "1.0     41\n",
      "2.1     39\n",
      "1.8     37\n",
      "1.1     37\n",
      "1.6     36\n",
      "1.2     35\n",
      "2.9     31\n",
      "1.3     29\n",
      "3.0     27\n",
      "2.0     25\n",
      "2.8     24\n",
      "2.7     17\n",
      "1.5      5\n",
      "3.3      5\n",
      "3.1      3\n",
      "1.7      3\n",
      "NaN      2\n",
      "2.2      2\n",
      "1.4      1\n",
      "Name: cpu_frequency, dtype: int64\n"
     ]
    }
   ],
   "source": [
    "col_info('cpu_frequency')"
   ]
  },
  {
   "cell_type": "code",
   "execution_count": 2045,
   "metadata": {},
   "outputs": [],
   "source": [
    "col = 'cpu_frequency'\n",
    "X_train[col] = X_train[col].fillna(X_train[col].mean())\n",
    "X_test[col] = X_test[col].fillna(X_test[col].mean())"
   ]
  },
  {
   "cell_type": "code",
   "execution_count": 2046,
   "metadata": {},
   "outputs": [
    {
     "name": "stdout",
     "output_type": "stream",
     "text": [
      "col_name = ram_frequency\n",
      "col_dtype = float64\n",
      "\n",
      "unique_values_counts:\n",
      "\n",
      "2666.0    197\n",
      "3200.0    177\n",
      "2933.0    109\n",
      "2400.0     92\n",
      "2133.0     73\n",
      "NaN        49\n",
      "3733.0     14\n",
      "1866.0     10\n",
      "4266.0      4\n",
      "1600.0      3\n",
      "Name: ram_frequency, dtype: int64\n"
     ]
    }
   ],
   "source": [
    "col_info('ram_frequency')"
   ]
  },
  {
   "cell_type": "code",
   "execution_count": 2047,
   "metadata": {},
   "outputs": [],
   "source": [
    "col = 'ram_frequency'\n",
    "X_train[col + '_is_missing'] = X_train[col].isnull()\n",
    "X_train[col] = X_train[col].fillna(X_train[col].mean())\n",
    "X_test[col + '_is_missing'] = X_test[col].isnull()\n",
    "X_test[col] = X_test[col].fillna(X_test[col].mean())"
   ]
  },
  {
   "cell_type": "code",
   "execution_count": 2048,
   "metadata": {},
   "outputs": [
    {
     "name": "stdout",
     "output_type": "stream",
     "text": [
      "col_name = width\n",
      "col_dtype = float64\n",
      "\n",
      "unique_values_counts:\n",
      "\n",
      "363.4    87\n",
      "360.0    46\n",
      "358.5    37\n",
      "359.0    30\n",
      "324.0    26\n",
      "         ..\n",
      "399.7     1\n",
      "311.5     1\n",
      "311.0     1\n",
      "284.4     1\n",
      "359.9     1\n",
      "Name: width, Length: 101, dtype: int64\n"
     ]
    }
   ],
   "source": [
    "col_info('width')"
   ]
  },
  {
   "cell_type": "code",
   "execution_count": 2049,
   "metadata": {},
   "outputs": [
    {
     "data": {
      "text/plain": [
       "1"
      ]
     },
     "execution_count": 2049,
     "metadata": {},
     "output_type": "execute_result"
    }
   ],
   "source": [
    "data.width.isnull().sum()"
   ]
  },
  {
   "cell_type": "code",
   "execution_count": 2050,
   "metadata": {},
   "outputs": [],
   "source": [
    "col = 'width'\n",
    "X_train[col] = X_train[col].fillna(X_train[col].mean())\n",
    "X_test[col] = X_test[col].fillna(X_test[col].mean())"
   ]
  },
  {
   "cell_type": "code",
   "execution_count": 2051,
   "metadata": {},
   "outputs": [
    {
     "name": "stdout",
     "output_type": "stream",
     "text": [
      "col_name = release_year\n",
      "col_dtype = float64\n",
      "\n",
      "unique_values_counts:\n",
      "\n",
      "2020.0    652\n",
      "2019.0     65\n",
      "NaN         7\n",
      "2017.0      2\n",
      "2018.0      2\n",
      "Name: release_year, dtype: int64\n"
     ]
    }
   ],
   "source": [
    "col_info('release_year')"
   ]
  },
  {
   "cell_type": "code",
   "execution_count": 2052,
   "metadata": {},
   "outputs": [],
   "source": [
    "col = 'release_year'\n",
    "X_train[col] = X_train[col].fillna(X_train[col].mode().values[0])\n",
    "X_test[col] = X_test[col].fillna(X_test[col].mode().values[0])"
   ]
  },
  {
   "cell_type": "code",
   "execution_count": 2053,
   "metadata": {},
   "outputs": [
    {
     "name": "stdout",
     "output_type": "stream",
     "text": [
      "col_name = memory_slots_num\n",
      "col_dtype = float64\n",
      "\n",
      "unique_values_counts:\n",
      "\n",
      "2.0    315\n",
      "0.0    193\n",
      "1.0    167\n",
      "NaN     48\n",
      "4.0      5\n",
      "Name: memory_slots_num, dtype: int64\n"
     ]
    }
   ],
   "source": [
    "col_info('memory_slots_num')"
   ]
  },
  {
   "cell_type": "code",
   "execution_count": 2054,
   "metadata": {},
   "outputs": [],
   "source": [
    "col = 'memory_slots_num'\n",
    "X_train[col + '_is_missing'] = X_train[col].isnull()\n",
    "X_train[col] = X_train[col].fillna(X_train[col].mode().values[0])\n",
    "X_test[col + '_is_missing'] = X_test[col].isnull()\n",
    "X_test[col] = X_test[col].fillna(X_test[col].mode().values[0])"
   ]
  },
  {
   "cell_type": "code",
   "execution_count": 2055,
   "metadata": {},
   "outputs": [
    {
     "name": "stdout",
     "output_type": "stream",
     "text": [
      "col_name = glossy_display\n",
      "col_dtype = float64\n",
      "\n",
      "unique_values_counts:\n",
      "\n",
      "0.0    629\n",
      "1.0     86\n",
      "NaN     13\n",
      "Name: glossy_display, dtype: int64\n"
     ]
    }
   ],
   "source": [
    "col_info('glossy_display')"
   ]
  },
  {
   "cell_type": "code",
   "execution_count": 2056,
   "metadata": {},
   "outputs": [],
   "source": [
    "col = 'glossy_display'\n",
    "X_train[col] = X_train[col].fillna(X_train[col].mode().values[0])\n",
    "X_test[col] = X_test[col].fillna(X_test[col].mode().values[0])"
   ]
  },
  {
   "cell_type": "code",
   "execution_count": 2057,
   "metadata": {},
   "outputs": [
    {
     "name": "stdout",
     "output_type": "stream",
     "text": [
      "col_name = integrated_gpu_scores\n",
      "col_dtype = float64\n",
      "\n",
      "unique_values_counts:\n",
      "\n",
      "1163.0     208\n",
      "1920.0     111\n",
      "920.0       59\n",
      "2918.0      54\n",
      "1255.0      48\n",
      "1878.0      47\n",
      "3730.0      47\n",
      "1578.0      34\n",
      "897.0       26\n",
      "366.0       20\n",
      "2790.0      17\n",
      "NaN         14\n",
      "460.0        8\n",
      "1524.0       6\n",
      "333.0        6\n",
      "307.0        6\n",
      "667.0        5\n",
      "407.0        3\n",
      "339.0        2\n",
      "767.0        2\n",
      "842.0        2\n",
      "14189.0      2\n",
      "1789.0       1\n",
      "Name: integrated_gpu_scores, dtype: int64\n"
     ]
    }
   ],
   "source": [
    "col_info('integrated_gpu_scores')"
   ]
  },
  {
   "cell_type": "code",
   "execution_count": 2058,
   "metadata": {},
   "outputs": [],
   "source": [
    "col = 'integrated_gpu_scores'\n",
    "X_train[col] = X_train[col].fillna(X_train[col].mean())\n",
    "X_test[col] = X_test[col].fillna(X_test[col].mean())"
   ]
  },
  {
   "cell_type": "code",
   "execution_count": 2059,
   "metadata": {},
   "outputs": [
    {
     "name": "stdout",
     "output_type": "stream",
     "text": [
      "col_name = AdobeRGB\n",
      "col_dtype = float64\n",
      "\n",
      "unique_values_counts:\n",
      "\n",
      "NaN      614\n",
      "100.0     29\n",
      "50.0      21\n",
      "39.0      10\n",
      "48.0       9\n",
      "37.0       5\n",
      "36.0       5\n",
      "47.0       5\n",
      "77.0       5\n",
      "60.0       5\n",
      "63.0       5\n",
      "59.0       3\n",
      "41.0       3\n",
      "67.0       3\n",
      "65.0       2\n",
      "58.0       2\n",
      "38.0       1\n",
      "64.0       1\n",
      "Name: AdobeRGB, dtype: int64\n"
     ]
    }
   ],
   "source": [
    "col_info('AdobeRGB')"
   ]
  },
  {
   "cell_type": "code",
   "execution_count": 2060,
   "metadata": {},
   "outputs": [],
   "source": [
    "X_train.drop('AdobeRGB', axis = 1, inplace = True, errors = 'ignore')\n",
    "X_test.drop('AdobeRGB', axis = 1, inplace = True, errors = 'ignore')"
   ]
  },
  {
   "cell_type": "code",
   "execution_count": 2061,
   "metadata": {},
   "outputs": [
    {
     "name": "stdout",
     "output_type": "stream",
     "text": [
      "col_name = DCI-P3\n",
      "col_dtype = float64\n",
      "\n",
      "unique_values_counts:\n",
      "\n",
      "NaN      721\n",
      "100.0      5\n",
      "90.0       2\n",
      "Name: DCI-P3, dtype: int64\n"
     ]
    }
   ],
   "source": [
    "col_info('DCI-P3')"
   ]
  },
  {
   "cell_type": "code",
   "execution_count": 2062,
   "metadata": {},
   "outputs": [],
   "source": [
    "X_train.drop('DCI-P3', axis = 1, inplace = True, errors = 'ignore')\n",
    "X_test.drop('DCI-P3', axis = 1, inplace = True, errors = 'ignore')"
   ]
  },
  {
   "cell_type": "code",
   "execution_count": 2063,
   "metadata": {},
   "outputs": [
    {
     "name": "stdout",
     "output_type": "stream",
     "text": [
      "col_name = NTSC\n",
      "col_dtype = float64\n",
      "\n",
      "unique_values_counts:\n",
      "\n",
      "NaN     443\n",
      "45.0    220\n",
      "72.0     49\n",
      "60.0      7\n",
      "46.0      5\n",
      "70.0      4\n",
      "Name: NTSC, dtype: int64\n"
     ]
    }
   ],
   "source": [
    "col_info('NTSC')"
   ]
  },
  {
   "cell_type": "code",
   "execution_count": 2064,
   "metadata": {},
   "outputs": [],
   "source": [
    "col = 'NTSC'\n",
    "X_train[col + '_is_missing'] = X_train[col].isnull()\n",
    "X_train[col] = X_train[col].fillna(X_train[col].mode().values[0])\n",
    "X_test[col + '_is_missing'] = X_test[col].isnull()\n",
    "# X_test[col] = X_test[col].fillna(X_test[col].mode().values[0])\n",
    "X_test[col] = X_test[col].fillna(0)"
   ]
  },
  {
   "cell_type": "code",
   "execution_count": 2065,
   "metadata": {},
   "outputs": [
    {
     "data": {
      "text/plain": [
       "667    72.0\n",
       "708     0.0\n",
       "698     0.0\n",
       "640     0.0\n",
       "678     0.0\n",
       "       ... \n",
       "370    45.0\n",
       "89     45.0\n",
       "522     0.0\n",
       "309    46.0\n",
       "568    72.0\n",
       "Name: NTSC, Length: 219, dtype: float64"
      ]
     },
     "execution_count": 2065,
     "metadata": {},
     "output_type": "execute_result"
    }
   ],
   "source": [
    "X_test[col]"
   ]
  },
  {
   "cell_type": "code",
   "execution_count": 2066,
   "metadata": {},
   "outputs": [
    {
     "name": "stdout",
     "output_type": "stream",
     "text": [
      "col_name = sRGB\n",
      "col_dtype = float64\n",
      "\n",
      "unique_values_counts:\n",
      "\n",
      "NaN      490\n",
      "100.0    130\n",
      "62.0      27\n",
      "67.0      19\n",
      "54.0      13\n",
      "58.0       5\n",
      "65.0       5\n",
      "85.0       5\n",
      "57.0       5\n",
      "94.0       5\n",
      "64.0       4\n",
      "92.0       4\n",
      "59.0       3\n",
      "56.0       3\n",
      "91.0       3\n",
      "99.0       2\n",
      "95.0       1\n",
      "80.0       1\n",
      "98.0       1\n",
      "60.0       1\n",
      "89.0       1\n",
      "Name: sRGB, dtype: int64\n"
     ]
    }
   ],
   "source": [
    "col_info('sRGB')"
   ]
  },
  {
   "cell_type": "code",
   "execution_count": 2067,
   "metadata": {},
   "outputs": [],
   "source": [
    "col = 'sRGB'\n",
    "X_train[col + '_is_missing'] = X_train[col].isnull()\n",
    "X_train[col] = X_train[col].fillna(X_train[col].mode().values[0])\n",
    "X_test[col + '_is_missing'] = X_test[col].isnull()\n",
    "# X_test[col] = X_test[col].fillna(X_test[col].mode().values[0])\n",
    "X_test[col] = X_test[col].fillna(0)"
   ]
  },
  {
   "cell_type": "code",
   "execution_count": 2068,
   "metadata": {},
   "outputs": [
    {
     "data": {
      "text/plain": [
       "(Index([], dtype='object'), Index([], dtype='object'))"
      ]
     },
     "execution_count": 2068,
     "metadata": {},
     "output_type": "execute_result"
    }
   ],
   "source": [
    "X_train.columns[X_train.isnull().any()], X_test.columns[X_test.isnull().any()]"
   ]
  },
  {
   "cell_type": "code",
   "execution_count": 1471,
   "metadata": {},
   "outputs": [],
   "source": [
    "########"
   ]
  },
  {
   "cell_type": "code",
   "execution_count": 1472,
   "metadata": {},
   "outputs": [],
   "source": [
    "from sklearn.ensemble import RandomForestRegressor"
   ]
  },
  {
   "cell_type": "code",
   "execution_count": 1473,
   "metadata": {},
   "outputs": [],
   "source": [
    "# index_to_drop = X_train.average_rating.isnull()\n",
    "# X_train.drop(X_train.index[index_to_drop], inplace = True)\n",
    "# y_train.drop(y_train.index[index_to_drop], inplace = True)\n",
    "# index_to_drop = X_test.average_rating.isnull()\n",
    "# X_test.drop(X_test.index[index_to_drop], inplace = True)\n",
    "# y_test.drop(y_test.index[index_to_drop], inplace = True)"
   ]
  },
  {
   "cell_type": "code",
   "execution_count": null,
   "metadata": {},
   "outputs": [],
   "source": []
  },
  {
   "cell_type": "code",
   "execution_count": 1474,
   "metadata": {},
   "outputs": [
    {
     "data": {
      "text/plain": [
       "0.8794164753961831"
      ]
     },
     "execution_count": 1474,
     "metadata": {},
     "output_type": "execute_result"
    }
   ],
   "source": [
    "reg = RandomForestRegressor(n_estimators=1000, n_jobs = -1).fit(X_train, y_train)\n",
    "reg.score(X_test, y_test)"
   ]
  },
  {
   "cell_type": "code",
   "execution_count": null,
   "metadata": {},
   "outputs": [],
   "source": []
  },
  {
   "cell_type": "code",
   "execution_count": 1475,
   "metadata": {},
   "outputs": [
    {
     "data": {
      "image/png": "[encoded data removed]",
      "text/plain": [
       "<Figure size 1440x720 with 1 Axes>"
      ]
     },
     "metadata": {
      "needs_background": "light"
     },
     "output_type": "display_data"
    }
   ],
   "source": [
    "def get_feature_importances(random_forest_model, keep_first = 15):\n",
    "    tree_feature_importances = random_forest_model.feature_importances_\n",
    "    \n",
    "    sorted_idx = tree_feature_importances.argsort()\n",
    "\n",
    "    y_ticks = np.arange(0, keep_first)\n",
    "    fig, ax = plt.subplots(figsize = (20, 10))\n",
    "    ax.barh(y_ticks, tree_feature_importances[sorted_idx][-keep_first:])\n",
    "    ax.set_yticklabels(X_test.columns[sorted_idx][-keep_first:])\n",
    "    ax.set_yticks(y_ticks)\n",
    "    ax.set_title(\"Random Forest Feature Importances (MDI)\")\n",
    "    fig.tight_layout()\n",
    "    plt.show()\n",
    "    \n",
    "get_feature_importances(reg)"
   ]
  },
  {
   "cell_type": "code",
   "execution_count": 1476,
   "metadata": {},
   "outputs": [],
   "source": [
    "preds = reg.predict(X_test)"
   ]
  },
  {
   "cell_type": "code",
   "execution_count": 1477,
   "metadata": {},
   "outputs": [
    {
     "data": {
      "text/plain": [
       "164     51999.0\n",
       "448     87999.0\n",
       "182     52999.0\n",
       "676    180999.0\n",
       "217     59999.0\n",
       "         ...   \n",
       "88      41999.0\n",
       "84      40999.0\n",
       "184     53999.0\n",
       "535     99999.0\n",
       "141     48999.0\n",
       "Name: price, Length: 219, dtype: float64"
      ]
     },
     "execution_count": 1477,
     "metadata": {},
     "output_type": "execute_result"
    }
   ],
   "source": [
    "y_test"
   ]
  },
  {
   "cell_type": "code",
   "execution_count": 1478,
   "metadata": {},
   "outputs": [
    {
     "name": "stdout",
     "output_type": "stream",
     "text": [
      "         Predict    Price\n",
      "0   34901.400000  24999.0\n",
      "4   31341.000000  28999.0\n",
      "13  35574.000000  32999.0\n",
      "14  42152.933333  32999.0\n",
      "21  35385.400000  34999.0\n",
      "25  37186.133333  34999.0\n",
      "29  38381.000000  34999.0\n",
      "31  36948.000000  35999.0\n",
      "49  44566.833333  36999.0\n",
      "53  37560.400000  37999.0\n",
      "57  44828.666667  37999.0\n",
      "58  38749.500000  37999.0\n",
      "61  43671.000000  38499.0\n",
      "62  35769.400000  38999.0\n",
      "63  42583.500000  38999.0\n",
      "68  46035.000000  39999.0\n",
      "72  44039.000000  39999.0\n",
      "74  36821.000000  39999.0\n",
      "77  47071.066667  39999.0\n",
      "81  41232.000000  39999.0\n"
     ]
    }
   ],
   "source": [
    "res = pd.concat([pd.Series(reg.predict(X_test), index = y_test.index, name = 'Predict'), \\\n",
    "                 pd.Series(y_test, name = \"Price\")], axis = 1).sort_index()\n",
    "print_whole_df(res.head(20))"
   ]
  },
  {
   "cell_type": "code",
   "execution_count": 1479,
   "metadata": {},
   "outputs": [
    {
     "data": {
      "text/plain": [
       "count      219.000000\n",
       "mean     10646.015119\n",
       "std      12982.054709\n",
       "min          0.950000\n",
       "25%       3021.775000\n",
       "50%       6046.222143\n",
       "75%      12936.900000\n",
       "max      94739.200000\n",
       "dtype: float64"
      ]
     },
     "execution_count": 1479,
     "metadata": {},
     "output_type": "execute_result"
    }
   ],
   "source": [
    "(res.Predict - res.Price).abs().describe()"
   ]
  },
  {
   "cell_type": "code",
   "execution_count": 1480,
   "metadata": {},
   "outputs": [
    {
     "data": {
      "text/plain": [
       "<matplotlib.axes._subplots.AxesSubplot at 0x162b29bb9e8>"
      ]
     },
     "execution_count": 1480,
     "metadata": {},
     "output_type": "execute_result"
    },
    {
     "data": {
      "image/png": "[encoded data removed]",
      "text/plain": [
       "<Figure size 432x288 with 1 Axes>"
      ]
     },
     "metadata": {
      "needs_background": "light"
     },
     "output_type": "display_data"
    }
   ],
   "source": [
    "(res.Predict - res.Price).plot(style = 'r.')"
   ]
  },
  {
   "cell_type": "code",
   "execution_count": 1481,
   "metadata": {},
   "outputs": [
    {
     "data": {
      "text/plain": [
       "count      219.000000\n",
       "mean     10646.015119\n",
       "std      12982.054709\n",
       "min          0.950000\n",
       "25%       3021.775000\n",
       "50%       6046.222143\n",
       "75%      12936.900000\n",
       "max      94739.200000\n",
       "dtype: float64"
      ]
     },
     "execution_count": 1481,
     "metadata": {},
     "output_type": "execute_result"
    }
   ],
   "source": [
    "res.apply(lambda vals: vals['Predict'] - vals['Price'], axis = 1).abs().describe()"
   ]
  },
  {
   "cell_type": "code",
   "execution_count": 1482,
   "metadata": {},
   "outputs": [
    {
     "data": {
      "text/plain": [
       "656    52386.900000\n",
       "667    40986.900000\n",
       "471    38474.100000\n",
       "551    38093.450000\n",
       "362    35953.800000\n",
       "           ...     \n",
       "689   -49582.683333\n",
       "691   -52949.400000\n",
       "721   -55989.800000\n",
       "699   -79597.633333\n",
       "715   -94739.200000\n",
       "Length: 219, dtype: float64"
      ]
     },
     "execution_count": 1482,
     "metadata": {},
     "output_type": "execute_result"
    }
   ],
   "source": [
    "res.apply(lambda vals: vals['Predict'] - vals['Price'], axis = 1).sort_values(ascending = False)"
   ]
  },
  {
   "cell_type": "code",
   "execution_count": null,
   "metadata": {},
   "outputs": [],
   "source": []
  },
  {
   "cell_type": "code",
   "execution_count": 1483,
   "metadata": {},
   "outputs": [
    {
     "data": {
      "text/plain": [
       "Predict    55799.75\n",
       "Price      52999.00\n",
       "Name: 175, dtype: float64"
      ]
     },
     "execution_count": 1483,
     "metadata": {},
     "output_type": "execute_result"
    }
   ],
   "source": [
    "res.loc[175]"
   ]
  },
  {
   "cell_type": "code",
   "execution_count": 1484,
   "metadata": {},
   "outputs": [
    {
     "data": {
      "text/plain": [
       "price                    56999\n",
       "max_cpu_frequency            4\n",
       "cpu_architecture          Zen+\n",
       "web_camera                True\n",
       "weight                    1.38\n",
       "                         ...  \n",
       "integrated_gpu_scores     1524\n",
       "AdobeRGB                   NaN\n",
       "DCI-P3                     NaN\n",
       "NTSC                       NaN\n",
       "sRGB                       NaN\n",
       "Name: 203, Length: 105, dtype: object"
      ]
     },
     "execution_count": 1484,
     "metadata": {},
     "output_type": "execute_result"
    }
   ],
   "source": [
    "data.loc[203]"
   ]
  },
  {
   "cell_type": "code",
   "execution_count": 1485,
   "metadata": {},
   "outputs": [
    {
     "data": {
      "image/png": "[encoded data removed]",
      "text/plain": [
       "<Figure size 1224x720 with 1 Axes>"
      ]
     },
     "metadata": {
      "needs_background": "light"
     },
     "output_type": "display_data"
    }
   ],
   "source": [
    "plt.figure(figsize = (17, 10))\n",
    "res.Predict.plot(style = 'r.')\n",
    "res.Price.plot(style = 'b.')\n",
    "for i in range(len(res.index)):\n",
    "    plt.plot(np.repeat(res.index[i], 2), res.values[i], 'k')"
   ]
  },
  {
   "cell_type": "code",
   "execution_count": 2069,
   "metadata": {},
   "outputs": [],
   "source": [
    "pd.concat([X_train, y_train], axis = 1).to_csv('train.csv', index = True)"
   ]
  },
  {
   "cell_type": "code",
   "execution_count": 2070,
   "metadata": {},
   "outputs": [],
   "source": [
    "pd.concat([X_test, y_test], axis = 1).to_csv('test.csv', index = True)"
   ]
  },
  {
   "cell_type": "code",
   "execution_count": null,
   "metadata": {},
   "outputs": [],
   "source": []
  },
  {
   "cell_type": "code",
   "execution_count": null,
   "metadata": {},
   "outputs": [],
   "source": []
  }
 ],
 "metadata": {
  "kernelspec": {
   "display_name": "Python 3",
   "language": "python",
   "name": "python3"
  },
  "language_info": {
   "codemirror_mode": {
    "name": "ipython",
    "version": 3
   },
   "file_extension": ".py",
   "mimetype": "text/x-python",
   "name": "python",
   "nbconvert_exporter": "python",
   "pygments_lexer": "ipython3",
   "version": "3.6.10"
  }
 },
 "nbformat": 4,
 "nbformat_minor": 4
}
